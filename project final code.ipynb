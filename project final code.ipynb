{
 "cells": [
  {
   "cell_type": "markdown",
   "metadata": {},
   "source": [
    "# High level design:\n",
    "  * forecasting model consist of following steps:\n",
    "    * collecting and uploading the data\n",
    "    * plotting the time-series data\n",
    "    * Exploratory data analysis\n",
    "    * make the time series data stationary\n",
    "    * plotting the correlation and auto correlation plots\n",
    "    * splitting the data into two parts as time series data cannot be splitted randomly.\n",
    "    * building the model and validating it\n",
    "    * deployment"
   ]
  },
  {
   "cell_type": "code",
   "execution_count": 1,
   "metadata": {
    "ExecuteTime": {
     "end_time": "2021-09-12T17:20:12.911463Z",
     "start_time": "2021-09-12T17:20:10.008930Z"
    }
   },
   "outputs": [
    {
     "name": "stdout",
     "output_type": "stream",
     "text": [
      "Requirement already satisfied: streamlit in c:\\users\\91770\\anaconda3\\lib\\site-packages (0.79.0)\n",
      "Requirement already satisfied: blinker in c:\\users\\91770\\anaconda3\\lib\\site-packages (from streamlit) (1.4)\n",
      "Requirement already satisfied: protobuf!=3.11,>=3.6.0 in c:\\users\\91770\\anaconda3\\lib\\site-packages (from streamlit) (3.15.7)\n",
      "Requirement already satisfied: altair>=3.2.0 in c:\\users\\91770\\anaconda3\\lib\\site-packages (from streamlit) (4.1.0)\n",
      "Requirement already satisfied: watchdog; platform_system != \"Darwin\" in c:\\users\\91770\\anaconda3\\lib\\site-packages (from streamlit) (0.10.3)\n",
      "Requirement already satisfied: base58 in c:\\users\\91770\\anaconda3\\lib\\site-packages (from streamlit) (2.1.0)\n",
      "Requirement already satisfied: pydeck>=0.1.dev5 in c:\\users\\91770\\anaconda3\\lib\\site-packages (from streamlit) (0.6.1)\n",
      "Requirement already satisfied: gitpython in c:\\users\\91770\\anaconda3\\lib\\site-packages (from streamlit) (3.1.14)\n",
      "Requirement already satisfied: requests in c:\\users\\91770\\anaconda3\\lib\\site-packages (from streamlit) (2.24.0)\n",
      "Requirement already satisfied: pyarrow; python_version < \"3.9\" in c:\\users\\91770\\anaconda3\\lib\\site-packages (from streamlit) (3.0.0)\n",
      "Requirement already satisfied: python-dateutil in c:\\users\\91770\\anaconda3\\lib\\site-packages (from streamlit) (2.8.1)\n",
      "Requirement already satisfied: toml in c:\\users\\91770\\anaconda3\\lib\\site-packages (from streamlit) (0.10.1)\n",
      "Requirement already satisfied: tornado>=5.0 in c:\\users\\91770\\anaconda3\\lib\\site-packages (from streamlit) (6.0.4)\n",
      "Requirement already satisfied: numpy in c:\\users\\91770\\anaconda3\\lib\\site-packages (from streamlit) (1.19.5)\n",
      "Requirement already satisfied: packaging in c:\\users\\91770\\anaconda3\\lib\\site-packages (from streamlit) (20.4)\n",
      "Requirement already satisfied: cachetools>=4.0 in c:\\users\\91770\\anaconda3\\lib\\site-packages (from streamlit) (4.2.1)\n",
      "Requirement already satisfied: pillow>=6.2.0 in c:\\users\\91770\\anaconda3\\lib\\site-packages (from streamlit) (8.0.1)\n",
      "Requirement already satisfied: pandas>=0.21.0 in c:\\users\\91770\\anaconda3\\lib\\site-packages (from streamlit) (1.1.3)\n",
      "Requirement already satisfied: click>=7.0 in c:\\users\\91770\\anaconda3\\lib\\site-packages (from streamlit) (7.1.2)\n",
      "Requirement already satisfied: validators in c:\\users\\91770\\anaconda3\\lib\\site-packages (from streamlit) (0.18.2)\n",
      "Requirement already satisfied: tzlocal in c:\\users\\91770\\anaconda3\\lib\\site-packages (from streamlit) (2.1)\n",
      "Requirement already satisfied: astor in c:\\users\\91770\\anaconda3\\lib\\site-packages (from streamlit) (0.8.1)\n",
      "Requirement already satisfied: six>=1.9 in c:\\users\\91770\\anaconda3\\lib\\site-packages (from protobuf!=3.11,>=3.6.0->streamlit) (1.15.0)\n",
      "Requirement already satisfied: jsonschema in c:\\users\\91770\\anaconda3\\lib\\site-packages (from altair>=3.2.0->streamlit) (3.2.0)\n",
      "Requirement already satisfied: jinja2 in c:\\users\\91770\\anaconda3\\lib\\site-packages (from altair>=3.2.0->streamlit) (2.11.2)\n",
      "Requirement already satisfied: toolz in c:\\users\\91770\\anaconda3\\lib\\site-packages (from altair>=3.2.0->streamlit) (0.11.1)\n",
      "Requirement already satisfied: entrypoints in c:\\users\\91770\\anaconda3\\lib\\site-packages (from altair>=3.2.0->streamlit) (0.3)\n",
      "Requirement already satisfied: pathtools>=0.1.1 in c:\\users\\91770\\anaconda3\\lib\\site-packages (from watchdog; platform_system != \"Darwin\"->streamlit) (0.1.2)\n",
      "Requirement already satisfied: ipywidgets>=7.0.0 in c:\\users\\91770\\anaconda3\\lib\\site-packages (from pydeck>=0.1.dev5->streamlit) (7.5.1)\n",
      "Requirement already satisfied: traitlets>=4.3.2 in c:\\users\\91770\\anaconda3\\lib\\site-packages (from pydeck>=0.1.dev5->streamlit) (5.0.5)\n",
      "Requirement already satisfied: ipykernel>=5.1.2; python_version >= \"3.4\" in c:\\users\\91770\\anaconda3\\lib\\site-packages (from pydeck>=0.1.dev5->streamlit) (5.3.4)\n",
      "Requirement already satisfied: gitdb<5,>=4.0.1 in c:\\users\\91770\\anaconda3\\lib\\site-packages (from gitpython->streamlit) (4.0.7)\n",
      "Requirement already satisfied: idna<3,>=2.5 in c:\\users\\91770\\anaconda3\\lib\\site-packages (from requests->streamlit) (2.10)\n",
      "Requirement already satisfied: chardet<4,>=3.0.2 in c:\\users\\91770\\anaconda3\\lib\\site-packages (from requests->streamlit) (3.0.4)\n",
      "Requirement already satisfied: urllib3!=1.25.0,!=1.25.1,<1.26,>=1.21.1 in c:\\users\\91770\\anaconda3\\lib\\site-packages (from requests->streamlit) (1.25.11)\n",
      "Requirement already satisfied: certifi>=2017.4.17 in c:\\users\\91770\\anaconda3\\lib\\site-packages (from requests->streamlit) (2020.6.20)\n",
      "Requirement already satisfied: pyparsing>=2.0.2 in c:\\users\\91770\\anaconda3\\lib\\site-packages (from packaging->streamlit) (2.4.7)\n",
      "Requirement already satisfied: pytz>=2017.2 in c:\\users\\91770\\anaconda3\\lib\\site-packages (from pandas>=0.21.0->streamlit) (2020.1)\n",
      "Requirement already satisfied: decorator>=3.4.0 in c:\\users\\91770\\anaconda3\\lib\\site-packages (from validators->streamlit) (4.4.2)\n",
      "Requirement already satisfied: setuptools in c:\\users\\91770\\anaconda3\\lib\\site-packages (from jsonschema->altair>=3.2.0->streamlit) (50.3.1.post20201107)\n",
      "Requirement already satisfied: pyrsistent>=0.14.0 in c:\\users\\91770\\anaconda3\\lib\\site-packages (from jsonschema->altair>=3.2.0->streamlit) (0.17.3)\n",
      "Requirement already satisfied: attrs>=17.4.0 in c:\\users\\91770\\anaconda3\\lib\\site-packages (from jsonschema->altair>=3.2.0->streamlit) (20.3.0)\n",
      "Requirement already satisfied: MarkupSafe>=0.23 in c:\\users\\91770\\anaconda3\\lib\\site-packages (from jinja2->altair>=3.2.0->streamlit) (1.1.1)\n",
      "Requirement already satisfied: nbformat>=4.2.0 in c:\\users\\91770\\anaconda3\\lib\\site-packages (from ipywidgets>=7.0.0->pydeck>=0.1.dev5->streamlit) (5.0.8)\n",
      "Requirement already satisfied: widgetsnbextension~=3.5.0 in c:\\users\\91770\\anaconda3\\lib\\site-packages (from ipywidgets>=7.0.0->pydeck>=0.1.dev5->streamlit) (3.5.1)\n",
      "Requirement already satisfied: ipython>=4.0.0; python_version >= \"3.3\" in c:\\users\\91770\\anaconda3\\lib\\site-packages (from ipywidgets>=7.0.0->pydeck>=0.1.dev5->streamlit) (7.19.0)\n",
      "Requirement already satisfied: ipython-genutils in c:\\users\\91770\\anaconda3\\lib\\site-packages (from traitlets>=4.3.2->pydeck>=0.1.dev5->streamlit) (0.2.0)\n",
      "Requirement already satisfied: jupyter-client in c:\\users\\91770\\anaconda3\\lib\\site-packages (from ipykernel>=5.1.2; python_version >= \"3.4\"->pydeck>=0.1.dev5->streamlit) (6.1.7)\n",
      "Requirement already satisfied: smmap<5,>=3.0.1 in c:\\users\\91770\\anaconda3\\lib\\site-packages (from gitdb<5,>=4.0.1->gitpython->streamlit) (4.0.0)\n",
      "Requirement already satisfied: jupyter-core in c:\\users\\91770\\anaconda3\\lib\\site-packages (from nbformat>=4.2.0->ipywidgets>=7.0.0->pydeck>=0.1.dev5->streamlit) (4.6.3)\n",
      "Requirement already satisfied: notebook>=4.4.1 in c:\\users\\91770\\anaconda3\\lib\\site-packages (from widgetsnbextension~=3.5.0->ipywidgets>=7.0.0->pydeck>=0.1.dev5->streamlit) (6.1.4)\n",
      "Requirement already satisfied: prompt-toolkit!=3.0.0,!=3.0.1,<3.1.0,>=2.0.0 in c:\\users\\91770\\anaconda3\\lib\\site-packages (from ipython>=4.0.0; python_version >= \"3.3\"->ipywidgets>=7.0.0->pydeck>=0.1.dev5->streamlit) (3.0.8)\n",
      "Requirement already satisfied: pygments in c:\\users\\91770\\anaconda3\\lib\\site-packages (from ipython>=4.0.0; python_version >= \"3.3\"->ipywidgets>=7.0.0->pydeck>=0.1.dev5->streamlit) (2.7.2)\n",
      "Requirement already satisfied: colorama; sys_platform == \"win32\" in c:\\users\\91770\\anaconda3\\lib\\site-packages (from ipython>=4.0.0; python_version >= \"3.3\"->ipywidgets>=7.0.0->pydeck>=0.1.dev5->streamlit) (0.4.4)\n",
      "Requirement already satisfied: jedi>=0.10 in c:\\users\\91770\\anaconda3\\lib\\site-packages (from ipython>=4.0.0; python_version >= \"3.3\"->ipywidgets>=7.0.0->pydeck>=0.1.dev5->streamlit) (0.17.1)\n",
      "Requirement already satisfied: backcall in c:\\users\\91770\\anaconda3\\lib\\site-packages (from ipython>=4.0.0; python_version >= \"3.3\"->ipywidgets>=7.0.0->pydeck>=0.1.dev5->streamlit) (0.2.0)\n",
      "Requirement already satisfied: pickleshare in c:\\users\\91770\\anaconda3\\lib\\site-packages (from ipython>=4.0.0; python_version >= \"3.3\"->ipywidgets>=7.0.0->pydeck>=0.1.dev5->streamlit) (0.7.5)\n",
      "Requirement already satisfied: pyzmq>=13 in c:\\users\\91770\\anaconda3\\lib\\site-packages (from jupyter-client->ipykernel>=5.1.2; python_version >= \"3.4\"->pydeck>=0.1.dev5->streamlit) (19.0.2)\n",
      "Requirement already satisfied: pywin32>=1.0; sys_platform == \"win32\" in c:\\users\\91770\\anaconda3\\lib\\site-packages (from jupyter-core->nbformat>=4.2.0->ipywidgets>=7.0.0->pydeck>=0.1.dev5->streamlit) (227)\n",
      "Requirement already satisfied: prometheus-client in c:\\users\\91770\\anaconda3\\lib\\site-packages (from notebook>=4.4.1->widgetsnbextension~=3.5.0->ipywidgets>=7.0.0->pydeck>=0.1.dev5->streamlit) (0.8.0)\n",
      "Requirement already satisfied: argon2-cffi in c:\\users\\91770\\anaconda3\\lib\\site-packages (from notebook>=4.4.1->widgetsnbextension~=3.5.0->ipywidgets>=7.0.0->pydeck>=0.1.dev5->streamlit) (20.1.0)\n",
      "Requirement already satisfied: nbconvert in c:\\users\\91770\\anaconda3\\lib\\site-packages (from notebook>=4.4.1->widgetsnbextension~=3.5.0->ipywidgets>=7.0.0->pydeck>=0.1.dev5->streamlit) (6.0.7)\n",
      "Requirement already satisfied: Send2Trash in c:\\users\\91770\\anaconda3\\lib\\site-packages (from notebook>=4.4.1->widgetsnbextension~=3.5.0->ipywidgets>=7.0.0->pydeck>=0.1.dev5->streamlit) (1.5.0)\n",
      "Requirement already satisfied: terminado>=0.8.3 in c:\\users\\91770\\anaconda3\\lib\\site-packages (from notebook>=4.4.1->widgetsnbextension~=3.5.0->ipywidgets>=7.0.0->pydeck>=0.1.dev5->streamlit) (0.9.1)\n",
      "Requirement already satisfied: wcwidth in c:\\users\\91770\\anaconda3\\lib\\site-packages (from prompt-toolkit!=3.0.0,!=3.0.1,<3.1.0,>=2.0.0->ipython>=4.0.0; python_version >= \"3.3\"->ipywidgets>=7.0.0->pydeck>=0.1.dev5->streamlit) (0.2.5)\n",
      "Requirement already satisfied: parso<0.8.0,>=0.7.0 in c:\\users\\91770\\anaconda3\\lib\\site-packages (from jedi>=0.10->ipython>=4.0.0; python_version >= \"3.3\"->ipywidgets>=7.0.0->pydeck>=0.1.dev5->streamlit) (0.7.0)\n",
      "Requirement already satisfied: cffi>=1.0.0 in c:\\users\\91770\\anaconda3\\lib\\site-packages (from argon2-cffi->notebook>=4.4.1->widgetsnbextension~=3.5.0->ipywidgets>=7.0.0->pydeck>=0.1.dev5->streamlit) (1.14.3)\n",
      "Requirement already satisfied: bleach in c:\\users\\91770\\anaconda3\\lib\\site-packages (from nbconvert->notebook>=4.4.1->widgetsnbextension~=3.5.0->ipywidgets>=7.0.0->pydeck>=0.1.dev5->streamlit) (3.2.1)\n",
      "Requirement already satisfied: pandocfilters>=1.4.1 in c:\\users\\91770\\anaconda3\\lib\\site-packages (from nbconvert->notebook>=4.4.1->widgetsnbextension~=3.5.0->ipywidgets>=7.0.0->pydeck>=0.1.dev5->streamlit) (1.4.3)\n",
      "Requirement already satisfied: testpath in c:\\users\\91770\\anaconda3\\lib\\site-packages (from nbconvert->notebook>=4.4.1->widgetsnbextension~=3.5.0->ipywidgets>=7.0.0->pydeck>=0.1.dev5->streamlit) (0.4.4)\n",
      "Requirement already satisfied: nbclient<0.6.0,>=0.5.0 in c:\\users\\91770\\anaconda3\\lib\\site-packages (from nbconvert->notebook>=4.4.1->widgetsnbextension~=3.5.0->ipywidgets>=7.0.0->pydeck>=0.1.dev5->streamlit) (0.5.1)\n",
      "Requirement already satisfied: defusedxml in c:\\users\\91770\\anaconda3\\lib\\site-packages (from nbconvert->notebook>=4.4.1->widgetsnbextension~=3.5.0->ipywidgets>=7.0.0->pydeck>=0.1.dev5->streamlit) (0.6.0)\n",
      "Requirement already satisfied: mistune<2,>=0.8.1 in c:\\users\\91770\\anaconda3\\lib\\site-packages (from nbconvert->notebook>=4.4.1->widgetsnbextension~=3.5.0->ipywidgets>=7.0.0->pydeck>=0.1.dev5->streamlit) (0.8.4)\n",
      "Requirement already satisfied: jupyterlab-pygments in c:\\users\\91770\\anaconda3\\lib\\site-packages (from nbconvert->notebook>=4.4.1->widgetsnbextension~=3.5.0->ipywidgets>=7.0.0->pydeck>=0.1.dev5->streamlit) (0.1.2)\n",
      "Requirement already satisfied: pywinpty>=0.5 in c:\\users\\91770\\anaconda3\\lib\\site-packages (from terminado>=0.8.3->notebook>=4.4.1->widgetsnbextension~=3.5.0->ipywidgets>=7.0.0->pydeck>=0.1.dev5->streamlit) (0.5.7)\n",
      "Requirement already satisfied: pycparser in c:\\users\\91770\\anaconda3\\lib\\site-packages (from cffi>=1.0.0->argon2-cffi->notebook>=4.4.1->widgetsnbextension~=3.5.0->ipywidgets>=7.0.0->pydeck>=0.1.dev5->streamlit) (2.20)\n",
      "Requirement already satisfied: webencodings in c:\\users\\91770\\anaconda3\\lib\\site-packages (from bleach->nbconvert->notebook>=4.4.1->widgetsnbextension~=3.5.0->ipywidgets>=7.0.0->pydeck>=0.1.dev5->streamlit) (0.5.1)\n",
      "Requirement already satisfied: async-generator in c:\\users\\91770\\anaconda3\\lib\\site-packages (from nbclient<0.6.0,>=0.5.0->nbconvert->notebook>=4.4.1->widgetsnbextension~=3.5.0->ipywidgets>=7.0.0->pydeck>=0.1.dev5->streamlit) (1.10)\n",
      "Requirement already satisfied: nest-asyncio in c:\\users\\91770\\anaconda3\\lib\\site-packages (from nbclient<0.6.0,>=0.5.0->nbconvert->notebook>=4.4.1->widgetsnbextension~=3.5.0->ipywidgets>=7.0.0->pydeck>=0.1.dev5->streamlit) (1.4.2)\n",
      "Note: you may need to restart the kernel to use updated packages.\n"
     ]
    }
   ],
   "source": [
    "pip install streamlit"
   ]
  },
  {
   "cell_type": "code",
   "execution_count": 2,
   "metadata": {
    "ExecuteTime": {
     "end_time": "2021-09-12T17:20:14.725169Z",
     "start_time": "2021-09-12T17:20:12.913457Z"
    }
   },
   "outputs": [],
   "source": [
    "# Importing the required modules :\n",
    "\n",
    "import pandas as pd\n",
    "import numpy as np\n",
    "import matplotlib.pyplot as plt\n",
    "import seaborn as sns\n",
    "from math import sqrt\n",
    "from sklearn.metrics import mean_squared_error\n",
    "from statsmodels.tsa.arima_model import ARIMA\n",
    "import warnings\n",
    "from statsmodels.tsa.stattools import adfuller\n",
    "%matplotlib inline\n",
    "\n",
    "warnings.filterwarnings(\"ignore\")"
   ]
  },
  {
   "cell_type": "code",
   "execution_count": 3,
   "metadata": {
    "ExecuteTime": {
     "end_time": "2021-09-12T17:20:14.756266Z",
     "start_time": "2021-09-12T17:20:14.725169Z"
    }
   },
   "outputs": [
    {
     "data": {
      "text/html": [
       "<div>\n",
       "<style scoped>\n",
       "    .dataframe tbody tr th:only-of-type {\n",
       "        vertical-align: middle;\n",
       "    }\n",
       "\n",
       "    .dataframe tbody tr th {\n",
       "        vertical-align: top;\n",
       "    }\n",
       "\n",
       "    .dataframe thead th {\n",
       "        text-align: right;\n",
       "    }\n",
       "</style>\n",
       "<table border=\"1\" class=\"dataframe\">\n",
       "  <thead>\n",
       "    <tr style=\"text-align: right;\">\n",
       "      <th></th>\n",
       "      <th>collection_date</th>\n",
       "      <th>Total Inpatient Beds</th>\n",
       "    </tr>\n",
       "  </thead>\n",
       "  <tbody>\n",
       "    <tr>\n",
       "      <th>0</th>\n",
       "      <td>15/06/2020</td>\n",
       "      <td>293</td>\n",
       "    </tr>\n",
       "    <tr>\n",
       "      <th>1</th>\n",
       "      <td>16/06/2020</td>\n",
       "      <td>295</td>\n",
       "    </tr>\n",
       "    <tr>\n",
       "      <th>2</th>\n",
       "      <td>17/06/2020</td>\n",
       "      <td>290</td>\n",
       "    </tr>\n",
       "    <tr>\n",
       "      <th>3</th>\n",
       "      <td>18/06/2020</td>\n",
       "      <td>291</td>\n",
       "    </tr>\n",
       "    <tr>\n",
       "      <th>4</th>\n",
       "      <td>19/06/2020</td>\n",
       "      <td>288</td>\n",
       "    </tr>\n",
       "    <tr>\n",
       "      <th>...</th>\n",
       "      <td>...</td>\n",
       "      <td>...</td>\n",
       "    </tr>\n",
       "    <tr>\n",
       "      <th>361</th>\n",
       "      <td>11/06/2021</td>\n",
       "      <td>312</td>\n",
       "    </tr>\n",
       "    <tr>\n",
       "      <th>362</th>\n",
       "      <td>12/06/2021</td>\n",
       "      <td>212</td>\n",
       "    </tr>\n",
       "    <tr>\n",
       "      <th>363</th>\n",
       "      <td>13/06/2021</td>\n",
       "      <td>299</td>\n",
       "    </tr>\n",
       "    <tr>\n",
       "      <th>364</th>\n",
       "      <td>14/06/2021</td>\n",
       "      <td>202</td>\n",
       "    </tr>\n",
       "    <tr>\n",
       "      <th>365</th>\n",
       "      <td>15/06/2021</td>\n",
       "      <td>220</td>\n",
       "    </tr>\n",
       "  </tbody>\n",
       "</table>\n",
       "<p>366 rows × 2 columns</p>\n",
       "</div>"
      ],
      "text/plain": [
       "    collection_date  Total Inpatient Beds\n",
       "0        15/06/2020                   293\n",
       "1        16/06/2020                   295\n",
       "2        17/06/2020                   290\n",
       "3        18/06/2020                   291\n",
       "4        19/06/2020                   288\n",
       "..              ...                   ...\n",
       "361      11/06/2021                   312\n",
       "362      12/06/2021                   212\n",
       "363      13/06/2021                   299\n",
       "364      14/06/2021                   202\n",
       "365      15/06/2021                   220\n",
       "\n",
       "[366 rows x 2 columns]"
      ]
     },
     "execution_count": 3,
     "metadata": {},
     "output_type": "execute_result"
    }
   ],
   "source": [
    "# Importing the required libraries::\n",
    "\n",
    "data= pd.read_csv(\"Beds_occupied.csv\")\n",
    "data"
   ]
  },
  {
   "cell_type": "code",
   "execution_count": 4,
   "metadata": {
    "ExecuteTime": {
     "end_time": "2021-09-12T17:20:14.771225Z",
     "start_time": "2021-09-12T17:20:14.757265Z"
    }
   },
   "outputs": [
    {
     "name": "stdout",
     "output_type": "stream",
     "text": [
      "<class 'pandas.core.frame.DataFrame'>\n",
      "RangeIndex: 366 entries, 0 to 365\n",
      "Data columns (total 2 columns):\n",
      " #   Column                Non-Null Count  Dtype \n",
      "---  ------                --------------  ----- \n",
      " 0   collection_date       366 non-null    object\n",
      " 1   Total Inpatient Beds  366 non-null    int64 \n",
      "dtypes: int64(1), object(1)\n",
      "memory usage: 5.8+ KB\n"
     ]
    }
   ],
   "source": [
    "data.info()"
   ]
  },
  {
   "cell_type": "code",
   "execution_count": 5,
   "metadata": {
    "ExecuteTime": {
     "end_time": "2021-09-12T17:20:14.787183Z",
     "start_time": "2021-09-12T17:20:14.772223Z"
    }
   },
   "outputs": [
    {
     "data": {
      "text/html": [
       "<div>\n",
       "<style scoped>\n",
       "    .dataframe tbody tr th:only-of-type {\n",
       "        vertical-align: middle;\n",
       "    }\n",
       "\n",
       "    .dataframe tbody tr th {\n",
       "        vertical-align: top;\n",
       "    }\n",
       "\n",
       "    .dataframe thead th {\n",
       "        text-align: right;\n",
       "    }\n",
       "</style>\n",
       "<table border=\"1\" class=\"dataframe\">\n",
       "  <thead>\n",
       "    <tr style=\"text-align: right;\">\n",
       "      <th></th>\n",
       "      <th>collection_date</th>\n",
       "      <th>Total Inpatient Beds</th>\n",
       "    </tr>\n",
       "  </thead>\n",
       "  <tbody>\n",
       "    <tr>\n",
       "      <th>0</th>\n",
       "      <td>15/06/2020</td>\n",
       "      <td>293</td>\n",
       "    </tr>\n",
       "    <tr>\n",
       "      <th>1</th>\n",
       "      <td>16/06/2020</td>\n",
       "      <td>295</td>\n",
       "    </tr>\n",
       "    <tr>\n",
       "      <th>2</th>\n",
       "      <td>17/06/2020</td>\n",
       "      <td>290</td>\n",
       "    </tr>\n",
       "    <tr>\n",
       "      <th>3</th>\n",
       "      <td>18/06/2020</td>\n",
       "      <td>291</td>\n",
       "    </tr>\n",
       "    <tr>\n",
       "      <th>4</th>\n",
       "      <td>19/06/2020</td>\n",
       "      <td>288</td>\n",
       "    </tr>\n",
       "    <tr>\n",
       "      <th>...</th>\n",
       "      <td>...</td>\n",
       "      <td>...</td>\n",
       "    </tr>\n",
       "    <tr>\n",
       "      <th>361</th>\n",
       "      <td>11/06/2021</td>\n",
       "      <td>312</td>\n",
       "    </tr>\n",
       "    <tr>\n",
       "      <th>362</th>\n",
       "      <td>12/06/2021</td>\n",
       "      <td>212</td>\n",
       "    </tr>\n",
       "    <tr>\n",
       "      <th>363</th>\n",
       "      <td>13/06/2021</td>\n",
       "      <td>299</td>\n",
       "    </tr>\n",
       "    <tr>\n",
       "      <th>364</th>\n",
       "      <td>14/06/2021</td>\n",
       "      <td>202</td>\n",
       "    </tr>\n",
       "    <tr>\n",
       "      <th>365</th>\n",
       "      <td>15/06/2021</td>\n",
       "      <td>220</td>\n",
       "    </tr>\n",
       "  </tbody>\n",
       "</table>\n",
       "<p>366 rows × 2 columns</p>\n",
       "</div>"
      ],
      "text/plain": [
       "    collection_date  Total Inpatient Beds\n",
       "0        15/06/2020                   293\n",
       "1        16/06/2020                   295\n",
       "2        17/06/2020                   290\n",
       "3        18/06/2020                   291\n",
       "4        19/06/2020                   288\n",
       "..              ...                   ...\n",
       "361      11/06/2021                   312\n",
       "362      12/06/2021                   212\n",
       "363      13/06/2021                   299\n",
       "364      14/06/2021                   202\n",
       "365      15/06/2021                   220\n",
       "\n",
       "[366 rows x 2 columns]"
      ]
     },
     "execution_count": 5,
     "metadata": {},
     "output_type": "execute_result"
    }
   ],
   "source": [
    "data"
   ]
  },
  {
   "cell_type": "code",
   "execution_count": 6,
   "metadata": {
    "ExecuteTime": {
     "end_time": "2021-09-12T17:20:14.803174Z",
     "start_time": "2021-09-12T17:20:14.789180Z"
    }
   },
   "outputs": [
    {
     "data": {
      "text/html": [
       "<div>\n",
       "<style scoped>\n",
       "    .dataframe tbody tr th:only-of-type {\n",
       "        vertical-align: middle;\n",
       "    }\n",
       "\n",
       "    .dataframe tbody tr th {\n",
       "        vertical-align: top;\n",
       "    }\n",
       "\n",
       "    .dataframe thead th {\n",
       "        text-align: right;\n",
       "    }\n",
       "</style>\n",
       "<table border=\"1\" class=\"dataframe\">\n",
       "  <thead>\n",
       "    <tr style=\"text-align: right;\">\n",
       "      <th></th>\n",
       "      <th>collection_date</th>\n",
       "      <th>Total Inpatient Beds</th>\n",
       "      <th>total_beds</th>\n",
       "    </tr>\n",
       "  </thead>\n",
       "  <tbody>\n",
       "    <tr>\n",
       "      <th>0</th>\n",
       "      <td>15/06/2020</td>\n",
       "      <td>293</td>\n",
       "      <td>900</td>\n",
       "    </tr>\n",
       "    <tr>\n",
       "      <th>1</th>\n",
       "      <td>16/06/2020</td>\n",
       "      <td>295</td>\n",
       "      <td>900</td>\n",
       "    </tr>\n",
       "    <tr>\n",
       "      <th>2</th>\n",
       "      <td>17/06/2020</td>\n",
       "      <td>290</td>\n",
       "      <td>900</td>\n",
       "    </tr>\n",
       "    <tr>\n",
       "      <th>3</th>\n",
       "      <td>18/06/2020</td>\n",
       "      <td>291</td>\n",
       "      <td>900</td>\n",
       "    </tr>\n",
       "    <tr>\n",
       "      <th>4</th>\n",
       "      <td>19/06/2020</td>\n",
       "      <td>288</td>\n",
       "      <td>900</td>\n",
       "    </tr>\n",
       "    <tr>\n",
       "      <th>...</th>\n",
       "      <td>...</td>\n",
       "      <td>...</td>\n",
       "      <td>...</td>\n",
       "    </tr>\n",
       "    <tr>\n",
       "      <th>361</th>\n",
       "      <td>11/06/2021</td>\n",
       "      <td>312</td>\n",
       "      <td>900</td>\n",
       "    </tr>\n",
       "    <tr>\n",
       "      <th>362</th>\n",
       "      <td>12/06/2021</td>\n",
       "      <td>212</td>\n",
       "      <td>900</td>\n",
       "    </tr>\n",
       "    <tr>\n",
       "      <th>363</th>\n",
       "      <td>13/06/2021</td>\n",
       "      <td>299</td>\n",
       "      <td>900</td>\n",
       "    </tr>\n",
       "    <tr>\n",
       "      <th>364</th>\n",
       "      <td>14/06/2021</td>\n",
       "      <td>202</td>\n",
       "      <td>900</td>\n",
       "    </tr>\n",
       "    <tr>\n",
       "      <th>365</th>\n",
       "      <td>15/06/2021</td>\n",
       "      <td>220</td>\n",
       "      <td>900</td>\n",
       "    </tr>\n",
       "  </tbody>\n",
       "</table>\n",
       "<p>366 rows × 3 columns</p>\n",
       "</div>"
      ],
      "text/plain": [
       "    collection_date  Total Inpatient Beds  total_beds\n",
       "0        15/06/2020                   293         900\n",
       "1        16/06/2020                   295         900\n",
       "2        17/06/2020                   290         900\n",
       "3        18/06/2020                   291         900\n",
       "4        19/06/2020                   288         900\n",
       "..              ...                   ...         ...\n",
       "361      11/06/2021                   312         900\n",
       "362      12/06/2021                   212         900\n",
       "363      13/06/2021                   299         900\n",
       "364      14/06/2021                   202         900\n",
       "365      15/06/2021                   220         900\n",
       "\n",
       "[366 rows x 3 columns]"
      ]
     },
     "execution_count": 6,
     "metadata": {},
     "output_type": "execute_result"
    }
   ],
   "source": [
    "data[\"total_beds\"]= 900\n",
    "data"
   ]
  },
  {
   "cell_type": "code",
   "execution_count": 7,
   "metadata": {
    "ExecuteTime": {
     "end_time": "2021-09-12T17:20:14.819099Z",
     "start_time": "2021-09-12T17:20:14.809124Z"
    }
   },
   "outputs": [
    {
     "data": {
      "text/plain": [
       "0     2020-06-15\n",
       "1     2020-06-16\n",
       "2     2020-06-17\n",
       "3     2020-06-18\n",
       "4     2020-06-19\n",
       "         ...    \n",
       "361   2021-11-06\n",
       "362   2021-12-06\n",
       "363   2021-06-13\n",
       "364   2021-06-14\n",
       "365   2021-06-15\n",
       "Name: collection_date, Length: 366, dtype: datetime64[ns]"
      ]
     },
     "execution_count": 7,
     "metadata": {},
     "output_type": "execute_result"
    }
   ],
   "source": [
    "d=data.collection_date.astype(\"datetime64[ns]\")\n",
    "d"
   ]
  },
  {
   "cell_type": "code",
   "execution_count": 8,
   "metadata": {
    "ExecuteTime": {
     "end_time": "2021-09-12T17:20:14.850015Z",
     "start_time": "2021-09-12T17:20:14.823090Z"
    }
   },
   "outputs": [
    {
     "data": {
      "text/html": [
       "<div>\n",
       "<style scoped>\n",
       "    .dataframe tbody tr th:only-of-type {\n",
       "        vertical-align: middle;\n",
       "    }\n",
       "\n",
       "    .dataframe tbody tr th {\n",
       "        vertical-align: top;\n",
       "    }\n",
       "\n",
       "    .dataframe thead th {\n",
       "        text-align: right;\n",
       "    }\n",
       "</style>\n",
       "<table border=\"1\" class=\"dataframe\">\n",
       "  <thead>\n",
       "    <tr style=\"text-align: right;\">\n",
       "      <th></th>\n",
       "      <th>Total Inpatient Beds</th>\n",
       "      <th>total_beds</th>\n",
       "    </tr>\n",
       "  </thead>\n",
       "  <tbody>\n",
       "    <tr>\n",
       "      <th>count</th>\n",
       "      <td>366.000000</td>\n",
       "      <td>366.0</td>\n",
       "    </tr>\n",
       "    <tr>\n",
       "      <th>mean</th>\n",
       "      <td>241.983607</td>\n",
       "      <td>900.0</td>\n",
       "    </tr>\n",
       "    <tr>\n",
       "      <th>std</th>\n",
       "      <td>28.658017</td>\n",
       "      <td>0.0</td>\n",
       "    </tr>\n",
       "    <tr>\n",
       "      <th>min</th>\n",
       "      <td>190.000000</td>\n",
       "      <td>900.0</td>\n",
       "    </tr>\n",
       "    <tr>\n",
       "      <th>25%</th>\n",
       "      <td>219.000000</td>\n",
       "      <td>900.0</td>\n",
       "    </tr>\n",
       "    <tr>\n",
       "      <th>50%</th>\n",
       "      <td>237.000000</td>\n",
       "      <td>900.0</td>\n",
       "    </tr>\n",
       "    <tr>\n",
       "      <th>75%</th>\n",
       "      <td>259.000000</td>\n",
       "      <td>900.0</td>\n",
       "    </tr>\n",
       "    <tr>\n",
       "      <th>max</th>\n",
       "      <td>341.000000</td>\n",
       "      <td>900.0</td>\n",
       "    </tr>\n",
       "  </tbody>\n",
       "</table>\n",
       "</div>"
      ],
      "text/plain": [
       "       Total Inpatient Beds  total_beds\n",
       "count            366.000000       366.0\n",
       "mean             241.983607       900.0\n",
       "std               28.658017         0.0\n",
       "min              190.000000       900.0\n",
       "25%              219.000000       900.0\n",
       "50%              237.000000       900.0\n",
       "75%              259.000000       900.0\n",
       "max              341.000000       900.0"
      ]
     },
     "execution_count": 8,
     "metadata": {},
     "output_type": "execute_result"
    }
   ],
   "source": [
    "data.describe()"
   ]
  },
  {
   "cell_type": "code",
   "execution_count": null,
   "metadata": {
    "ExecuteTime": {
     "end_time": "2021-08-30T17:57:59.114052Z",
     "start_time": "2021-08-30T17:57:59.103630Z"
    }
   },
   "outputs": [],
   "source": []
  },
  {
   "cell_type": "code",
   "execution_count": 9,
   "metadata": {
    "ExecuteTime": {
     "end_time": "2021-09-12T17:20:14.881928Z",
     "start_time": "2021-09-12T17:20:14.852009Z"
    }
   },
   "outputs": [],
   "source": [
    "data[\"Available_beds\"]=data[\"total_beds\"]-data[\"Total Inpatient Beds\"]"
   ]
  },
  {
   "cell_type": "code",
   "execution_count": 10,
   "metadata": {
    "ExecuteTime": {
     "end_time": "2021-09-12T17:20:14.897885Z",
     "start_time": "2021-09-12T17:20:14.882926Z"
    }
   },
   "outputs": [],
   "source": [
    "data= data[[\"collection_date\",\"Available_beds\"]]"
   ]
  },
  {
   "cell_type": "code",
   "execution_count": 11,
   "metadata": {
    "ExecuteTime": {
     "end_time": "2021-09-12T17:20:14.913844Z",
     "start_time": "2021-09-12T17:20:14.899882Z"
    }
   },
   "outputs": [
    {
     "data": {
      "text/html": [
       "<div>\n",
       "<style scoped>\n",
       "    .dataframe tbody tr th:only-of-type {\n",
       "        vertical-align: middle;\n",
       "    }\n",
       "\n",
       "    .dataframe tbody tr th {\n",
       "        vertical-align: top;\n",
       "    }\n",
       "\n",
       "    .dataframe thead th {\n",
       "        text-align: right;\n",
       "    }\n",
       "</style>\n",
       "<table border=\"1\" class=\"dataframe\">\n",
       "  <thead>\n",
       "    <tr style=\"text-align: right;\">\n",
       "      <th></th>\n",
       "      <th>collection_date</th>\n",
       "      <th>Available_beds</th>\n",
       "    </tr>\n",
       "  </thead>\n",
       "  <tbody>\n",
       "    <tr>\n",
       "      <th>0</th>\n",
       "      <td>15/06/2020</td>\n",
       "      <td>607</td>\n",
       "    </tr>\n",
       "    <tr>\n",
       "      <th>1</th>\n",
       "      <td>16/06/2020</td>\n",
       "      <td>605</td>\n",
       "    </tr>\n",
       "    <tr>\n",
       "      <th>2</th>\n",
       "      <td>17/06/2020</td>\n",
       "      <td>610</td>\n",
       "    </tr>\n",
       "    <tr>\n",
       "      <th>3</th>\n",
       "      <td>18/06/2020</td>\n",
       "      <td>609</td>\n",
       "    </tr>\n",
       "    <tr>\n",
       "      <th>4</th>\n",
       "      <td>19/06/2020</td>\n",
       "      <td>612</td>\n",
       "    </tr>\n",
       "    <tr>\n",
       "      <th>...</th>\n",
       "      <td>...</td>\n",
       "      <td>...</td>\n",
       "    </tr>\n",
       "    <tr>\n",
       "      <th>361</th>\n",
       "      <td>11/06/2021</td>\n",
       "      <td>588</td>\n",
       "    </tr>\n",
       "    <tr>\n",
       "      <th>362</th>\n",
       "      <td>12/06/2021</td>\n",
       "      <td>688</td>\n",
       "    </tr>\n",
       "    <tr>\n",
       "      <th>363</th>\n",
       "      <td>13/06/2021</td>\n",
       "      <td>601</td>\n",
       "    </tr>\n",
       "    <tr>\n",
       "      <th>364</th>\n",
       "      <td>14/06/2021</td>\n",
       "      <td>698</td>\n",
       "    </tr>\n",
       "    <tr>\n",
       "      <th>365</th>\n",
       "      <td>15/06/2021</td>\n",
       "      <td>680</td>\n",
       "    </tr>\n",
       "  </tbody>\n",
       "</table>\n",
       "<p>366 rows × 2 columns</p>\n",
       "</div>"
      ],
      "text/plain": [
       "    collection_date  Available_beds\n",
       "0        15/06/2020             607\n",
       "1        16/06/2020             605\n",
       "2        17/06/2020             610\n",
       "3        18/06/2020             609\n",
       "4        19/06/2020             612\n",
       "..              ...             ...\n",
       "361      11/06/2021             588\n",
       "362      12/06/2021             688\n",
       "363      13/06/2021             601\n",
       "364      14/06/2021             698\n",
       "365      15/06/2021             680\n",
       "\n",
       "[366 rows x 2 columns]"
      ]
     },
     "execution_count": 11,
     "metadata": {},
     "output_type": "execute_result"
    }
   ],
   "source": [
    "data"
   ]
  },
  {
   "cell_type": "code",
   "execution_count": 12,
   "metadata": {
    "ExecuteTime": {
     "end_time": "2021-09-12T17:20:14.929801Z",
     "start_time": "2021-09-12T17:20:14.915839Z"
    }
   },
   "outputs": [
    {
     "data": {
      "text/html": [
       "<div>\n",
       "<style scoped>\n",
       "    .dataframe tbody tr th:only-of-type {\n",
       "        vertical-align: middle;\n",
       "    }\n",
       "\n",
       "    .dataframe tbody tr th {\n",
       "        vertical-align: top;\n",
       "    }\n",
       "\n",
       "    .dataframe thead th {\n",
       "        text-align: right;\n",
       "    }\n",
       "</style>\n",
       "<table border=\"1\" class=\"dataframe\">\n",
       "  <thead>\n",
       "    <tr style=\"text-align: right;\">\n",
       "      <th></th>\n",
       "      <th>collection_date</th>\n",
       "      <th>Available_beds</th>\n",
       "    </tr>\n",
       "  </thead>\n",
       "  <tbody>\n",
       "    <tr>\n",
       "      <th>0</th>\n",
       "      <td>15/06/2020</td>\n",
       "      <td>607</td>\n",
       "    </tr>\n",
       "    <tr>\n",
       "      <th>1</th>\n",
       "      <td>16/06/2020</td>\n",
       "      <td>605</td>\n",
       "    </tr>\n",
       "    <tr>\n",
       "      <th>2</th>\n",
       "      <td>17/06/2020</td>\n",
       "      <td>610</td>\n",
       "    </tr>\n",
       "    <tr>\n",
       "      <th>3</th>\n",
       "      <td>18/06/2020</td>\n",
       "      <td>609</td>\n",
       "    </tr>\n",
       "    <tr>\n",
       "      <th>4</th>\n",
       "      <td>19/06/2020</td>\n",
       "      <td>612</td>\n",
       "    </tr>\n",
       "    <tr>\n",
       "      <th>...</th>\n",
       "      <td>...</td>\n",
       "      <td>...</td>\n",
       "    </tr>\n",
       "    <tr>\n",
       "      <th>181</th>\n",
       "      <td>13/12/2020</td>\n",
       "      <td>622</td>\n",
       "    </tr>\n",
       "    <tr>\n",
       "      <th>182</th>\n",
       "      <td>14/12/2020</td>\n",
       "      <td>646</td>\n",
       "    </tr>\n",
       "    <tr>\n",
       "      <th>183</th>\n",
       "      <td>15/12/2020</td>\n",
       "      <td>628</td>\n",
       "    </tr>\n",
       "    <tr>\n",
       "      <th>184</th>\n",
       "      <td>16/12/2020</td>\n",
       "      <td>622</td>\n",
       "    </tr>\n",
       "    <tr>\n",
       "      <th>185</th>\n",
       "      <td>17/12/2020</td>\n",
       "      <td>643</td>\n",
       "    </tr>\n",
       "  </tbody>\n",
       "</table>\n",
       "<p>186 rows × 2 columns</p>\n",
       "</div>"
      ],
      "text/plain": [
       "    collection_date  Available_beds\n",
       "0        15/06/2020             607\n",
       "1        16/06/2020             605\n",
       "2        17/06/2020             610\n",
       "3        18/06/2020             609\n",
       "4        19/06/2020             612\n",
       "..              ...             ...\n",
       "181      13/12/2020             622\n",
       "182      14/12/2020             646\n",
       "183      15/12/2020             628\n",
       "184      16/12/2020             622\n",
       "185      17/12/2020             643\n",
       "\n",
       "[186 rows x 2 columns]"
      ]
     },
     "execution_count": 12,
     "metadata": {},
     "output_type": "execute_result"
    }
   ],
   "source": [
    "train_data= data[:186]\n",
    "train_data"
   ]
  },
  {
   "cell_type": "code",
   "execution_count": 13,
   "metadata": {
    "ExecuteTime": {
     "end_time": "2021-09-12T17:20:14.945758Z",
     "start_time": "2021-09-12T17:20:14.930798Z"
    }
   },
   "outputs": [
    {
     "data": {
      "text/html": [
       "<div>\n",
       "<style scoped>\n",
       "    .dataframe tbody tr th:only-of-type {\n",
       "        vertical-align: middle;\n",
       "    }\n",
       "\n",
       "    .dataframe tbody tr th {\n",
       "        vertical-align: top;\n",
       "    }\n",
       "\n",
       "    .dataframe thead th {\n",
       "        text-align: right;\n",
       "    }\n",
       "</style>\n",
       "<table border=\"1\" class=\"dataframe\">\n",
       "  <thead>\n",
       "    <tr style=\"text-align: right;\">\n",
       "      <th></th>\n",
       "      <th>collection_date</th>\n",
       "      <th>Available_beds</th>\n",
       "    </tr>\n",
       "  </thead>\n",
       "  <tbody>\n",
       "    <tr>\n",
       "      <th>186</th>\n",
       "      <td>18/12/2020</td>\n",
       "      <td>655</td>\n",
       "    </tr>\n",
       "    <tr>\n",
       "      <th>187</th>\n",
       "      <td>19/12/2020</td>\n",
       "      <td>652</td>\n",
       "    </tr>\n",
       "    <tr>\n",
       "      <th>188</th>\n",
       "      <td>20/12/2020</td>\n",
       "      <td>688</td>\n",
       "    </tr>\n",
       "    <tr>\n",
       "      <th>189</th>\n",
       "      <td>21/12/2020</td>\n",
       "      <td>653</td>\n",
       "    </tr>\n",
       "    <tr>\n",
       "      <th>190</th>\n",
       "      <td>22/12/2020</td>\n",
       "      <td>686</td>\n",
       "    </tr>\n",
       "    <tr>\n",
       "      <th>...</th>\n",
       "      <td>...</td>\n",
       "      <td>...</td>\n",
       "    </tr>\n",
       "    <tr>\n",
       "      <th>361</th>\n",
       "      <td>11/06/2021</td>\n",
       "      <td>588</td>\n",
       "    </tr>\n",
       "    <tr>\n",
       "      <th>362</th>\n",
       "      <td>12/06/2021</td>\n",
       "      <td>688</td>\n",
       "    </tr>\n",
       "    <tr>\n",
       "      <th>363</th>\n",
       "      <td>13/06/2021</td>\n",
       "      <td>601</td>\n",
       "    </tr>\n",
       "    <tr>\n",
       "      <th>364</th>\n",
       "      <td>14/06/2021</td>\n",
       "      <td>698</td>\n",
       "    </tr>\n",
       "    <tr>\n",
       "      <th>365</th>\n",
       "      <td>15/06/2021</td>\n",
       "      <td>680</td>\n",
       "    </tr>\n",
       "  </tbody>\n",
       "</table>\n",
       "<p>180 rows × 2 columns</p>\n",
       "</div>"
      ],
      "text/plain": [
       "    collection_date  Available_beds\n",
       "186      18/12/2020             655\n",
       "187      19/12/2020             652\n",
       "188      20/12/2020             688\n",
       "189      21/12/2020             653\n",
       "190      22/12/2020             686\n",
       "..              ...             ...\n",
       "361      11/06/2021             588\n",
       "362      12/06/2021             688\n",
       "363      13/06/2021             601\n",
       "364      14/06/2021             698\n",
       "365      15/06/2021             680\n",
       "\n",
       "[180 rows x 2 columns]"
      ]
     },
     "execution_count": 13,
     "metadata": {},
     "output_type": "execute_result"
    }
   ],
   "source": [
    "test_data= data[186:]\n",
    "test_data"
   ]
  },
  {
   "cell_type": "markdown",
   "metadata": {},
   "source": [
    "## Exploratory Data Analysis [EDA] :"
   ]
  },
  {
   "cell_type": "code",
   "execution_count": 14,
   "metadata": {
    "ExecuteTime": {
     "end_time": "2021-09-12T17:20:14.961717Z",
     "start_time": "2021-09-12T17:20:14.946755Z"
    }
   },
   "outputs": [
    {
     "name": "stdout",
     "output_type": "stream",
     "text": [
      "<class 'pandas.core.frame.DataFrame'>\n",
      "RangeIndex: 186 entries, 0 to 185\n",
      "Data columns (total 2 columns):\n",
      " #   Column           Non-Null Count  Dtype \n",
      "---  ------           --------------  ----- \n",
      " 0   collection_date  186 non-null    object\n",
      " 1   Available_beds   186 non-null    int64 \n",
      "dtypes: int64(1), object(1)\n",
      "memory usage: 3.0+ KB\n"
     ]
    }
   ],
   "source": [
    "train_data.info()"
   ]
  },
  {
   "cell_type": "code",
   "execution_count": 15,
   "metadata": {
    "ExecuteTime": {
     "end_time": "2021-09-12T17:20:14.977672Z",
     "start_time": "2021-09-12T17:20:14.962714Z"
    }
   },
   "outputs": [
    {
     "data": {
      "text/html": [
       "<div>\n",
       "<style scoped>\n",
       "    .dataframe tbody tr th:only-of-type {\n",
       "        vertical-align: middle;\n",
       "    }\n",
       "\n",
       "    .dataframe tbody tr th {\n",
       "        vertical-align: top;\n",
       "    }\n",
       "\n",
       "    .dataframe thead th {\n",
       "        text-align: right;\n",
       "    }\n",
       "</style>\n",
       "<table border=\"1\" class=\"dataframe\">\n",
       "  <thead>\n",
       "    <tr style=\"text-align: right;\">\n",
       "      <th></th>\n",
       "      <th>Available_beds</th>\n",
       "    </tr>\n",
       "  </thead>\n",
       "  <tbody>\n",
       "    <tr>\n",
       "      <th>count</th>\n",
       "      <td>186.000000</td>\n",
       "    </tr>\n",
       "    <tr>\n",
       "      <th>mean</th>\n",
       "      <td>653.629032</td>\n",
       "    </tr>\n",
       "    <tr>\n",
       "      <th>std</th>\n",
       "      <td>30.149484</td>\n",
       "    </tr>\n",
       "    <tr>\n",
       "      <th>min</th>\n",
       "      <td>559.000000</td>\n",
       "    </tr>\n",
       "    <tr>\n",
       "      <th>25%</th>\n",
       "      <td>623.000000</td>\n",
       "    </tr>\n",
       "    <tr>\n",
       "      <th>50%</th>\n",
       "      <td>658.000000</td>\n",
       "    </tr>\n",
       "    <tr>\n",
       "      <th>75%</th>\n",
       "      <td>680.000000</td>\n",
       "    </tr>\n",
       "    <tr>\n",
       "      <th>max</th>\n",
       "      <td>707.000000</td>\n",
       "    </tr>\n",
       "  </tbody>\n",
       "</table>\n",
       "</div>"
      ],
      "text/plain": [
       "       Available_beds\n",
       "count      186.000000\n",
       "mean       653.629032\n",
       "std         30.149484\n",
       "min        559.000000\n",
       "25%        623.000000\n",
       "50%        658.000000\n",
       "75%        680.000000\n",
       "max        707.000000"
      ]
     },
     "execution_count": 15,
     "metadata": {},
     "output_type": "execute_result"
    }
   ],
   "source": [
    "train_data.describe()"
   ]
  },
  {
   "cell_type": "code",
   "execution_count": 16,
   "metadata": {
    "ExecuteTime": {
     "end_time": "2021-09-12T17:20:14.993341Z",
     "start_time": "2021-09-12T17:20:14.978670Z"
    }
   },
   "outputs": [
    {
     "data": {
      "text/plain": [
       "collection_date    0\n",
       "Available_beds     0\n",
       "dtype: int64"
      ]
     },
     "execution_count": 16,
     "metadata": {},
     "output_type": "execute_result"
    }
   ],
   "source": [
    "train_data.isnull().sum()"
   ]
  },
  {
   "cell_type": "markdown",
   "metadata": {
    "ExecuteTime": {
     "end_time": "2021-08-30T18:19:37.965643Z",
     "start_time": "2021-08-30T18:19:37.952309Z"
    }
   },
   "source": [
    "* Here we can see that there are no null values"
   ]
  },
  {
   "cell_type": "code",
   "execution_count": 17,
   "metadata": {
    "ExecuteTime": {
     "end_time": "2021-09-12T17:20:15.009301Z",
     "start_time": "2021-09-12T17:20:14.994338Z"
    }
   },
   "outputs": [
    {
     "data": {
      "text/plain": [
       "collection_date    0.0\n",
       "Available_beds     0.0\n",
       "dtype: float64"
      ]
     },
     "execution_count": 17,
     "metadata": {},
     "output_type": "execute_result"
    }
   ],
   "source": [
    "train_data[train_data.duplicated()].sum()"
   ]
  },
  {
   "cell_type": "code",
   "execution_count": null,
   "metadata": {
    "ExecuteTime": {
     "end_time": "2021-09-01T12:09:29.420534Z",
     "start_time": "2021-09-01T12:09:29.404982Z"
    }
   },
   "outputs": [],
   "source": []
  },
  {
   "cell_type": "markdown",
   "metadata": {},
   "source": [
    "\n",
    "\n",
    "* There are no duplicated values as well"
   ]
  },
  {
   "cell_type": "code",
   "execution_count": 18,
   "metadata": {
    "ExecuteTime": {
     "end_time": "2021-09-12T17:20:15.025290Z",
     "start_time": "2021-09-12T17:20:15.010296Z"
    }
   },
   "outputs": [
    {
     "data": {
      "text/plain": [
       "collection_date    object\n",
       "Available_beds      int64\n",
       "dtype: object"
      ]
     },
     "execution_count": 18,
     "metadata": {},
     "output_type": "execute_result"
    }
   ],
   "source": [
    "train_data.dtypes"
   ]
  },
  {
   "cell_type": "markdown",
   "metadata": {},
   "source": [
    "* Here, The collection_date is in the format of object. just change that to Datetime64[ns]"
   ]
  },
  {
   "cell_type": "code",
   "execution_count": 19,
   "metadata": {
    "ExecuteTime": {
     "end_time": "2021-09-12T17:20:15.071166Z",
     "start_time": "2021-09-12T17:20:15.048197Z"
    }
   },
   "outputs": [],
   "source": [
    "train_data[\"collection_date\"]= pd.to_datetime(train_data[\"collection_date\"])"
   ]
  },
  {
   "cell_type": "markdown",
   "metadata": {},
   "source": [
    "* Here, we have converted the collection_date to Datetime64[ns]"
   ]
  },
  {
   "cell_type": "code",
   "execution_count": 20,
   "metadata": {
    "ExecuteTime": {
     "end_time": "2021-09-12T17:20:15.087090Z",
     "start_time": "2021-09-12T17:20:15.072131Z"
    }
   },
   "outputs": [
    {
     "data": {
      "text/plain": [
       "collection_date    datetime64[ns]\n",
       "Available_beds              int64\n",
       "dtype: object"
      ]
     },
     "execution_count": 20,
     "metadata": {},
     "output_type": "execute_result"
    }
   ],
   "source": [
    "train_data.dtypes"
   ]
  },
  {
   "cell_type": "markdown",
   "metadata": {},
   "source": [
    "* now, the collection is changed to Datetime64[ns]"
   ]
  },
  {
   "cell_type": "code",
   "execution_count": 21,
   "metadata": {
    "ExecuteTime": {
     "end_time": "2021-09-12T17:20:15.119006Z",
     "start_time": "2021-09-12T17:20:15.089086Z"
    }
   },
   "outputs": [],
   "source": [
    "train_data[\"collection_date\"]= train_data[\"collection_date\"].dt.strftime(\"%d-%m-%y\")\n",
    "train_data[\"collection_date\"]= train_data[\"collection_date\"].astype(\"datetime64[ns]\")"
   ]
  },
  {
   "cell_type": "code",
   "execution_count": 22,
   "metadata": {
    "ExecuteTime": {
     "end_time": "2021-09-12T17:20:15.134963Z",
     "start_time": "2021-09-12T17:20:15.120003Z"
    }
   },
   "outputs": [
    {
     "name": "stdout",
     "output_type": "stream",
     "text": [
      "<class 'pandas.core.frame.DataFrame'>\n",
      "RangeIndex: 186 entries, 0 to 185\n",
      "Data columns (total 2 columns):\n",
      " #   Column           Non-Null Count  Dtype         \n",
      "---  ------           --------------  -----         \n",
      " 0   collection_date  186 non-null    datetime64[ns]\n",
      " 1   Available_beds   186 non-null    int64         \n",
      "dtypes: datetime64[ns](1), int64(1)\n",
      "memory usage: 3.0 KB\n"
     ]
    }
   ],
   "source": [
    "train_data.info()"
   ]
  },
  {
   "cell_type": "code",
   "execution_count": 23,
   "metadata": {
    "ExecuteTime": {
     "end_time": "2021-09-12T17:20:15.150957Z",
     "start_time": "2021-09-12T17:20:15.135960Z"
    }
   },
   "outputs": [
    {
     "name": "stdout",
     "output_type": "stream",
     "text": [
      "collection_date    2020-06-15 00:00:00\n",
      "Available_beds                     559\n",
      "dtype: object\n",
      "collection_date    2020-12-17 00:00:00\n",
      "Available_beds                     707\n",
      "dtype: object\n"
     ]
    }
   ],
   "source": [
    "print(train_data.min())\n",
    "print(train_data.max())"
   ]
  },
  {
   "cell_type": "markdown",
   "metadata": {},
   "source": [
    "* 559, 701 are the minimum and the maximum values of the Data-set"
   ]
  },
  {
   "cell_type": "code",
   "execution_count": 24,
   "metadata": {
    "ExecuteTime": {
     "end_time": "2021-09-12T17:20:15.166878Z",
     "start_time": "2021-09-12T17:20:15.155908Z"
    }
   },
   "outputs": [],
   "source": [
    "# print(pd.date_range(start=\"2020-06-15\", end=\"2021-06-15\").difference(train_data[\"collection_date\"]))"
   ]
  },
  {
   "cell_type": "markdown",
   "metadata": {},
   "source": [
    "## Visualization of the dataset:"
   ]
  },
  {
   "cell_type": "code",
   "execution_count": 25,
   "metadata": {
    "ExecuteTime": {
     "end_time": "2021-09-12T17:20:15.386294Z",
     "start_time": "2021-09-12T17:20:15.168872Z"
    }
   },
   "outputs": [
    {
     "data": {
      "text/plain": [
       "<AxesSubplot:>"
      ]
     },
     "execution_count": 25,
     "metadata": {},
     "output_type": "execute_result"
    },
    {
     "data": {
      "image/png": "[encoded data removed]",
      "text/plain": [
       "<Figure size 432x288 with 1 Axes>"
      ]
     },
     "metadata": {
      "needs_background": "light"
     },
     "output_type": "display_data"
    }
   ],
   "source": [
    "train_data.Available_beds.plot()"
   ]
  },
  {
   "cell_type": "code",
   "execution_count": 26,
   "metadata": {
    "ExecuteTime": {
     "end_time": "2021-09-12T17:20:15.402305Z",
     "start_time": "2021-09-12T17:20:15.389290Z"
    }
   },
   "outputs": [],
   "source": [
    "train_data[\"month\"]= pd.DatetimeIndex(train_data[\"collection_date\"]).month"
   ]
  },
  {
   "cell_type": "code",
   "execution_count": 27,
   "metadata": {
    "ExecuteTime": {
     "end_time": "2021-09-12T17:20:15.670745Z",
     "start_time": "2021-09-12T17:20:15.406239Z"
    }
   },
   "outputs": [
    {
     "data": {
      "text/plain": [
       "<AxesSubplot:xlabel='month', ylabel='Available_beds'>"
      ]
     },
     "execution_count": 27,
     "metadata": {},
     "output_type": "execute_result"
    },
    {
     "data": {
      "image/png": "[encoded data removed]",
      "text/plain": [
       "<Figure size 432x288 with 1 Axes>"
      ]
     },
     "metadata": {
      "needs_background": "light"
     },
     "output_type": "display_data"
    }
   ],
   "source": [
    "sns.boxplot(train_data[\"month\"], train_data[\"Available_beds\"])"
   ]
  },
  {
   "cell_type": "code",
   "execution_count": 28,
   "metadata": {
    "ExecuteTime": {
     "end_time": "2021-09-12T17:20:15.844648Z",
     "start_time": "2021-09-12T17:20:15.672741Z"
    }
   },
   "outputs": [
    {
     "data": {
      "text/plain": [
       "<AxesSubplot:>"
      ]
     },
     "execution_count": 28,
     "metadata": {},
     "output_type": "execute_result"
    },
    {
     "data": {
      "image/png": "[encoded data removed]",
      "text/plain": [
       "<Figure size 432x288 with 1 Axes>"
      ]
     },
     "metadata": {
      "needs_background": "light"
     },
     "output_type": "display_data"
    }
   ],
   "source": [
    "train_data[\"Available_beds\"].hist()"
   ]
  },
  {
   "cell_type": "markdown",
   "metadata": {},
   "source": [
    "* HISTOGRAM"
   ]
  },
  {
   "cell_type": "code",
   "execution_count": 29,
   "metadata": {
    "ExecuteTime": {
     "end_time": "2021-09-12T17:20:16.129885Z",
     "start_time": "2021-09-12T17:20:15.845646Z"
    }
   },
   "outputs": [
    {
     "data": {
      "text/plain": [
       "<AxesSubplot:ylabel='Density'>"
      ]
     },
     "execution_count": 29,
     "metadata": {},
     "output_type": "execute_result"
    },
    {
     "data": {
      "image/png": "[encoded data removed]",
      "text/plain": [
       "<Figure size 432x288 with 1 Axes>"
      ]
     },
     "metadata": {
      "needs_background": "light"
     },
     "output_type": "display_data"
    }
   ],
   "source": [
    "train_data[\"Available_beds\"].plot(kind=\"kde\")"
   ]
  },
  {
   "cell_type": "markdown",
   "metadata": {},
   "source": [
    "## ACF & PACF PLOT:"
   ]
  },
  {
   "cell_type": "code",
   "execution_count": 149,
   "metadata": {
    "ExecuteTime": {
     "end_time": "2021-09-12T17:56:45.711164Z",
     "start_time": "2021-09-12T17:56:45.447510Z"
    }
   },
   "outputs": [
    {
     "data": {
      "image/png": "[encoded data removed]",
      "text/plain": [
       "<Figure size 432x288 with 1 Axes>"
      ]
     },
     "metadata": {
      "needs_background": "light"
     },
     "output_type": "display_data"
    },
    {
     "data": {
      "image/png": "[encoded data removed]",
      "text/plain": [
       "<Figure size 432x288 with 1 Axes>"
      ]
     },
     "metadata": {
      "needs_background": "light"
     },
     "output_type": "display_data"
    }
   ],
   "source": [
    "import statsmodels.graphics.tsaplots as tsa_plot\n",
    "\n",
    "tsa_plot.plot_acf(train_data[\"Available_beds\"], lags= 12)\n",
    "tsa_plot.plot_pacf(train_data[\"Available_beds\"], lags= 12)\n",
    "plt.show()"
   ]
  },
  {
   "cell_type": "code",
   "execution_count": null,
   "metadata": {},
   "outputs": [],
   "source": []
  },
  {
   "cell_type": "markdown",
   "metadata": {},
   "source": [
    "* DENSITY PLOT"
   ]
  },
  {
   "cell_type": "code",
   "execution_count": 30,
   "metadata": {
    "ExecuteTime": {
     "end_time": "2021-09-12T17:20:16.160123Z",
     "start_time": "2021-09-12T17:20:16.131881Z"
    }
   },
   "outputs": [
    {
     "data": {
      "text/html": [
       "<div>\n",
       "<style scoped>\n",
       "    .dataframe tbody tr th:only-of-type {\n",
       "        vertical-align: middle;\n",
       "    }\n",
       "\n",
       "    .dataframe tbody tr th {\n",
       "        vertical-align: top;\n",
       "    }\n",
       "\n",
       "    .dataframe thead th {\n",
       "        text-align: right;\n",
       "    }\n",
       "</style>\n",
       "<table border=\"1\" class=\"dataframe\">\n",
       "  <thead>\n",
       "    <tr style=\"text-align: right;\">\n",
       "      <th></th>\n",
       "      <th>Available_beds</th>\n",
       "    </tr>\n",
       "    <tr>\n",
       "      <th>collection_date</th>\n",
       "      <th></th>\n",
       "    </tr>\n",
       "  </thead>\n",
       "  <tbody>\n",
       "    <tr>\n",
       "      <th>2020-06-15</th>\n",
       "      <td>607</td>\n",
       "    </tr>\n",
       "    <tr>\n",
       "      <th>2020-06-16</th>\n",
       "      <td>605</td>\n",
       "    </tr>\n",
       "    <tr>\n",
       "      <th>2020-06-17</th>\n",
       "      <td>610</td>\n",
       "    </tr>\n",
       "    <tr>\n",
       "      <th>2020-06-18</th>\n",
       "      <td>609</td>\n",
       "    </tr>\n",
       "    <tr>\n",
       "      <th>2020-06-19</th>\n",
       "      <td>612</td>\n",
       "    </tr>\n",
       "    <tr>\n",
       "      <th>...</th>\n",
       "      <td>...</td>\n",
       "    </tr>\n",
       "    <tr>\n",
       "      <th>2020-12-13</th>\n",
       "      <td>622</td>\n",
       "    </tr>\n",
       "    <tr>\n",
       "      <th>2020-12-14</th>\n",
       "      <td>646</td>\n",
       "    </tr>\n",
       "    <tr>\n",
       "      <th>2020-12-15</th>\n",
       "      <td>628</td>\n",
       "    </tr>\n",
       "    <tr>\n",
       "      <th>2020-12-16</th>\n",
       "      <td>622</td>\n",
       "    </tr>\n",
       "    <tr>\n",
       "      <th>2020-12-17</th>\n",
       "      <td>643</td>\n",
       "    </tr>\n",
       "  </tbody>\n",
       "</table>\n",
       "<p>186 rows × 1 columns</p>\n",
       "</div>"
      ],
      "text/plain": [
       "                 Available_beds\n",
       "collection_date                \n",
       "2020-06-15                  607\n",
       "2020-06-16                  605\n",
       "2020-06-17                  610\n",
       "2020-06-18                  609\n",
       "2020-06-19                  612\n",
       "...                         ...\n",
       "2020-12-13                  622\n",
       "2020-12-14                  646\n",
       "2020-12-15                  628\n",
       "2020-12-16                  622\n",
       "2020-12-17                  643\n",
       "\n",
       "[186 rows x 1 columns]"
      ]
     },
     "execution_count": 30,
     "metadata": {},
     "output_type": "execute_result"
    }
   ],
   "source": [
    "# making the collection_date as index of the dataset:\n",
    "\n",
    "train_data.index= train_data[\"collection_date\"]\n",
    "\n",
    "train_data= train_data[[\"Available_beds\"]]\n",
    "\n",
    "train_data"
   ]
  },
  {
   "cell_type": "markdown",
   "metadata": {},
   "source": [
    "## Checking for stationarity of the dataset:"
   ]
  },
  {
   "cell_type": "code",
   "execution_count": 31,
   "metadata": {
    "ExecuteTime": {
     "end_time": "2021-09-12T17:20:16.176145Z",
     "start_time": "2021-09-12T17:20:16.162119Z"
    }
   },
   "outputs": [],
   "source": [
    "# H0: the data is stationarity\n",
    "# H1: the data is non- Stationarity\n",
    "\n",
    "def addfull(data):\n",
    "    values= adfuller(data)\n",
    "    labels=(\"add_fuller_statistics\",\"p_values\",\"no of lags\",\"no of observations used\")\n",
    "    for values,labels in zip(values,labels):\n",
    "        print(labels +\":\"+ str(values))\n",
    "        \n",
    "#     if values[1] <=0.05:\n",
    "#         print(\"The H0 is rejected and the data is stationary\")\n",
    "        \n",
    "#     else:\n",
    "#         print(\"The H1 is rejected and the data is non-statonary\")\n",
    "        "
   ]
  },
  {
   "cell_type": "code",
   "execution_count": 32,
   "metadata": {
    "ExecuteTime": {
     "end_time": "2021-09-12T17:20:16.207995Z",
     "start_time": "2021-09-12T17:20:16.180071Z"
    }
   },
   "outputs": [
    {
     "name": "stdout",
     "output_type": "stream",
     "text": [
      "add_fuller_statistics:-2.711414288225288\n",
      "p_values:0.0720838400105457\n",
      "no of lags:7\n",
      "no of observations used:178\n"
     ]
    }
   ],
   "source": [
    "addfull(train_data[\"Available_beds\"])"
   ]
  },
  {
   "cell_type": "code",
   "execution_count": 33,
   "metadata": {
    "ExecuteTime": {
     "end_time": "2021-09-12T17:20:16.941034Z",
     "start_time": "2021-09-12T17:20:16.208993Z"
    }
   },
   "outputs": [
    {
     "data": {
      "image/png": "[encoded data removed]",
      "text/plain": [
       "<Figure size 432x288 with 4 Axes>"
      ]
     },
     "metadata": {
      "needs_background": "light"
     },
     "output_type": "display_data"
    }
   ],
   "source": [
    "from statsmodels.tsa.seasonal import seasonal_decompose\n",
    "\n",
    "d= seasonal_decompose(train_data[\"Available_beds\"], period= 12)\n",
    "d.plot()\n",
    "plt.show()"
   ]
  },
  {
   "cell_type": "markdown",
   "metadata": {
    "ExecuteTime": {
     "end_time": "2021-08-30T19:15:35.535483Z",
     "start_time": "2021-08-30T19:15:35.524848Z"
    }
   },
   "source": [
    "* DECOMPOSE PLOT"
   ]
  },
  {
   "cell_type": "code",
   "execution_count": 34,
   "metadata": {
    "ExecuteTime": {
     "end_time": "2021-09-12T17:20:17.180458Z",
     "start_time": "2021-09-12T17:20:16.943064Z"
    }
   },
   "outputs": [
    {
     "data": {
      "text/plain": [
       "<AxesSubplot:xlabel='y(t)', ylabel='y(t + 1)'>"
      ]
     },
     "execution_count": 34,
     "metadata": {},
     "output_type": "execute_result"
    },
    {
     "data": {
      "image/png": "[encoded data removed]",
      "text/plain": [
       "<Figure size 432x288 with 1 Axes>"
      ]
     },
     "metadata": {
      "needs_background": "light"
     },
     "output_type": "display_data"
    }
   ],
   "source": [
    "from pandas.plotting import lag_plot\n",
    "\n",
    "lag_plot(train_data.Available_beds)"
   ]
  },
  {
   "cell_type": "markdown",
   "metadata": {},
   "source": [
    "* Lag Plot"
   ]
  },
  {
   "cell_type": "markdown",
   "metadata": {},
   "source": [
    "## Outlier detection using Isolation forest:"
   ]
  },
  {
   "cell_type": "code",
   "execution_count": 35,
   "metadata": {
    "ExecuteTime": {
     "end_time": "2021-09-12T17:20:17.371938Z",
     "start_time": "2021-09-12T17:20:17.181392Z"
    }
   },
   "outputs": [],
   "source": [
    "from sklearn.ensemble import IsolationForest"
   ]
  },
  {
   "cell_type": "code",
   "execution_count": 36,
   "metadata": {
    "ExecuteTime": {
     "end_time": "2021-09-12T17:20:17.607466Z",
     "start_time": "2021-09-12T17:20:17.373877Z"
    }
   },
   "outputs": [],
   "source": [
    "model= IsolationForest(contamination=0.02)\n",
    "\n",
    "out=model.fit_predict(train_data)"
   ]
  },
  {
   "cell_type": "code",
   "execution_count": 37,
   "metadata": {
    "ExecuteTime": {
     "end_time": "2021-09-12T17:20:17.623389Z",
     "start_time": "2021-09-12T17:20:17.608429Z"
    }
   },
   "outputs": [],
   "source": [
    "train_data[\"outlier_values\"]= out"
   ]
  },
  {
   "cell_type": "code",
   "execution_count": 38,
   "metadata": {
    "ExecuteTime": {
     "end_time": "2021-09-12T17:20:17.733096Z",
     "start_time": "2021-09-12T17:20:17.624387Z"
    }
   },
   "outputs": [
    {
     "data": {
      "text/plain": [
       "<AxesSubplot:xlabel='outlier_values', ylabel='count'>"
      ]
     },
     "execution_count": 38,
     "metadata": {},
     "output_type": "execute_result"
    },
    {
     "data": {
      "image/png": "[encoded data removed]",
      "text/plain": [
       "<Figure size 432x288 with 1 Axes>"
      ]
     },
     "metadata": {
      "needs_background": "light"
     },
     "output_type": "display_data"
    }
   ],
   "source": [
    "sns.countplot(train_data[\"outlier_values\"])"
   ]
  },
  {
   "cell_type": "code",
   "execution_count": 39,
   "metadata": {
    "ExecuteTime": {
     "end_time": "2021-09-12T17:20:17.748058Z",
     "start_time": "2021-09-12T17:20:17.734093Z"
    }
   },
   "outputs": [
    {
     "data": {
      "text/html": [
       "<div>\n",
       "<style scoped>\n",
       "    .dataframe tbody tr th:only-of-type {\n",
       "        vertical-align: middle;\n",
       "    }\n",
       "\n",
       "    .dataframe tbody tr th {\n",
       "        vertical-align: top;\n",
       "    }\n",
       "\n",
       "    .dataframe thead th {\n",
       "        text-align: right;\n",
       "    }\n",
       "</style>\n",
       "<table border=\"1\" class=\"dataframe\">\n",
       "  <thead>\n",
       "    <tr style=\"text-align: right;\">\n",
       "      <th></th>\n",
       "      <th>Available_beds</th>\n",
       "      <th>outlier_values</th>\n",
       "    </tr>\n",
       "    <tr>\n",
       "      <th>collection_date</th>\n",
       "      <th></th>\n",
       "      <th></th>\n",
       "    </tr>\n",
       "  </thead>\n",
       "  <tbody>\n",
       "    <tr>\n",
       "      <th>2020-07-16</th>\n",
       "      <td>559</td>\n",
       "      <td>-1</td>\n",
       "    </tr>\n",
       "    <tr>\n",
       "      <th>2020-08-29</th>\n",
       "      <td>601</td>\n",
       "      <td>-1</td>\n",
       "    </tr>\n",
       "    <tr>\n",
       "      <th>2020-09-03</th>\n",
       "      <td>705</td>\n",
       "      <td>-1</td>\n",
       "    </tr>\n",
       "    <tr>\n",
       "      <th>2020-09-25</th>\n",
       "      <td>707</td>\n",
       "      <td>-1</td>\n",
       "    </tr>\n",
       "  </tbody>\n",
       "</table>\n",
       "</div>"
      ],
      "text/plain": [
       "                 Available_beds  outlier_values\n",
       "collection_date                                \n",
       "2020-07-16                  559              -1\n",
       "2020-08-29                  601              -1\n",
       "2020-09-03                  705              -1\n",
       "2020-09-25                  707              -1"
      ]
     },
     "execution_count": 39,
     "metadata": {},
     "output_type": "execute_result"
    }
   ],
   "source": [
    "train_data[train_data[\"outlier_values\"]==-1]"
   ]
  },
  {
   "cell_type": "code",
   "execution_count": 40,
   "metadata": {
    "ExecuteTime": {
     "end_time": "2021-09-12T17:20:17.764046Z",
     "start_time": "2021-09-12T17:20:17.750053Z"
    }
   },
   "outputs": [],
   "source": [
    "# before imputation change these values to the nan values:\n",
    "\n",
    "train_data[\"Available_beds\"]= train_data[\"Available_beds\"].replace([601,559,705,707], np.nan)"
   ]
  },
  {
   "cell_type": "code",
   "execution_count": 41,
   "metadata": {
    "ExecuteTime": {
     "end_time": "2021-09-12T17:20:17.779010Z",
     "start_time": "2021-09-12T17:20:17.765020Z"
    }
   },
   "outputs": [
    {
     "data": {
      "text/plain": [
       "653"
      ]
     },
     "execution_count": 41,
     "metadata": {},
     "output_type": "execute_result"
    }
   ],
   "source": [
    "m=(train_data[\"Available_beds\"]).mean()\n",
    "m=int(m)\n",
    "m\n",
    "\n"
   ]
  },
  {
   "cell_type": "code",
   "execution_count": 42,
   "metadata": {
    "ExecuteTime": {
     "end_time": "2021-09-12T17:20:17.794931Z",
     "start_time": "2021-09-12T17:20:17.779970Z"
    }
   },
   "outputs": [],
   "source": [
    "# imputing the outliers with the mean values:\n",
    "\n",
    "train_data[\"Available_beds\"]= train_data[\"Available_beds\"].fillna(m)\n",
    "train_data= train_data[[\"Available_beds\"]]"
   ]
  },
  {
   "cell_type": "code",
   "execution_count": 43,
   "metadata": {
    "ExecuteTime": {
     "end_time": "2021-09-12T17:20:17.810889Z",
     "start_time": "2021-09-12T17:20:17.795929Z"
    }
   },
   "outputs": [
    {
     "data": {
      "text/html": [
       "<div>\n",
       "<style scoped>\n",
       "    .dataframe tbody tr th:only-of-type {\n",
       "        vertical-align: middle;\n",
       "    }\n",
       "\n",
       "    .dataframe tbody tr th {\n",
       "        vertical-align: top;\n",
       "    }\n",
       "\n",
       "    .dataframe thead th {\n",
       "        text-align: right;\n",
       "    }\n",
       "</style>\n",
       "<table border=\"1\" class=\"dataframe\">\n",
       "  <thead>\n",
       "    <tr style=\"text-align: right;\">\n",
       "      <th></th>\n",
       "      <th>Available_beds</th>\n",
       "    </tr>\n",
       "    <tr>\n",
       "      <th>collection_date</th>\n",
       "      <th></th>\n",
       "    </tr>\n",
       "  </thead>\n",
       "  <tbody>\n",
       "    <tr>\n",
       "      <th>2020-06-15</th>\n",
       "      <td>607</td>\n",
       "    </tr>\n",
       "    <tr>\n",
       "      <th>2020-06-16</th>\n",
       "      <td>605</td>\n",
       "    </tr>\n",
       "    <tr>\n",
       "      <th>2020-06-17</th>\n",
       "      <td>610</td>\n",
       "    </tr>\n",
       "    <tr>\n",
       "      <th>2020-06-18</th>\n",
       "      <td>609</td>\n",
       "    </tr>\n",
       "    <tr>\n",
       "      <th>2020-06-19</th>\n",
       "      <td>612</td>\n",
       "    </tr>\n",
       "    <tr>\n",
       "      <th>...</th>\n",
       "      <td>...</td>\n",
       "    </tr>\n",
       "    <tr>\n",
       "      <th>2020-12-13</th>\n",
       "      <td>622</td>\n",
       "    </tr>\n",
       "    <tr>\n",
       "      <th>2020-12-14</th>\n",
       "      <td>646</td>\n",
       "    </tr>\n",
       "    <tr>\n",
       "      <th>2020-12-15</th>\n",
       "      <td>628</td>\n",
       "    </tr>\n",
       "    <tr>\n",
       "      <th>2020-12-16</th>\n",
       "      <td>622</td>\n",
       "    </tr>\n",
       "    <tr>\n",
       "      <th>2020-12-17</th>\n",
       "      <td>643</td>\n",
       "    </tr>\n",
       "  </tbody>\n",
       "</table>\n",
       "<p>186 rows × 1 columns</p>\n",
       "</div>"
      ],
      "text/plain": [
       "                 Available_beds\n",
       "collection_date                \n",
       "2020-06-15                  607\n",
       "2020-06-16                  605\n",
       "2020-06-17                  610\n",
       "2020-06-18                  609\n",
       "2020-06-19                  612\n",
       "...                         ...\n",
       "2020-12-13                  622\n",
       "2020-12-14                  646\n",
       "2020-12-15                  628\n",
       "2020-12-16                  622\n",
       "2020-12-17                  643\n",
       "\n",
       "[186 rows x 1 columns]"
      ]
     },
     "execution_count": 43,
     "metadata": {},
     "output_type": "execute_result"
    }
   ],
   "source": [
    "t=pd.DataFrame(train_data[\"Available_beds\"].astype(\"int\"))\n",
    "t"
   ]
  },
  {
   "cell_type": "code",
   "execution_count": 44,
   "metadata": {
    "ExecuteTime": {
     "end_time": "2021-09-12T17:20:17.826845Z",
     "start_time": "2021-09-12T17:20:17.811886Z"
    }
   },
   "outputs": [
    {
     "data": {
      "text/html": [
       "<div>\n",
       "<style scoped>\n",
       "    .dataframe tbody tr th:only-of-type {\n",
       "        vertical-align: middle;\n",
       "    }\n",
       "\n",
       "    .dataframe tbody tr th {\n",
       "        vertical-align: top;\n",
       "    }\n",
       "\n",
       "    .dataframe thead th {\n",
       "        text-align: right;\n",
       "    }\n",
       "</style>\n",
       "<table border=\"1\" class=\"dataframe\">\n",
       "  <thead>\n",
       "    <tr style=\"text-align: right;\">\n",
       "      <th></th>\n",
       "      <th>Available_beds</th>\n",
       "    </tr>\n",
       "    <tr>\n",
       "      <th>collection_date</th>\n",
       "      <th></th>\n",
       "    </tr>\n",
       "  </thead>\n",
       "  <tbody>\n",
       "    <tr>\n",
       "      <th>2020-06-15</th>\n",
       "      <td>607.0</td>\n",
       "    </tr>\n",
       "    <tr>\n",
       "      <th>2020-06-16</th>\n",
       "      <td>605.0</td>\n",
       "    </tr>\n",
       "    <tr>\n",
       "      <th>2020-06-17</th>\n",
       "      <td>610.0</td>\n",
       "    </tr>\n",
       "    <tr>\n",
       "      <th>2020-06-18</th>\n",
       "      <td>609.0</td>\n",
       "    </tr>\n",
       "    <tr>\n",
       "      <th>2020-06-19</th>\n",
       "      <td>612.0</td>\n",
       "    </tr>\n",
       "    <tr>\n",
       "      <th>...</th>\n",
       "      <td>...</td>\n",
       "    </tr>\n",
       "    <tr>\n",
       "      <th>2020-12-13</th>\n",
       "      <td>622.0</td>\n",
       "    </tr>\n",
       "    <tr>\n",
       "      <th>2020-12-14</th>\n",
       "      <td>646.0</td>\n",
       "    </tr>\n",
       "    <tr>\n",
       "      <th>2020-12-15</th>\n",
       "      <td>628.0</td>\n",
       "    </tr>\n",
       "    <tr>\n",
       "      <th>2020-12-16</th>\n",
       "      <td>622.0</td>\n",
       "    </tr>\n",
       "    <tr>\n",
       "      <th>2020-12-17</th>\n",
       "      <td>643.0</td>\n",
       "    </tr>\n",
       "  </tbody>\n",
       "</table>\n",
       "<p>186 rows × 1 columns</p>\n",
       "</div>"
      ],
      "text/plain": [
       "                 Available_beds\n",
       "collection_date                \n",
       "2020-06-15                607.0\n",
       "2020-06-16                605.0\n",
       "2020-06-17                610.0\n",
       "2020-06-18                609.0\n",
       "2020-06-19                612.0\n",
       "...                         ...\n",
       "2020-12-13                622.0\n",
       "2020-12-14                646.0\n",
       "2020-12-15                628.0\n",
       "2020-12-16                622.0\n",
       "2020-12-17                643.0\n",
       "\n",
       "[186 rows x 1 columns]"
      ]
     },
     "execution_count": 44,
     "metadata": {},
     "output_type": "execute_result"
    }
   ],
   "source": [
    "train_data"
   ]
  },
  {
   "cell_type": "code",
   "execution_count": 45,
   "metadata": {
    "ExecuteTime": {
     "end_time": "2021-09-12T17:20:17.842802Z",
     "start_time": "2021-09-12T17:20:17.827842Z"
    }
   },
   "outputs": [
    {
     "data": {
      "text/plain": [
       "array([[607.],\n",
       "       [605.],\n",
       "       [610.],\n",
       "       [609.],\n",
       "       [612.],\n",
       "       [611.],\n",
       "       [623.],\n",
       "       [611.],\n",
       "       [608.],\n",
       "       [607.],\n",
       "       [609.],\n",
       "       [618.],\n",
       "       [617.],\n",
       "       [616.],\n",
       "       [706.],\n",
       "       [608.],\n",
       "       [625.],\n",
       "       [610.],\n",
       "       [613.],\n",
       "       [617.],\n",
       "       [618.],\n",
       "       [616.],\n",
       "       [609.],\n",
       "       [608.],\n",
       "       [606.],\n",
       "       [613.],\n",
       "       [616.],\n",
       "       [618.],\n",
       "       [608.],\n",
       "       [608.],\n",
       "       [609.],\n",
       "       [653.],\n",
       "       [666.],\n",
       "       [665.],\n",
       "       [646.],\n",
       "       [641.],\n",
       "       [631.],\n",
       "       [623.],\n",
       "       [628.],\n",
       "       [626.],\n",
       "       [698.],\n",
       "       [681.],\n",
       "       [668.],\n",
       "       [693.],\n",
       "       [687.],\n",
       "       [672.],\n",
       "       [688.],\n",
       "       [673.],\n",
       "       [685.],\n",
       "       [608.],\n",
       "       [686.],\n",
       "       [651.],\n",
       "       [612.],\n",
       "       [673.],\n",
       "       [691.],\n",
       "       [622.],\n",
       "       [658.],\n",
       "       [649.],\n",
       "       [687.],\n",
       "       [693.],\n",
       "       [686.],\n",
       "       [663.],\n",
       "       [621.],\n",
       "       [693.],\n",
       "       [628.],\n",
       "       [627.],\n",
       "       [618.],\n",
       "       [652.],\n",
       "       [680.],\n",
       "       [622.],\n",
       "       [648.],\n",
       "       [701.],\n",
       "       [687.],\n",
       "       [693.],\n",
       "       [616.],\n",
       "       [653.],\n",
       "       [609.],\n",
       "       [608.],\n",
       "       [618.],\n",
       "       [673.],\n",
       "       [653.],\n",
       "       [648.],\n",
       "       [649.],\n",
       "       [681.],\n",
       "       [668.],\n",
       "       [663.],\n",
       "       [667.],\n",
       "       [672.],\n",
       "       [688.],\n",
       "       [673.],\n",
       "       [678.],\n",
       "       [668.],\n",
       "       [648.],\n",
       "       [681.],\n",
       "       [676.],\n",
       "       [673.],\n",
       "       [667.],\n",
       "       [672.],\n",
       "       [688.],\n",
       "       [643.],\n",
       "       [681.],\n",
       "       [665.],\n",
       "       [653.],\n",
       "       [671.],\n",
       "       [628.],\n",
       "       [680.],\n",
       "       [641.],\n",
       "       [658.],\n",
       "       [642.],\n",
       "       [679.],\n",
       "       [687.],\n",
       "       [623.],\n",
       "       [656.],\n",
       "       [641.],\n",
       "       [661.],\n",
       "       [653.],\n",
       "       [618.],\n",
       "       [648.],\n",
       "       [649.],\n",
       "       [681.],\n",
       "       [658.],\n",
       "       [643.],\n",
       "       [667.],\n",
       "       [672.],\n",
       "       [688.],\n",
       "       [682.],\n",
       "       [687.],\n",
       "       [687.],\n",
       "       [628.],\n",
       "       [651.],\n",
       "       [668.],\n",
       "       [680.],\n",
       "       [671.],\n",
       "       [668.],\n",
       "       [643.],\n",
       "       [689.],\n",
       "       [687.],\n",
       "       [663.],\n",
       "       [686.],\n",
       "       [641.],\n",
       "       [681.],\n",
       "       [673.],\n",
       "       [668.],\n",
       "       [689.],\n",
       "       [678.],\n",
       "       [686.],\n",
       "       [663.],\n",
       "       [651.],\n",
       "       [665.],\n",
       "       [695.],\n",
       "       [696.],\n",
       "       [670.],\n",
       "       [685.],\n",
       "       [681.],\n",
       "       [677.],\n",
       "       [617.],\n",
       "       [676.],\n",
       "       [625.],\n",
       "       [669.],\n",
       "       [671.],\n",
       "       [668.],\n",
       "       [648.],\n",
       "       [649.],\n",
       "       [687.],\n",
       "       [658.],\n",
       "       [658.],\n",
       "       [658.],\n",
       "       [658.],\n",
       "       [693.],\n",
       "       [648.],\n",
       "       [690.],\n",
       "       [622.],\n",
       "       [681.],\n",
       "       [668.],\n",
       "       [643.],\n",
       "       [667.],\n",
       "       [672.],\n",
       "       [688.],\n",
       "       [693.],\n",
       "       [648.],\n",
       "       [690.],\n",
       "       [622.],\n",
       "       [646.],\n",
       "       [628.],\n",
       "       [622.],\n",
       "       [643.]])"
      ]
     },
     "execution_count": 45,
     "metadata": {},
     "output_type": "execute_result"
    }
   ],
   "source": [
    "Data=train_data.values\n",
    "Data"
   ]
  },
  {
   "cell_type": "code",
   "execution_count": 46,
   "metadata": {
    "ExecuteTime": {
     "end_time": "2021-09-12T17:20:17.858759Z",
     "start_time": "2021-09-12T17:20:17.843801Z"
    }
   },
   "outputs": [],
   "source": [
    "# test_data[\"collection_date\"]= test_data[\"collection_date\"].dt.strftime(\"%d-%m-%y\")\n",
    "test_data[\"collection_date\"]= test_data[\"collection_date\"].astype(\"datetime64[ns]\")"
   ]
  },
  {
   "cell_type": "code",
   "execution_count": 47,
   "metadata": {
    "ExecuteTime": {
     "end_time": "2021-09-12T17:20:17.874718Z",
     "start_time": "2021-09-12T17:20:17.859757Z"
    }
   },
   "outputs": [
    {
     "name": "stdout",
     "output_type": "stream",
     "text": [
      "<class 'pandas.core.frame.DataFrame'>\n",
      "RangeIndex: 180 entries, 186 to 365\n",
      "Data columns (total 2 columns):\n",
      " #   Column           Non-Null Count  Dtype         \n",
      "---  ------           --------------  -----         \n",
      " 0   collection_date  180 non-null    datetime64[ns]\n",
      " 1   Available_beds   180 non-null    int64         \n",
      "dtypes: datetime64[ns](1), int64(1)\n",
      "memory usage: 2.9 KB\n"
     ]
    }
   ],
   "source": [
    "test_data.info()"
   ]
  },
  {
   "cell_type": "code",
   "execution_count": 48,
   "metadata": {
    "ExecuteTime": {
     "end_time": "2021-09-12T17:20:17.890678Z",
     "start_time": "2021-09-12T17:20:17.875718Z"
    }
   },
   "outputs": [],
   "source": [
    "test_data[\"collection_date\"]= test_data[\"collection_date\"].dt.strftime(\"%d-%m-%y\")\n"
   ]
  },
  {
   "cell_type": "code",
   "execution_count": 49,
   "metadata": {
    "ExecuteTime": {
     "end_time": "2021-09-12T17:20:17.922625Z",
     "start_time": "2021-09-12T17:20:17.893669Z"
    }
   },
   "outputs": [],
   "source": [
    "test_data[\"collection_date\"]= test_data[\"collection_date\"].astype(\"datetime64[ns]\")"
   ]
  },
  {
   "cell_type": "code",
   "execution_count": 50,
   "metadata": {
    "ExecuteTime": {
     "end_time": "2021-09-12T17:20:17.938597Z",
     "start_time": "2021-09-12T17:20:17.923588Z"
    }
   },
   "outputs": [],
   "source": [
    "test_data.index= test_data[\"collection_date\"]"
   ]
  },
  {
   "cell_type": "code",
   "execution_count": 51,
   "metadata": {
    "ExecuteTime": {
     "end_time": "2021-09-12T17:20:17.954505Z",
     "start_time": "2021-09-12T17:20:17.940543Z"
    }
   },
   "outputs": [
    {
     "data": {
      "text/html": [
       "<div>\n",
       "<style scoped>\n",
       "    .dataframe tbody tr th:only-of-type {\n",
       "        vertical-align: middle;\n",
       "    }\n",
       "\n",
       "    .dataframe tbody tr th {\n",
       "        vertical-align: top;\n",
       "    }\n",
       "\n",
       "    .dataframe thead th {\n",
       "        text-align: right;\n",
       "    }\n",
       "</style>\n",
       "<table border=\"1\" class=\"dataframe\">\n",
       "  <thead>\n",
       "    <tr style=\"text-align: right;\">\n",
       "      <th></th>\n",
       "      <th>Available_beds</th>\n",
       "    </tr>\n",
       "    <tr>\n",
       "      <th>collection_date</th>\n",
       "      <th></th>\n",
       "    </tr>\n",
       "  </thead>\n",
       "  <tbody>\n",
       "    <tr>\n",
       "      <th>2020-12-18</th>\n",
       "      <td>655</td>\n",
       "    </tr>\n",
       "    <tr>\n",
       "      <th>2020-12-19</th>\n",
       "      <td>652</td>\n",
       "    </tr>\n",
       "    <tr>\n",
       "      <th>2020-12-20</th>\n",
       "      <td>688</td>\n",
       "    </tr>\n",
       "    <tr>\n",
       "      <th>2020-12-21</th>\n",
       "      <td>653</td>\n",
       "    </tr>\n",
       "    <tr>\n",
       "      <th>2020-12-22</th>\n",
       "      <td>686</td>\n",
       "    </tr>\n",
       "    <tr>\n",
       "      <th>...</th>\n",
       "      <td>...</td>\n",
       "    </tr>\n",
       "    <tr>\n",
       "      <th>2021-06-11</th>\n",
       "      <td>588</td>\n",
       "    </tr>\n",
       "    <tr>\n",
       "      <th>2021-06-12</th>\n",
       "      <td>688</td>\n",
       "    </tr>\n",
       "    <tr>\n",
       "      <th>2021-06-13</th>\n",
       "      <td>601</td>\n",
       "    </tr>\n",
       "    <tr>\n",
       "      <th>2021-06-14</th>\n",
       "      <td>698</td>\n",
       "    </tr>\n",
       "    <tr>\n",
       "      <th>2021-06-15</th>\n",
       "      <td>680</td>\n",
       "    </tr>\n",
       "  </tbody>\n",
       "</table>\n",
       "<p>180 rows × 1 columns</p>\n",
       "</div>"
      ],
      "text/plain": [
       "                 Available_beds\n",
       "collection_date                \n",
       "2020-12-18                  655\n",
       "2020-12-19                  652\n",
       "2020-12-20                  688\n",
       "2020-12-21                  653\n",
       "2020-12-22                  686\n",
       "...                         ...\n",
       "2021-06-11                  588\n",
       "2021-06-12                  688\n",
       "2021-06-13                  601\n",
       "2021-06-14                  698\n",
       "2021-06-15                  680\n",
       "\n",
       "[180 rows x 1 columns]"
      ]
     },
     "execution_count": 51,
     "metadata": {},
     "output_type": "execute_result"
    }
   ],
   "source": [
    "\n",
    "test_data= test_data[[\"Available_beds\"]]\n",
    "test_data"
   ]
  },
  {
   "cell_type": "markdown",
   "metadata": {
    "ExecuteTime": {
     "end_time": "2021-08-31T10:25:29.370447Z",
     "start_time": "2021-08-31T10:25:29.358441Z"
    }
   },
   "source": [
    "## Model Building :"
   ]
  },
  {
   "cell_type": "markdown",
   "metadata": {},
   "source": [
    "### Naive model:"
   ]
  },
  {
   "cell_type": "code",
   "execution_count": 52,
   "metadata": {
    "ExecuteTime": {
     "end_time": "2021-09-12T17:20:17.970461Z",
     "start_time": "2021-09-12T17:20:17.955517Z"
    }
   },
   "outputs": [
    {
     "data": {
      "text/plain": [
       "93"
      ]
     },
     "execution_count": 52,
     "metadata": {},
     "output_type": "execute_result"
    }
   ],
   "source": [
    "# naive_model = ARIMA(train_data, order=())\n",
    "Data\n",
    "Data.astype(\"float32\")\n",
    "\n",
    "test_size= int(len(train_data)*0.5)\n",
    "test_size"
   ]
  },
  {
   "cell_type": "code",
   "execution_count": 53,
   "metadata": {
    "ExecuteTime": {
     "end_time": "2021-09-12T17:20:17.986419Z",
     "start_time": "2021-09-12T17:20:17.971459Z"
    }
   },
   "outputs": [],
   "source": [
    "tr_data= Data[:test_size]\n",
    "tst_data= Data[test_size:]"
   ]
  },
  {
   "cell_type": "code",
   "execution_count": 54,
   "metadata": {
    "ExecuteTime": {
     "end_time": "2021-09-12T17:20:17.998987Z",
     "start_time": "2021-09-12T17:20:17.988414Z"
    }
   },
   "outputs": [
    {
     "data": {
      "text/plain": [
       "(93, 1)"
      ]
     },
     "execution_count": 54,
     "metadata": {},
     "output_type": "execute_result"
    }
   ],
   "source": [
    "tr_data.shape"
   ]
  },
  {
   "cell_type": "code",
   "execution_count": 55,
   "metadata": {
    "ExecuteTime": {
     "end_time": "2021-09-12T17:20:18.014824Z",
     "start_time": "2021-09-12T17:20:17.998987Z"
    }
   },
   "outputs": [
    {
     "data": {
      "text/plain": [
       "(93, 1)"
      ]
     },
     "execution_count": 55,
     "metadata": {},
     "output_type": "execute_result"
    }
   ],
   "source": [
    "tst_data.shape"
   ]
  },
  {
   "cell_type": "code",
   "execution_count": 56,
   "metadata": {
    "ExecuteTime": {
     "end_time": "2021-09-12T17:20:18.030748Z",
     "start_time": "2021-09-12T17:20:18.016785Z"
    },
    "scrolled": true
   },
   "outputs": [
    {
     "name": "stdout",
     "output_type": "stream",
     "text": [
      ">expected=648.000,prediction=681.000\n",
      ">expected=681.000,prediction=676.000\n",
      ">expected=676.000,prediction=673.000\n",
      ">expected=673.000,prediction=667.000\n",
      ">expected=667.000,prediction=672.000\n",
      ">expected=672.000,prediction=688.000\n",
      ">expected=688.000,prediction=643.000\n",
      ">expected=643.000,prediction=681.000\n",
      ">expected=681.000,prediction=665.000\n",
      ">expected=665.000,prediction=653.000\n",
      ">expected=653.000,prediction=671.000\n",
      ">expected=671.000,prediction=628.000\n",
      ">expected=628.000,prediction=680.000\n",
      ">expected=680.000,prediction=641.000\n",
      ">expected=641.000,prediction=658.000\n",
      ">expected=658.000,prediction=642.000\n",
      ">expected=642.000,prediction=679.000\n",
      ">expected=679.000,prediction=687.000\n",
      ">expected=687.000,prediction=623.000\n",
      ">expected=623.000,prediction=656.000\n",
      ">expected=656.000,prediction=641.000\n",
      ">expected=641.000,prediction=661.000\n",
      ">expected=661.000,prediction=653.000\n",
      ">expected=653.000,prediction=618.000\n",
      ">expected=618.000,prediction=648.000\n",
      ">expected=648.000,prediction=649.000\n",
      ">expected=649.000,prediction=681.000\n",
      ">expected=681.000,prediction=658.000\n",
      ">expected=658.000,prediction=643.000\n",
      ">expected=643.000,prediction=667.000\n",
      ">expected=667.000,prediction=672.000\n",
      ">expected=672.000,prediction=688.000\n",
      ">expected=688.000,prediction=682.000\n",
      ">expected=682.000,prediction=687.000\n",
      ">expected=687.000,prediction=687.000\n",
      ">expected=687.000,prediction=628.000\n",
      ">expected=628.000,prediction=651.000\n",
      ">expected=651.000,prediction=668.000\n",
      ">expected=668.000,prediction=680.000\n",
      ">expected=680.000,prediction=671.000\n",
      ">expected=671.000,prediction=668.000\n",
      ">expected=668.000,prediction=643.000\n",
      ">expected=643.000,prediction=689.000\n",
      ">expected=689.000,prediction=687.000\n",
      ">expected=687.000,prediction=663.000\n",
      ">expected=663.000,prediction=686.000\n",
      ">expected=686.000,prediction=641.000\n",
      ">expected=641.000,prediction=681.000\n",
      ">expected=681.000,prediction=673.000\n",
      ">expected=673.000,prediction=668.000\n",
      ">expected=668.000,prediction=689.000\n",
      ">expected=689.000,prediction=678.000\n",
      ">expected=678.000,prediction=686.000\n",
      ">expected=686.000,prediction=663.000\n",
      ">expected=663.000,prediction=651.000\n",
      ">expected=651.000,prediction=665.000\n",
      ">expected=665.000,prediction=695.000\n",
      ">expected=695.000,prediction=696.000\n",
      ">expected=696.000,prediction=670.000\n",
      ">expected=670.000,prediction=685.000\n",
      ">expected=685.000,prediction=681.000\n",
      ">expected=681.000,prediction=677.000\n",
      ">expected=677.000,prediction=617.000\n",
      ">expected=617.000,prediction=676.000\n",
      ">expected=676.000,prediction=625.000\n",
      ">expected=625.000,prediction=669.000\n",
      ">expected=669.000,prediction=671.000\n",
      ">expected=671.000,prediction=668.000\n",
      ">expected=668.000,prediction=648.000\n",
      ">expected=648.000,prediction=649.000\n",
      ">expected=649.000,prediction=687.000\n",
      ">expected=687.000,prediction=658.000\n",
      ">expected=658.000,prediction=658.000\n",
      ">expected=658.000,prediction=658.000\n",
      ">expected=658.000,prediction=658.000\n",
      ">expected=658.000,prediction=693.000\n",
      ">expected=693.000,prediction=648.000\n",
      ">expected=648.000,prediction=690.000\n",
      ">expected=690.000,prediction=622.000\n",
      ">expected=622.000,prediction=681.000\n",
      ">expected=681.000,prediction=668.000\n",
      ">expected=668.000,prediction=643.000\n",
      ">expected=643.000,prediction=667.000\n",
      ">expected=667.000,prediction=672.000\n",
      ">expected=672.000,prediction=688.000\n",
      ">expected=688.000,prediction=693.000\n",
      ">expected=693.000,prediction=648.000\n",
      ">expected=648.000,prediction=690.000\n",
      ">expected=690.000,prediction=622.000\n",
      ">expected=622.000,prediction=646.000\n",
      ">expected=646.000,prediction=628.000\n",
      ">expected=628.000,prediction=622.000\n",
      ">expected=622.000,prediction=643.000\n",
      "29.091808698211484\n"
     ]
    }
   ],
   "source": [
    "from math import sqrt\n",
    "\n",
    "history= [x for x in tr_data]\n",
    "\n",
    "prediction=list()\n",
    "for i in range(len(tst_data)):\n",
    "    a=history[-1]\n",
    "    prediction.append(a)\n",
    "    \n",
    "    obs= tst_data[i]\n",
    "    history.append(obs)\n",
    "    print(\">expected=%.03f,prediction=%.03f\"%(a,obs))\n",
    "    \n",
    "rmse=sqrt(mean_squared_error(tst_data, prediction))\n",
    "print(rmse)"
   ]
  },
  {
   "cell_type": "markdown",
   "metadata": {},
   "source": [
    "### Hyper tunning the parameters in ARIMA:"
   ]
  },
  {
   "cell_type": "code",
   "execution_count": 57,
   "metadata": {
    "ExecuteTime": {
     "end_time": "2021-09-12T17:20:18.046736Z",
     "start_time": "2021-09-12T17:20:18.031745Z"
    }
   },
   "outputs": [
    {
     "data": {
      "text/plain": [
       "array([[607.],\n",
       "       [605.],\n",
       "       [610.],\n",
       "       [609.],\n",
       "       [612.],\n",
       "       [611.],\n",
       "       [623.],\n",
       "       [611.],\n",
       "       [608.],\n",
       "       [607.],\n",
       "       [609.],\n",
       "       [618.],\n",
       "       [617.],\n",
       "       [616.],\n",
       "       [706.],\n",
       "       [608.],\n",
       "       [625.],\n",
       "       [610.],\n",
       "       [613.],\n",
       "       [617.],\n",
       "       [618.],\n",
       "       [616.],\n",
       "       [609.],\n",
       "       [608.],\n",
       "       [606.],\n",
       "       [613.],\n",
       "       [616.],\n",
       "       [618.],\n",
       "       [608.],\n",
       "       [608.],\n",
       "       [609.],\n",
       "       [653.],\n",
       "       [666.],\n",
       "       [665.],\n",
       "       [646.],\n",
       "       [641.],\n",
       "       [631.],\n",
       "       [623.],\n",
       "       [628.],\n",
       "       [626.],\n",
       "       [698.],\n",
       "       [681.],\n",
       "       [668.],\n",
       "       [693.],\n",
       "       [687.],\n",
       "       [672.],\n",
       "       [688.],\n",
       "       [673.],\n",
       "       [685.],\n",
       "       [608.],\n",
       "       [686.],\n",
       "       [651.],\n",
       "       [612.],\n",
       "       [673.],\n",
       "       [691.],\n",
       "       [622.],\n",
       "       [658.],\n",
       "       [649.],\n",
       "       [687.],\n",
       "       [693.],\n",
       "       [686.],\n",
       "       [663.],\n",
       "       [621.],\n",
       "       [693.],\n",
       "       [628.],\n",
       "       [627.],\n",
       "       [618.],\n",
       "       [652.],\n",
       "       [680.],\n",
       "       [622.],\n",
       "       [648.],\n",
       "       [701.],\n",
       "       [687.],\n",
       "       [693.],\n",
       "       [616.],\n",
       "       [653.],\n",
       "       [609.],\n",
       "       [608.],\n",
       "       [618.],\n",
       "       [673.],\n",
       "       [653.],\n",
       "       [648.],\n",
       "       [649.],\n",
       "       [681.],\n",
       "       [668.],\n",
       "       [663.],\n",
       "       [667.],\n",
       "       [672.],\n",
       "       [688.],\n",
       "       [673.],\n",
       "       [678.],\n",
       "       [668.],\n",
       "       [648.],\n",
       "       [681.],\n",
       "       [676.],\n",
       "       [673.],\n",
       "       [667.],\n",
       "       [672.],\n",
       "       [688.],\n",
       "       [643.],\n",
       "       [681.],\n",
       "       [665.],\n",
       "       [653.],\n",
       "       [671.],\n",
       "       [628.],\n",
       "       [680.],\n",
       "       [641.],\n",
       "       [658.],\n",
       "       [642.],\n",
       "       [679.],\n",
       "       [687.],\n",
       "       [623.],\n",
       "       [656.],\n",
       "       [641.],\n",
       "       [661.],\n",
       "       [653.],\n",
       "       [618.],\n",
       "       [648.],\n",
       "       [649.],\n",
       "       [681.],\n",
       "       [658.],\n",
       "       [643.],\n",
       "       [667.],\n",
       "       [672.],\n",
       "       [688.],\n",
       "       [682.],\n",
       "       [687.],\n",
       "       [687.],\n",
       "       [628.],\n",
       "       [651.],\n",
       "       [668.],\n",
       "       [680.],\n",
       "       [671.],\n",
       "       [668.],\n",
       "       [643.],\n",
       "       [689.],\n",
       "       [687.],\n",
       "       [663.],\n",
       "       [686.],\n",
       "       [641.],\n",
       "       [681.],\n",
       "       [673.],\n",
       "       [668.],\n",
       "       [689.],\n",
       "       [678.],\n",
       "       [686.],\n",
       "       [663.],\n",
       "       [651.],\n",
       "       [665.],\n",
       "       [695.],\n",
       "       [696.],\n",
       "       [670.],\n",
       "       [685.],\n",
       "       [681.],\n",
       "       [677.],\n",
       "       [617.],\n",
       "       [676.],\n",
       "       [625.],\n",
       "       [669.],\n",
       "       [671.],\n",
       "       [668.],\n",
       "       [648.],\n",
       "       [649.],\n",
       "       [687.],\n",
       "       [658.],\n",
       "       [658.],\n",
       "       [658.],\n",
       "       [658.],\n",
       "       [693.],\n",
       "       [648.],\n",
       "       [690.],\n",
       "       [622.],\n",
       "       [681.],\n",
       "       [668.],\n",
       "       [643.],\n",
       "       [667.],\n",
       "       [672.],\n",
       "       [688.],\n",
       "       [693.],\n",
       "       [648.],\n",
       "       [690.],\n",
       "       [622.],\n",
       "       [646.],\n",
       "       [628.],\n",
       "       [622.],\n",
       "       [643.]])"
      ]
     },
     "execution_count": 57,
     "metadata": {},
     "output_type": "execute_result"
    }
   ],
   "source": [
    "train_data.values"
   ]
  },
  {
   "cell_type": "code",
   "execution_count": 58,
   "metadata": {
    "ExecuteTime": {
     "end_time": "2021-09-12T17:20:18.062663Z",
     "start_time": "2021-09-12T17:20:18.048699Z"
    }
   },
   "outputs": [],
   "source": [
    " # evaluate an ARIMA model for a given order (p,d,q) and return RMSE\n",
    "def evaluate_arima_model(X, arima_order):\n",
    "    X = X.astype('float32')\n",
    "    train_size = int(len(X) * 0.50)\n",
    "    train, test = X[0:train_size], X[train_size:]\n",
    "    history = [x for x in train]\n",
    "# make predictions\n",
    "    predictions = list()\n",
    "    for t in range(len(test)):\n",
    "        model = ARIMA(history, order=arima_order)\n",
    "# model_fit = model.fit(disp=0)\n",
    "        model_fit = model.fit(disp=0)\n",
    "        yhat = model_fit.forecast()[0]\n",
    "        predictions.append(yhat)\n",
    "        history.append(test[t])\n",
    "# calculate out of sample error\n",
    "    rmse = sqrt(mean_squared_error(test, predictions))\n",
    "    return rmse\n",
    "        "
   ]
  },
  {
   "cell_type": "code",
   "execution_count": 59,
   "metadata": {
    "ExecuteTime": {
     "end_time": "2021-09-12T17:20:18.078620Z",
     "start_time": "2021-09-12T17:20:18.063661Z"
    }
   },
   "outputs": [],
   "source": [
    "                    \n",
    "# evaluate combinations of p, d and q values for an ARIMA model\n",
    "def evaluate_models(dataset, p_values, d_values, q_values):\n",
    "    dataset = dataset.astype('float32')\n",
    "    best_score, best_cfg = float('inf'), None\n",
    "    for p in p_values:\n",
    "        for d in d_values:\n",
    "            for q in q_values:\n",
    "                order = (p,d,q)\n",
    "                try:\n",
    "                    rmse = evaluate_arima_model(train, order)\n",
    "                    if rmse < best_score:\n",
    "                        best_score, best_cfg = rmse, order\n",
    "                    print('ARIMA%s RMSE=%.3f' % (order,rmse))\n",
    "                except:\n",
    "                    continue\n",
    "    print('Best ARIMA%s RMSE=%.3f' % (best_cfg, best_score))"
   ]
  },
  {
   "cell_type": "code",
   "execution_count": 60,
   "metadata": {
    "ExecuteTime": {
     "end_time": "2021-09-12T17:20:18.094577Z",
     "start_time": "2021-09-12T17:20:18.080615Z"
    }
   },
   "outputs": [
    {
     "data": {
      "text/plain": [
       "array([607., 605., 610., 609., 612., 611., 623., 611., 608., 607., 609.,\n",
       "       618., 617., 616., 706., 608., 625., 610., 613., 617., 618., 616.,\n",
       "       609., 608., 606., 613., 616., 618., 608., 608., 609., 653., 666.,\n",
       "       665., 646., 641., 631., 623., 628., 626., 698., 681., 668., 693.,\n",
       "       687., 672., 688., 673., 685., 608., 686., 651., 612., 673., 691.,\n",
       "       622., 658., 649., 687., 693., 686., 663., 621., 693., 628., 627.,\n",
       "       618., 652., 680., 622., 648., 701., 687., 693., 616., 653., 609.,\n",
       "       608., 618., 673., 653., 648., 649., 681., 668., 663., 667., 672.,\n",
       "       688., 673., 678., 668., 648., 681., 676., 673., 667., 672., 688.,\n",
       "       643., 681., 665., 653., 671., 628., 680., 641., 658., 642., 679.,\n",
       "       687., 623., 656., 641., 661., 653., 618., 648., 649., 681., 658.,\n",
       "       643., 667., 672., 688., 682., 687., 687., 628., 651., 668., 680.,\n",
       "       671., 668., 643., 689., 687., 663., 686., 641., 681., 673., 668.,\n",
       "       689., 678., 686., 663., 651., 665., 695., 696., 670., 685., 681.,\n",
       "       677., 617., 676., 625., 669., 671., 668., 648., 649., 687., 658.,\n",
       "       658., 658., 658., 693., 648., 690., 622., 681., 668., 643., 667.,\n",
       "       672., 688., 693., 648., 690., 622., 646., 628., 622., 643.])"
      ]
     },
     "execution_count": 60,
     "metadata": {},
     "output_type": "execute_result"
    }
   ],
   "source": [
    "train=train_data[\"Available_beds\"]\n",
    "train.values"
   ]
  },
  {
   "cell_type": "code",
   "execution_count": 61,
   "metadata": {
    "ExecuteTime": {
     "end_time": "2021-09-12T17:20:18.110534Z",
     "start_time": "2021-09-12T17:20:18.095574Z"
    }
   },
   "outputs": [
    {
     "data": {
      "text/plain": [
       "(366, 2)"
      ]
     },
     "execution_count": 61,
     "metadata": {},
     "output_type": "execute_result"
    }
   ],
   "source": [
    "data.shape"
   ]
  },
  {
   "cell_type": "code",
   "execution_count": null,
   "metadata": {},
   "outputs": [],
   "source": []
  },
  {
   "cell_type": "code",
   "execution_count": 62,
   "metadata": {
    "ExecuteTime": {
     "end_time": "2021-09-12T17:20:18.126491Z",
     "start_time": "2021-09-12T17:20:18.111532Z"
    }
   },
   "outputs": [],
   "source": [
    "p_value= range(0,5)\n",
    "d_value= range(0,5)\n",
    "q_value= range(0,5)\n",
    "\n",
    "evaluate_models(train_data,p_value,d_value, q_value)"
   ]
  },
  {
   "cell_type": "markdown",
   "metadata": {},
   "source": [
    "### Splitting the data into train & test:"
   ]
  },
  {
   "cell_type": "code",
   "execution_count": 63,
   "metadata": {
    "ExecuteTime": {
     "end_time": "2021-09-12T17:20:18.142482Z",
     "start_time": "2021-09-12T17:20:18.127490Z"
    }
   },
   "outputs": [
    {
     "data": {
      "text/html": [
       "<div>\n",
       "<style scoped>\n",
       "    .dataframe tbody tr th:only-of-type {\n",
       "        vertical-align: middle;\n",
       "    }\n",
       "\n",
       "    .dataframe tbody tr th {\n",
       "        vertical-align: top;\n",
       "    }\n",
       "\n",
       "    .dataframe thead th {\n",
       "        text-align: right;\n",
       "    }\n",
       "</style>\n",
       "<table border=\"1\" class=\"dataframe\">\n",
       "  <thead>\n",
       "    <tr style=\"text-align: right;\">\n",
       "      <th></th>\n",
       "      <th>Available_beds</th>\n",
       "    </tr>\n",
       "    <tr>\n",
       "      <th>collection_date</th>\n",
       "      <th></th>\n",
       "    </tr>\n",
       "  </thead>\n",
       "  <tbody>\n",
       "    <tr>\n",
       "      <th>2020-11-02</th>\n",
       "      <td>681.0</td>\n",
       "    </tr>\n",
       "    <tr>\n",
       "      <th>2020-11-03</th>\n",
       "      <td>673.0</td>\n",
       "    </tr>\n",
       "    <tr>\n",
       "      <th>2020-11-04</th>\n",
       "      <td>668.0</td>\n",
       "    </tr>\n",
       "    <tr>\n",
       "      <th>2020-11-05</th>\n",
       "      <td>689.0</td>\n",
       "    </tr>\n",
       "    <tr>\n",
       "      <th>2020-11-06</th>\n",
       "      <td>678.0</td>\n",
       "    </tr>\n",
       "    <tr>\n",
       "      <th>2020-11-07</th>\n",
       "      <td>686.0</td>\n",
       "    </tr>\n",
       "    <tr>\n",
       "      <th>2020-11-08</th>\n",
       "      <td>663.0</td>\n",
       "    </tr>\n",
       "    <tr>\n",
       "      <th>2020-11-09</th>\n",
       "      <td>651.0</td>\n",
       "    </tr>\n",
       "    <tr>\n",
       "      <th>2020-11-10</th>\n",
       "      <td>665.0</td>\n",
       "    </tr>\n",
       "    <tr>\n",
       "      <th>2020-11-11</th>\n",
       "      <td>695.0</td>\n",
       "    </tr>\n",
       "    <tr>\n",
       "      <th>2020-11-12</th>\n",
       "      <td>696.0</td>\n",
       "    </tr>\n",
       "    <tr>\n",
       "      <th>2020-11-13</th>\n",
       "      <td>670.0</td>\n",
       "    </tr>\n",
       "    <tr>\n",
       "      <th>2020-11-14</th>\n",
       "      <td>685.0</td>\n",
       "    </tr>\n",
       "    <tr>\n",
       "      <th>2020-11-15</th>\n",
       "      <td>681.0</td>\n",
       "    </tr>\n",
       "    <tr>\n",
       "      <th>2020-11-16</th>\n",
       "      <td>677.0</td>\n",
       "    </tr>\n",
       "    <tr>\n",
       "      <th>2020-11-17</th>\n",
       "      <td>617.0</td>\n",
       "    </tr>\n",
       "    <tr>\n",
       "      <th>2020-11-18</th>\n",
       "      <td>676.0</td>\n",
       "    </tr>\n",
       "    <tr>\n",
       "      <th>2020-11-19</th>\n",
       "      <td>625.0</td>\n",
       "    </tr>\n",
       "    <tr>\n",
       "      <th>2020-11-20</th>\n",
       "      <td>669.0</td>\n",
       "    </tr>\n",
       "    <tr>\n",
       "      <th>2020-11-21</th>\n",
       "      <td>671.0</td>\n",
       "    </tr>\n",
       "    <tr>\n",
       "      <th>2020-11-22</th>\n",
       "      <td>668.0</td>\n",
       "    </tr>\n",
       "    <tr>\n",
       "      <th>2020-11-23</th>\n",
       "      <td>648.0</td>\n",
       "    </tr>\n",
       "    <tr>\n",
       "      <th>2020-11-24</th>\n",
       "      <td>649.0</td>\n",
       "    </tr>\n",
       "    <tr>\n",
       "      <th>2020-11-25</th>\n",
       "      <td>687.0</td>\n",
       "    </tr>\n",
       "    <tr>\n",
       "      <th>2020-11-26</th>\n",
       "      <td>658.0</td>\n",
       "    </tr>\n",
       "    <tr>\n",
       "      <th>2020-11-27</th>\n",
       "      <td>658.0</td>\n",
       "    </tr>\n",
       "    <tr>\n",
       "      <th>2020-11-28</th>\n",
       "      <td>658.0</td>\n",
       "    </tr>\n",
       "    <tr>\n",
       "      <th>2020-11-29</th>\n",
       "      <td>658.0</td>\n",
       "    </tr>\n",
       "    <tr>\n",
       "      <th>2020-11-30</th>\n",
       "      <td>693.0</td>\n",
       "    </tr>\n",
       "    <tr>\n",
       "      <th>2020-12-01</th>\n",
       "      <td>648.0</td>\n",
       "    </tr>\n",
       "    <tr>\n",
       "      <th>2020-12-02</th>\n",
       "      <td>690.0</td>\n",
       "    </tr>\n",
       "    <tr>\n",
       "      <th>2020-12-03</th>\n",
       "      <td>622.0</td>\n",
       "    </tr>\n",
       "    <tr>\n",
       "      <th>2020-12-04</th>\n",
       "      <td>681.0</td>\n",
       "    </tr>\n",
       "    <tr>\n",
       "      <th>2020-12-05</th>\n",
       "      <td>668.0</td>\n",
       "    </tr>\n",
       "    <tr>\n",
       "      <th>2020-12-06</th>\n",
       "      <td>643.0</td>\n",
       "    </tr>\n",
       "    <tr>\n",
       "      <th>2020-12-07</th>\n",
       "      <td>667.0</td>\n",
       "    </tr>\n",
       "    <tr>\n",
       "      <th>2020-12-08</th>\n",
       "      <td>672.0</td>\n",
       "    </tr>\n",
       "    <tr>\n",
       "      <th>2020-12-09</th>\n",
       "      <td>688.0</td>\n",
       "    </tr>\n",
       "    <tr>\n",
       "      <th>2020-12-10</th>\n",
       "      <td>693.0</td>\n",
       "    </tr>\n",
       "    <tr>\n",
       "      <th>2020-12-11</th>\n",
       "      <td>648.0</td>\n",
       "    </tr>\n",
       "    <tr>\n",
       "      <th>2020-12-12</th>\n",
       "      <td>690.0</td>\n",
       "    </tr>\n",
       "    <tr>\n",
       "      <th>2020-12-13</th>\n",
       "      <td>622.0</td>\n",
       "    </tr>\n",
       "    <tr>\n",
       "      <th>2020-12-14</th>\n",
       "      <td>646.0</td>\n",
       "    </tr>\n",
       "    <tr>\n",
       "      <th>2020-12-15</th>\n",
       "      <td>628.0</td>\n",
       "    </tr>\n",
       "    <tr>\n",
       "      <th>2020-12-16</th>\n",
       "      <td>622.0</td>\n",
       "    </tr>\n",
       "    <tr>\n",
       "      <th>2020-12-17</th>\n",
       "      <td>643.0</td>\n",
       "    </tr>\n",
       "  </tbody>\n",
       "</table>\n",
       "</div>"
      ],
      "text/plain": [
       "                 Available_beds\n",
       "collection_date                \n",
       "2020-11-02                681.0\n",
       "2020-11-03                673.0\n",
       "2020-11-04                668.0\n",
       "2020-11-05                689.0\n",
       "2020-11-06                678.0\n",
       "2020-11-07                686.0\n",
       "2020-11-08                663.0\n",
       "2020-11-09                651.0\n",
       "2020-11-10                665.0\n",
       "2020-11-11                695.0\n",
       "2020-11-12                696.0\n",
       "2020-11-13                670.0\n",
       "2020-11-14                685.0\n",
       "2020-11-15                681.0\n",
       "2020-11-16                677.0\n",
       "2020-11-17                617.0\n",
       "2020-11-18                676.0\n",
       "2020-11-19                625.0\n",
       "2020-11-20                669.0\n",
       "2020-11-21                671.0\n",
       "2020-11-22                668.0\n",
       "2020-11-23                648.0\n",
       "2020-11-24                649.0\n",
       "2020-11-25                687.0\n",
       "2020-11-26                658.0\n",
       "2020-11-27                658.0\n",
       "2020-11-28                658.0\n",
       "2020-11-29                658.0\n",
       "2020-11-30                693.0\n",
       "2020-12-01                648.0\n",
       "2020-12-02                690.0\n",
       "2020-12-03                622.0\n",
       "2020-12-04                681.0\n",
       "2020-12-05                668.0\n",
       "2020-12-06                643.0\n",
       "2020-12-07                667.0\n",
       "2020-12-08                672.0\n",
       "2020-12-09                688.0\n",
       "2020-12-10                693.0\n",
       "2020-12-11                648.0\n",
       "2020-12-12                690.0\n",
       "2020-12-13                622.0\n",
       "2020-12-14                646.0\n",
       "2020-12-15                628.0\n",
       "2020-12-16                622.0\n",
       "2020-12-17                643.0"
      ]
     },
     "execution_count": 63,
     "metadata": {},
     "output_type": "execute_result"
    }
   ],
   "source": [
    "tr= train_data[:140]\n",
    "tr\n",
    "test= train_data[140:]\n",
    "test"
   ]
  },
  {
   "cell_type": "markdown",
   "metadata": {},
   "source": [
    "### ARIMA Model"
   ]
  },
  {
   "cell_type": "code",
   "execution_count": 64,
   "metadata": {
    "ExecuteTime": {
     "end_time": "2021-09-12T17:20:18.174364Z",
     "start_time": "2021-09-12T17:20:18.144444Z"
    }
   },
   "outputs": [
    {
     "data": {
      "text/plain": [
       "(46,)"
      ]
     },
     "execution_count": 64,
     "metadata": {},
     "output_type": "execute_result"
    }
   ],
   "source": [
    "\n",
    "\n",
    "model_arima = ARIMA(tr.values.astype(\"float32\"), order=(0,0,0))\n",
    "model_arima_fit = model_arima.fit(disp=0)\n",
    "\n",
    "test[\"forecasted\"]=model_arima_fit.forecast(steps=46)[0]\n",
    "# test[\"forcasted\"].shape\n",
    "test[\"Available_beds\"].shape\n",
    "\n",
    "\n",
    "\n",
    "\n",
    "\n",
    "# plt.figure(figsize=(12,8))\n",
    "# plt.plot(yhat, label=\"Predictions\")\n",
    "# plt.plot()"
   ]
  },
  {
   "cell_type": "code",
   "execution_count": 65,
   "metadata": {
    "ExecuteTime": {
     "end_time": "2021-09-12T17:20:18.379044Z",
     "start_time": "2021-09-12T17:20:18.175363Z"
    }
   },
   "outputs": [
    {
     "data": {
      "image/png": "[encoded data removed]",
      "text/plain": [
       "<Figure size 720x360 with 1 Axes>"
      ]
     },
     "metadata": {
      "needs_background": "light"
     },
     "output_type": "display_data"
    }
   ],
   "source": [
    "plt.figure(figsize=(10,5))\n",
    "plt.plot(tr, label = \"train\")\n",
    "plt.plot(test[\"Available_beds\"], label=\"test\")\n",
    "plt.plot(test[\"forecasted\"], label= \"forecasted\")\n",
    "plt.legend(loc=\"lower left\")\n",
    "plt.show()"
   ]
  },
  {
   "cell_type": "code",
   "execution_count": 66,
   "metadata": {
    "ExecuteTime": {
     "end_time": "2021-09-12T17:20:18.393999Z",
     "start_time": "2021-09-12T17:20:18.380979Z"
    }
   },
   "outputs": [],
   "source": [
    "# import pandas as pd\n",
    "\n",
    "# date= pd.date_range(start=\"16-06-2021\", end= \"15-07-2021\").to_pydatetime().tolist()"
   ]
  },
  {
   "cell_type": "markdown",
   "metadata": {},
   "source": [
    "#### ARIMA Train_RMSE"
   ]
  },
  {
   "cell_type": "code",
   "execution_count": 128,
   "metadata": {
    "ExecuteTime": {
     "end_time": "2021-09-12T17:25:28.720770Z",
     "start_time": "2021-09-12T17:25:28.712795Z"
    }
   },
   "outputs": [
    {
     "data": {
      "text/plain": [
       "26.08194984674924"
      ]
     },
     "execution_count": 128,
     "metadata": {},
     "output_type": "execute_result"
    }
   ],
   "source": [
    "train_rmse= sqrt(mean_squared_error(test[\"forecasted\"], test[\"Available_beds\"]))\n",
    "\n",
    "train_rmse"
   ]
  },
  {
   "cell_type": "markdown",
   "metadata": {},
   "source": [
    "#### ARIMA Test_RMSE:"
   ]
  },
  {
   "cell_type": "code",
   "execution_count": 69,
   "metadata": {
    "ExecuteTime": {
     "end_time": "2021-09-12T17:20:18.441853Z",
     "start_time": "2021-09-12T17:20:18.426856Z"
    }
   },
   "outputs": [],
   "source": [
    "val_tr= test_data[:120]\n",
    "val_tr\n",
    "\n",
    "\n",
    "val_test= test_data[120:]\n",
    "\n"
   ]
  },
  {
   "cell_type": "code",
   "execution_count": 68,
   "metadata": {
    "ExecuteTime": {
     "end_time": "2021-09-12T17:20:18.425896Z",
     "start_time": "2021-09-12T17:20:18.410916Z"
    }
   },
   "outputs": [
    {
     "data": {
      "text/html": [
       "<div>\n",
       "<style scoped>\n",
       "    .dataframe tbody tr th:only-of-type {\n",
       "        vertical-align: middle;\n",
       "    }\n",
       "\n",
       "    .dataframe tbody tr th {\n",
       "        vertical-align: top;\n",
       "    }\n",
       "\n",
       "    .dataframe thead th {\n",
       "        text-align: right;\n",
       "    }\n",
       "</style>\n",
       "<table border=\"1\" class=\"dataframe\">\n",
       "  <thead>\n",
       "    <tr style=\"text-align: right;\">\n",
       "      <th></th>\n",
       "      <th>Available_beds</th>\n",
       "    </tr>\n",
       "    <tr>\n",
       "      <th>collection_date</th>\n",
       "      <th></th>\n",
       "    </tr>\n",
       "  </thead>\n",
       "  <tbody>\n",
       "    <tr>\n",
       "      <th>2020-12-18</th>\n",
       "      <td>655</td>\n",
       "    </tr>\n",
       "    <tr>\n",
       "      <th>2020-12-19</th>\n",
       "      <td>652</td>\n",
       "    </tr>\n",
       "    <tr>\n",
       "      <th>2020-12-20</th>\n",
       "      <td>688</td>\n",
       "    </tr>\n",
       "    <tr>\n",
       "      <th>2020-12-21</th>\n",
       "      <td>653</td>\n",
       "    </tr>\n",
       "    <tr>\n",
       "      <th>2020-12-22</th>\n",
       "      <td>686</td>\n",
       "    </tr>\n",
       "    <tr>\n",
       "      <th>...</th>\n",
       "      <td>...</td>\n",
       "    </tr>\n",
       "    <tr>\n",
       "      <th>2021-06-11</th>\n",
       "      <td>588</td>\n",
       "    </tr>\n",
       "    <tr>\n",
       "      <th>2021-06-12</th>\n",
       "      <td>688</td>\n",
       "    </tr>\n",
       "    <tr>\n",
       "      <th>2021-06-13</th>\n",
       "      <td>601</td>\n",
       "    </tr>\n",
       "    <tr>\n",
       "      <th>2021-06-14</th>\n",
       "      <td>698</td>\n",
       "    </tr>\n",
       "    <tr>\n",
       "      <th>2021-06-15</th>\n",
       "      <td>680</td>\n",
       "    </tr>\n",
       "  </tbody>\n",
       "</table>\n",
       "<p>180 rows × 1 columns</p>\n",
       "</div>"
      ],
      "text/plain": [
       "                 Available_beds\n",
       "collection_date                \n",
       "2020-12-18                  655\n",
       "2020-12-19                  652\n",
       "2020-12-20                  688\n",
       "2020-12-21                  653\n",
       "2020-12-22                  686\n",
       "...                         ...\n",
       "2021-06-11                  588\n",
       "2021-06-12                  688\n",
       "2021-06-13                  601\n",
       "2021-06-14                  698\n",
       "2021-06-15                  680\n",
       "\n",
       "[180 rows x 1 columns]"
      ]
     },
     "execution_count": 68,
     "metadata": {},
     "output_type": "execute_result"
    }
   ],
   "source": [
    "test_data"
   ]
  },
  {
   "cell_type": "code",
   "execution_count": 70,
   "metadata": {
    "ExecuteTime": {
     "end_time": "2021-09-12T17:20:18.585432Z",
     "start_time": "2021-09-12T17:20:18.442815Z"
    }
   },
   "outputs": [],
   "source": [
    "X= val_tr.values\n",
    "X= X.astype(\"float32\")\n",
    "val_model = ARIMA(X, order=(0,0,4))\n",
    "model_fit= val_model.fit(disp=0)\n",
    "yhat = model_fit.forecast(steps= 60)[0]"
   ]
  },
  {
   "cell_type": "code",
   "execution_count": 71,
   "metadata": {
    "ExecuteTime": {
     "end_time": "2021-09-12T17:20:18.601427Z",
     "start_time": "2021-09-12T17:20:18.587430Z"
    }
   },
   "outputs": [
    {
     "data": {
      "text/plain": [
       "28.886421981439454"
      ]
     },
     "execution_count": 71,
     "metadata": {},
     "output_type": "execute_result"
    }
   ],
   "source": [
    "rmse_test= sqrt(mean_squared_error(yhat, val_test))\n",
    "rmse_test"
   ]
  },
  {
   "cell_type": "markdown",
   "metadata": {},
   "source": [
    "#### ARIMA RMSE FOR THE WHOLE DATA"
   ]
  },
  {
   "cell_type": "code",
   "execution_count": 72,
   "metadata": {
    "ExecuteTime": {
     "end_time": "2021-09-12T17:20:18.617347Z",
     "start_time": "2021-09-12T17:20:18.602387Z"
    }
   },
   "outputs": [
    {
     "data": {
      "text/html": [
       "<div>\n",
       "<style scoped>\n",
       "    .dataframe tbody tr th:only-of-type {\n",
       "        vertical-align: middle;\n",
       "    }\n",
       "\n",
       "    .dataframe tbody tr th {\n",
       "        vertical-align: top;\n",
       "    }\n",
       "\n",
       "    .dataframe thead th {\n",
       "        text-align: right;\n",
       "    }\n",
       "</style>\n",
       "<table border=\"1\" class=\"dataframe\">\n",
       "  <thead>\n",
       "    <tr style=\"text-align: right;\">\n",
       "      <th></th>\n",
       "      <th>collection_date</th>\n",
       "      <th>Available_beds</th>\n",
       "    </tr>\n",
       "  </thead>\n",
       "  <tbody>\n",
       "    <tr>\n",
       "      <th>0</th>\n",
       "      <td>15/06/2020</td>\n",
       "      <td>607</td>\n",
       "    </tr>\n",
       "    <tr>\n",
       "      <th>1</th>\n",
       "      <td>16/06/2020</td>\n",
       "      <td>605</td>\n",
       "    </tr>\n",
       "    <tr>\n",
       "      <th>2</th>\n",
       "      <td>17/06/2020</td>\n",
       "      <td>610</td>\n",
       "    </tr>\n",
       "    <tr>\n",
       "      <th>3</th>\n",
       "      <td>18/06/2020</td>\n",
       "      <td>609</td>\n",
       "    </tr>\n",
       "    <tr>\n",
       "      <th>4</th>\n",
       "      <td>19/06/2020</td>\n",
       "      <td>612</td>\n",
       "    </tr>\n",
       "    <tr>\n",
       "      <th>...</th>\n",
       "      <td>...</td>\n",
       "      <td>...</td>\n",
       "    </tr>\n",
       "    <tr>\n",
       "      <th>361</th>\n",
       "      <td>11/06/2021</td>\n",
       "      <td>588</td>\n",
       "    </tr>\n",
       "    <tr>\n",
       "      <th>362</th>\n",
       "      <td>12/06/2021</td>\n",
       "      <td>688</td>\n",
       "    </tr>\n",
       "    <tr>\n",
       "      <th>363</th>\n",
       "      <td>13/06/2021</td>\n",
       "      <td>601</td>\n",
       "    </tr>\n",
       "    <tr>\n",
       "      <th>364</th>\n",
       "      <td>14/06/2021</td>\n",
       "      <td>698</td>\n",
       "    </tr>\n",
       "    <tr>\n",
       "      <th>365</th>\n",
       "      <td>15/06/2021</td>\n",
       "      <td>680</td>\n",
       "    </tr>\n",
       "  </tbody>\n",
       "</table>\n",
       "<p>366 rows × 2 columns</p>\n",
       "</div>"
      ],
      "text/plain": [
       "    collection_date  Available_beds\n",
       "0        15/06/2020             607\n",
       "1        16/06/2020             605\n",
       "2        17/06/2020             610\n",
       "3        18/06/2020             609\n",
       "4        19/06/2020             612\n",
       "..              ...             ...\n",
       "361      11/06/2021             588\n",
       "362      12/06/2021             688\n",
       "363      13/06/2021             601\n",
       "364      14/06/2021             698\n",
       "365      15/06/2021             680\n",
       "\n",
       "[366 rows x 2 columns]"
      ]
     },
     "execution_count": 72,
     "metadata": {},
     "output_type": "execute_result"
    }
   ],
   "source": [
    "data"
   ]
  },
  {
   "cell_type": "code",
   "execution_count": 73,
   "metadata": {
    "ExecuteTime": {
     "end_time": "2021-09-12T17:20:18.649296Z",
     "start_time": "2021-09-12T17:20:18.621340Z"
    }
   },
   "outputs": [
    {
     "data": {
      "text/html": [
       "<div>\n",
       "<style scoped>\n",
       "    .dataframe tbody tr th:only-of-type {\n",
       "        vertical-align: middle;\n",
       "    }\n",
       "\n",
       "    .dataframe tbody tr th {\n",
       "        vertical-align: top;\n",
       "    }\n",
       "\n",
       "    .dataframe thead th {\n",
       "        text-align: right;\n",
       "    }\n",
       "</style>\n",
       "<table border=\"1\" class=\"dataframe\">\n",
       "  <thead>\n",
       "    <tr style=\"text-align: right;\">\n",
       "      <th></th>\n",
       "      <th>Available_beds</th>\n",
       "    </tr>\n",
       "  </thead>\n",
       "  <tbody>\n",
       "    <tr>\n",
       "      <th>0</th>\n",
       "      <td>607</td>\n",
       "    </tr>\n",
       "    <tr>\n",
       "      <th>1</th>\n",
       "      <td>605</td>\n",
       "    </tr>\n",
       "    <tr>\n",
       "      <th>2</th>\n",
       "      <td>610</td>\n",
       "    </tr>\n",
       "    <tr>\n",
       "      <th>3</th>\n",
       "      <td>609</td>\n",
       "    </tr>\n",
       "    <tr>\n",
       "      <th>4</th>\n",
       "      <td>612</td>\n",
       "    </tr>\n",
       "    <tr>\n",
       "      <th>...</th>\n",
       "      <td>...</td>\n",
       "    </tr>\n",
       "    <tr>\n",
       "      <th>361</th>\n",
       "      <td>588</td>\n",
       "    </tr>\n",
       "    <tr>\n",
       "      <th>362</th>\n",
       "      <td>688</td>\n",
       "    </tr>\n",
       "    <tr>\n",
       "      <th>363</th>\n",
       "      <td>601</td>\n",
       "    </tr>\n",
       "    <tr>\n",
       "      <th>364</th>\n",
       "      <td>698</td>\n",
       "    </tr>\n",
       "    <tr>\n",
       "      <th>365</th>\n",
       "      <td>680</td>\n",
       "    </tr>\n",
       "  </tbody>\n",
       "</table>\n",
       "<p>366 rows × 1 columns</p>\n",
       "</div>"
      ],
      "text/plain": [
       "     Available_beds\n",
       "0               607\n",
       "1               605\n",
       "2               610\n",
       "3               609\n",
       "4               612\n",
       "..              ...\n",
       "361             588\n",
       "362             688\n",
       "363             601\n",
       "364             698\n",
       "365             680\n",
       "\n",
       "[366 rows x 1 columns]"
      ]
     },
     "execution_count": 73,
     "metadata": {},
     "output_type": "execute_result"
    }
   ],
   "source": [
    "data[\"collection_date\"]=data.collection_date.astype(\"datetime64[ns]\")\n",
    "data[\"collection_date\"]= data[\"collection_date\"].dt.strftime(\"%d-%m-%y\")\n",
    "# data.index= data[\"collection_date\"]\n",
    "data= data[[\"Available_beds\"]]\n",
    "data"
   ]
  },
  {
   "cell_type": "code",
   "execution_count": 74,
   "metadata": {
    "ExecuteTime": {
     "end_time": "2021-09-12T17:20:18.665220Z",
     "start_time": "2021-09-12T17:20:18.651259Z"
    }
   },
   "outputs": [
    {
     "data": {
      "text/html": [
       "<div>\n",
       "<style scoped>\n",
       "    .dataframe tbody tr th:only-of-type {\n",
       "        vertical-align: middle;\n",
       "    }\n",
       "\n",
       "    .dataframe tbody tr th {\n",
       "        vertical-align: top;\n",
       "    }\n",
       "\n",
       "    .dataframe thead th {\n",
       "        text-align: right;\n",
       "    }\n",
       "</style>\n",
       "<table border=\"1\" class=\"dataframe\">\n",
       "  <thead>\n",
       "    <tr style=\"text-align: right;\">\n",
       "      <th></th>\n",
       "      <th>Available_beds</th>\n",
       "    </tr>\n",
       "  </thead>\n",
       "  <tbody>\n",
       "    <tr>\n",
       "      <th>0</th>\n",
       "      <td>607</td>\n",
       "    </tr>\n",
       "    <tr>\n",
       "      <th>1</th>\n",
       "      <td>605</td>\n",
       "    </tr>\n",
       "    <tr>\n",
       "      <th>2</th>\n",
       "      <td>610</td>\n",
       "    </tr>\n",
       "    <tr>\n",
       "      <th>3</th>\n",
       "      <td>609</td>\n",
       "    </tr>\n",
       "    <tr>\n",
       "      <th>4</th>\n",
       "      <td>612</td>\n",
       "    </tr>\n",
       "    <tr>\n",
       "      <th>...</th>\n",
       "      <td>...</td>\n",
       "    </tr>\n",
       "    <tr>\n",
       "      <th>361</th>\n",
       "      <td>588</td>\n",
       "    </tr>\n",
       "    <tr>\n",
       "      <th>362</th>\n",
       "      <td>688</td>\n",
       "    </tr>\n",
       "    <tr>\n",
       "      <th>363</th>\n",
       "      <td>601</td>\n",
       "    </tr>\n",
       "    <tr>\n",
       "      <th>364</th>\n",
       "      <td>698</td>\n",
       "    </tr>\n",
       "    <tr>\n",
       "      <th>365</th>\n",
       "      <td>680</td>\n",
       "    </tr>\n",
       "  </tbody>\n",
       "</table>\n",
       "<p>366 rows × 1 columns</p>\n",
       "</div>"
      ],
      "text/plain": [
       "     Available_beds\n",
       "0               607\n",
       "1               605\n",
       "2               610\n",
       "3               609\n",
       "4               612\n",
       "..              ...\n",
       "361             588\n",
       "362             688\n",
       "363             601\n",
       "364             698\n",
       "365             680\n",
       "\n",
       "[366 rows x 1 columns]"
      ]
     },
     "execution_count": 74,
     "metadata": {},
     "output_type": "execute_result"
    }
   ],
   "source": [
    "\n",
    "data"
   ]
  },
  {
   "cell_type": "code",
   "execution_count": 75,
   "metadata": {
    "ExecuteTime": {
     "end_time": "2021-09-12T17:20:18.680181Z",
     "start_time": "2021-09-12T17:20:18.667216Z"
    }
   },
   "outputs": [],
   "source": [
    "w_train=data[:330]\n",
    "w_test= data[330:]"
   ]
  },
  {
   "cell_type": "code",
   "execution_count": 76,
   "metadata": {
    "ExecuteTime": {
     "end_time": "2021-09-12T17:20:18.696138Z",
     "start_time": "2021-09-12T17:20:18.681178Z"
    }
   },
   "outputs": [
    {
     "data": {
      "text/plain": [
       "array([657.20606061, 657.20606061, 657.20606061, 657.20606061,\n",
       "       657.20606061, 657.20606061, 657.20606061, 657.20606061,\n",
       "       657.20606061, 657.20606061, 657.20606061, 657.20606061,\n",
       "       657.20606061, 657.20606061, 657.20606061, 657.20606061,\n",
       "       657.20606061, 657.20606061, 657.20606061, 657.20606061,\n",
       "       657.20606061, 657.20606061, 657.20606061, 657.20606061,\n",
       "       657.20606061, 657.20606061, 657.20606061, 657.20606061,\n",
       "       657.20606061, 657.20606061, 657.20606061, 657.20606061,\n",
       "       657.20606061, 657.20606061, 657.20606061, 657.20606061])"
      ]
     },
     "execution_count": 76,
     "metadata": {},
     "output_type": "execute_result"
    }
   ],
   "source": [
    "w_train= w_train.astype(\"float64\")\n",
    "\n",
    "whole_ARIMA= ARIMA(w_train, order=(0,0,0))\n",
    "whole_ARIMA_fit= whole_ARIMA.fit(disp=0)\n",
    "yhat_whole_ARIMA= whole_ARIMA_fit.forecast(steps=36)[0]\n",
    "yhat_whole_ARIMA\n",
    "\n"
   ]
  },
  {
   "cell_type": "code",
   "execution_count": 77,
   "metadata": {
    "ExecuteTime": {
     "end_time": "2021-09-12T17:20:18.712126Z",
     "start_time": "2021-09-12T17:20:18.697136Z"
    }
   },
   "outputs": [
    {
     "data": {
      "text/plain": [
       "32.89218234818976"
      ]
     },
     "execution_count": 77,
     "metadata": {},
     "output_type": "execute_result"
    }
   ],
   "source": [
    "whole_rmse= sqrt(mean_squared_error(yhat_whole_ARIMA,w_test))\n",
    "whole_rmse\n"
   ]
  },
  {
   "cell_type": "markdown",
   "metadata": {},
   "source": [
    "## SARIMA MODEL:"
   ]
  },
  {
   "cell_type": "markdown",
   "metadata": {},
   "source": [
    "#### "
   ]
  },
  {
   "cell_type": "code",
   "execution_count": 132,
   "metadata": {
    "ExecuteTime": {
     "end_time": "2021-09-12T17:28:50.660678Z",
     "start_time": "2021-09-12T17:28:50.206881Z"
    }
   },
   "outputs": [],
   "source": [
    "import statsmodels.api as sm\n",
    "\n",
    "sarima = sm.tsa.statespace.SARIMAX(tr, order= (2,0,2), seasonal_order= (0,1,1,7))\n",
    "\n",
    "sarima_model = sarima.fit()\n",
    "\n",
    "sarima_yhat= sarima_model.predict(start=141, end= 186,dynamic= True)"
   ]
  },
  {
   "cell_type": "markdown",
   "metadata": {},
   "source": [
    "#### train rmse sarima:"
   ]
  },
  {
   "cell_type": "code",
   "execution_count": 133,
   "metadata": {
    "ExecuteTime": {
     "end_time": "2021-09-12T17:28:51.273345Z",
     "start_time": "2021-09-12T17:28:51.262375Z"
    }
   },
   "outputs": [
    {
     "data": {
      "text/plain": [
       "23.20960256974367"
      ]
     },
     "execution_count": 133,
     "metadata": {},
     "output_type": "execute_result"
    }
   ],
   "source": [
    "# train rmse sarima:\n",
    "\n",
    "Sarima_rmse= sqrt(mean_squared_error(sarima_yhat, test[\"Available_beds\"]))\n",
    "Sarima_rmse"
   ]
  },
  {
   "cell_type": "code",
   "execution_count": 137,
   "metadata": {
    "ExecuteTime": {
     "end_time": "2021-09-12T17:36:41.647264Z",
     "start_time": "2021-09-12T17:36:41.435367Z"
    }
   },
   "outputs": [
    {
     "data": {
      "image/png": "[encoded data removed]",
      "text/plain": [
       "<Figure size 720x576 with 1 Axes>"
      ]
     },
     "metadata": {
      "needs_background": "light"
     },
     "output_type": "display_data"
    }
   ],
   "source": [
    "plt.figure(figsize= (10,8))\n",
    "plt.plot(sarima_yhat, label = \"predicted\")\n",
    "plt.plot(test[\"Available_beds\"], label = \"test\")\n",
    "plt.plot(tr[\"Available_beds\"], label = \"train\")\n",
    "plt.legend(loc=\"upper right\")\n",
    "plt.show()"
   ]
  },
  {
   "cell_type": "code",
   "execution_count": 80,
   "metadata": {
    "ExecuteTime": {
     "end_time": "2021-09-12T17:20:20.077185Z",
     "start_time": "2021-09-12T17:20:19.588567Z"
    }
   },
   "outputs": [
    {
     "data": {
      "text/plain": [
       "(60,)"
      ]
     },
     "execution_count": 80,
     "metadata": {},
     "output_type": "execute_result"
    }
   ],
   "source": [
    "sarima = sm.tsa.statespace.SARIMAX(val_tr, order= (2,0,2), seasonal_order= (0,1,1,7))\n",
    "\n",
    "sarima_model = sarima.fit()\n",
    "\n",
    "sarima_yhat= sarima_model.predict(start=307, end= 366,dynamic= True)\n",
    "sarima_yhat.shape"
   ]
  },
  {
   "cell_type": "code",
   "execution_count": 79,
   "metadata": {
    "ExecuteTime": {
     "end_time": "2021-09-12T17:20:19.586572Z",
     "start_time": "2021-09-12T17:20:19.573606Z"
    }
   },
   "outputs": [
    {
     "data": {
      "text/html": [
       "<div>\n",
       "<style scoped>\n",
       "    .dataframe tbody tr th:only-of-type {\n",
       "        vertical-align: middle;\n",
       "    }\n",
       "\n",
       "    .dataframe tbody tr th {\n",
       "        vertical-align: top;\n",
       "    }\n",
       "\n",
       "    .dataframe thead th {\n",
       "        text-align: right;\n",
       "    }\n",
       "</style>\n",
       "<table border=\"1\" class=\"dataframe\">\n",
       "  <thead>\n",
       "    <tr style=\"text-align: right;\">\n",
       "      <th></th>\n",
       "      <th>Available_beds</th>\n",
       "      <th>forecasted</th>\n",
       "    </tr>\n",
       "    <tr>\n",
       "      <th>collection_date</th>\n",
       "      <th></th>\n",
       "      <th></th>\n",
       "    </tr>\n",
       "  </thead>\n",
       "  <tbody>\n",
       "    <tr>\n",
       "      <th>2020-11-02</th>\n",
       "      <td>681.0</td>\n",
       "      <td>650.364286</td>\n",
       "    </tr>\n",
       "    <tr>\n",
       "      <th>2020-11-03</th>\n",
       "      <td>673.0</td>\n",
       "      <td>650.364286</td>\n",
       "    </tr>\n",
       "    <tr>\n",
       "      <th>2020-11-04</th>\n",
       "      <td>668.0</td>\n",
       "      <td>650.364286</td>\n",
       "    </tr>\n",
       "    <tr>\n",
       "      <th>2020-11-05</th>\n",
       "      <td>689.0</td>\n",
       "      <td>650.364286</td>\n",
       "    </tr>\n",
       "    <tr>\n",
       "      <th>2020-11-06</th>\n",
       "      <td>678.0</td>\n",
       "      <td>650.364286</td>\n",
       "    </tr>\n",
       "    <tr>\n",
       "      <th>2020-11-07</th>\n",
       "      <td>686.0</td>\n",
       "      <td>650.364286</td>\n",
       "    </tr>\n",
       "    <tr>\n",
       "      <th>2020-11-08</th>\n",
       "      <td>663.0</td>\n",
       "      <td>650.364286</td>\n",
       "    </tr>\n",
       "    <tr>\n",
       "      <th>2020-11-09</th>\n",
       "      <td>651.0</td>\n",
       "      <td>650.364286</td>\n",
       "    </tr>\n",
       "    <tr>\n",
       "      <th>2020-11-10</th>\n",
       "      <td>665.0</td>\n",
       "      <td>650.364286</td>\n",
       "    </tr>\n",
       "    <tr>\n",
       "      <th>2020-11-11</th>\n",
       "      <td>695.0</td>\n",
       "      <td>650.364286</td>\n",
       "    </tr>\n",
       "    <tr>\n",
       "      <th>2020-11-12</th>\n",
       "      <td>696.0</td>\n",
       "      <td>650.364286</td>\n",
       "    </tr>\n",
       "    <tr>\n",
       "      <th>2020-11-13</th>\n",
       "      <td>670.0</td>\n",
       "      <td>650.364286</td>\n",
       "    </tr>\n",
       "    <tr>\n",
       "      <th>2020-11-14</th>\n",
       "      <td>685.0</td>\n",
       "      <td>650.364286</td>\n",
       "    </tr>\n",
       "    <tr>\n",
       "      <th>2020-11-15</th>\n",
       "      <td>681.0</td>\n",
       "      <td>650.364286</td>\n",
       "    </tr>\n",
       "    <tr>\n",
       "      <th>2020-11-16</th>\n",
       "      <td>677.0</td>\n",
       "      <td>650.364286</td>\n",
       "    </tr>\n",
       "    <tr>\n",
       "      <th>2020-11-17</th>\n",
       "      <td>617.0</td>\n",
       "      <td>650.364286</td>\n",
       "    </tr>\n",
       "    <tr>\n",
       "      <th>2020-11-18</th>\n",
       "      <td>676.0</td>\n",
       "      <td>650.364286</td>\n",
       "    </tr>\n",
       "    <tr>\n",
       "      <th>2020-11-19</th>\n",
       "      <td>625.0</td>\n",
       "      <td>650.364286</td>\n",
       "    </tr>\n",
       "    <tr>\n",
       "      <th>2020-11-20</th>\n",
       "      <td>669.0</td>\n",
       "      <td>650.364286</td>\n",
       "    </tr>\n",
       "    <tr>\n",
       "      <th>2020-11-21</th>\n",
       "      <td>671.0</td>\n",
       "      <td>650.364286</td>\n",
       "    </tr>\n",
       "    <tr>\n",
       "      <th>2020-11-22</th>\n",
       "      <td>668.0</td>\n",
       "      <td>650.364286</td>\n",
       "    </tr>\n",
       "    <tr>\n",
       "      <th>2020-11-23</th>\n",
       "      <td>648.0</td>\n",
       "      <td>650.364286</td>\n",
       "    </tr>\n",
       "    <tr>\n",
       "      <th>2020-11-24</th>\n",
       "      <td>649.0</td>\n",
       "      <td>650.364286</td>\n",
       "    </tr>\n",
       "    <tr>\n",
       "      <th>2020-11-25</th>\n",
       "      <td>687.0</td>\n",
       "      <td>650.364286</td>\n",
       "    </tr>\n",
       "    <tr>\n",
       "      <th>2020-11-26</th>\n",
       "      <td>658.0</td>\n",
       "      <td>650.364286</td>\n",
       "    </tr>\n",
       "    <tr>\n",
       "      <th>2020-11-27</th>\n",
       "      <td>658.0</td>\n",
       "      <td>650.364286</td>\n",
       "    </tr>\n",
       "    <tr>\n",
       "      <th>2020-11-28</th>\n",
       "      <td>658.0</td>\n",
       "      <td>650.364286</td>\n",
       "    </tr>\n",
       "    <tr>\n",
       "      <th>2020-11-29</th>\n",
       "      <td>658.0</td>\n",
       "      <td>650.364286</td>\n",
       "    </tr>\n",
       "    <tr>\n",
       "      <th>2020-11-30</th>\n",
       "      <td>693.0</td>\n",
       "      <td>650.364286</td>\n",
       "    </tr>\n",
       "    <tr>\n",
       "      <th>2020-12-01</th>\n",
       "      <td>648.0</td>\n",
       "      <td>650.364286</td>\n",
       "    </tr>\n",
       "    <tr>\n",
       "      <th>2020-12-02</th>\n",
       "      <td>690.0</td>\n",
       "      <td>650.364286</td>\n",
       "    </tr>\n",
       "    <tr>\n",
       "      <th>2020-12-03</th>\n",
       "      <td>622.0</td>\n",
       "      <td>650.364286</td>\n",
       "    </tr>\n",
       "    <tr>\n",
       "      <th>2020-12-04</th>\n",
       "      <td>681.0</td>\n",
       "      <td>650.364286</td>\n",
       "    </tr>\n",
       "    <tr>\n",
       "      <th>2020-12-05</th>\n",
       "      <td>668.0</td>\n",
       "      <td>650.364286</td>\n",
       "    </tr>\n",
       "    <tr>\n",
       "      <th>2020-12-06</th>\n",
       "      <td>643.0</td>\n",
       "      <td>650.364286</td>\n",
       "    </tr>\n",
       "    <tr>\n",
       "      <th>2020-12-07</th>\n",
       "      <td>667.0</td>\n",
       "      <td>650.364286</td>\n",
       "    </tr>\n",
       "    <tr>\n",
       "      <th>2020-12-08</th>\n",
       "      <td>672.0</td>\n",
       "      <td>650.364286</td>\n",
       "    </tr>\n",
       "    <tr>\n",
       "      <th>2020-12-09</th>\n",
       "      <td>688.0</td>\n",
       "      <td>650.364286</td>\n",
       "    </tr>\n",
       "    <tr>\n",
       "      <th>2020-12-10</th>\n",
       "      <td>693.0</td>\n",
       "      <td>650.364286</td>\n",
       "    </tr>\n",
       "    <tr>\n",
       "      <th>2020-12-11</th>\n",
       "      <td>648.0</td>\n",
       "      <td>650.364286</td>\n",
       "    </tr>\n",
       "    <tr>\n",
       "      <th>2020-12-12</th>\n",
       "      <td>690.0</td>\n",
       "      <td>650.364286</td>\n",
       "    </tr>\n",
       "    <tr>\n",
       "      <th>2020-12-13</th>\n",
       "      <td>622.0</td>\n",
       "      <td>650.364286</td>\n",
       "    </tr>\n",
       "    <tr>\n",
       "      <th>2020-12-14</th>\n",
       "      <td>646.0</td>\n",
       "      <td>650.364286</td>\n",
       "    </tr>\n",
       "    <tr>\n",
       "      <th>2020-12-15</th>\n",
       "      <td>628.0</td>\n",
       "      <td>650.364286</td>\n",
       "    </tr>\n",
       "    <tr>\n",
       "      <th>2020-12-16</th>\n",
       "      <td>622.0</td>\n",
       "      <td>650.364286</td>\n",
       "    </tr>\n",
       "    <tr>\n",
       "      <th>2020-12-17</th>\n",
       "      <td>643.0</td>\n",
       "      <td>650.364286</td>\n",
       "    </tr>\n",
       "  </tbody>\n",
       "</table>\n",
       "</div>"
      ],
      "text/plain": [
       "                 Available_beds  forecasted\n",
       "collection_date                            \n",
       "2020-11-02                681.0  650.364286\n",
       "2020-11-03                673.0  650.364286\n",
       "2020-11-04                668.0  650.364286\n",
       "2020-11-05                689.0  650.364286\n",
       "2020-11-06                678.0  650.364286\n",
       "2020-11-07                686.0  650.364286\n",
       "2020-11-08                663.0  650.364286\n",
       "2020-11-09                651.0  650.364286\n",
       "2020-11-10                665.0  650.364286\n",
       "2020-11-11                695.0  650.364286\n",
       "2020-11-12                696.0  650.364286\n",
       "2020-11-13                670.0  650.364286\n",
       "2020-11-14                685.0  650.364286\n",
       "2020-11-15                681.0  650.364286\n",
       "2020-11-16                677.0  650.364286\n",
       "2020-11-17                617.0  650.364286\n",
       "2020-11-18                676.0  650.364286\n",
       "2020-11-19                625.0  650.364286\n",
       "2020-11-20                669.0  650.364286\n",
       "2020-11-21                671.0  650.364286\n",
       "2020-11-22                668.0  650.364286\n",
       "2020-11-23                648.0  650.364286\n",
       "2020-11-24                649.0  650.364286\n",
       "2020-11-25                687.0  650.364286\n",
       "2020-11-26                658.0  650.364286\n",
       "2020-11-27                658.0  650.364286\n",
       "2020-11-28                658.0  650.364286\n",
       "2020-11-29                658.0  650.364286\n",
       "2020-11-30                693.0  650.364286\n",
       "2020-12-01                648.0  650.364286\n",
       "2020-12-02                690.0  650.364286\n",
       "2020-12-03                622.0  650.364286\n",
       "2020-12-04                681.0  650.364286\n",
       "2020-12-05                668.0  650.364286\n",
       "2020-12-06                643.0  650.364286\n",
       "2020-12-07                667.0  650.364286\n",
       "2020-12-08                672.0  650.364286\n",
       "2020-12-09                688.0  650.364286\n",
       "2020-12-10                693.0  650.364286\n",
       "2020-12-11                648.0  650.364286\n",
       "2020-12-12                690.0  650.364286\n",
       "2020-12-13                622.0  650.364286\n",
       "2020-12-14                646.0  650.364286\n",
       "2020-12-15                628.0  650.364286\n",
       "2020-12-16                622.0  650.364286\n",
       "2020-12-17                643.0  650.364286"
      ]
     },
     "execution_count": 79,
     "metadata": {},
     "output_type": "execute_result"
    }
   ],
   "source": [
    "test"
   ]
  },
  {
   "cell_type": "markdown",
   "metadata": {
    "ExecuteTime": {
     "end_time": "2021-09-12T17:29:07.636221Z",
     "start_time": "2021-09-12T17:29:07.629142Z"
    }
   },
   "source": [
    "#### SARIMA TEST RMSE"
   ]
  },
  {
   "cell_type": "code",
   "execution_count": 81,
   "metadata": {
    "ExecuteTime": {
     "end_time": "2021-09-12T17:20:20.093143Z",
     "start_time": "2021-09-12T17:20:20.079181Z"
    }
   },
   "outputs": [
    {
     "data": {
      "text/plain": [
       "31.417961063499618"
      ]
     },
     "execution_count": 81,
     "metadata": {},
     "output_type": "execute_result"
    }
   ],
   "source": [
    "# test rmse sarima\n",
    "\n",
    "Sarima_rmse= sqrt(mean_squared_error(sarima_yhat, val_test[\"Available_beds\"]))\n",
    "Sarima_rmse"
   ]
  },
  {
   "cell_type": "code",
   "execution_count": 82,
   "metadata": {
    "ExecuteTime": {
     "end_time": "2021-09-12T17:20:21.128278Z",
     "start_time": "2021-09-12T17:20:20.094140Z"
    }
   },
   "outputs": [
    {
     "data": {
      "text/plain": [
       "(36,)"
      ]
     },
     "execution_count": 82,
     "metadata": {},
     "output_type": "execute_result"
    }
   ],
   "source": [
    "# Whole data RMSE:\n",
    "\n",
    "sarima = sm.tsa.statespace.SARIMAX(w_train, order= (2,0,2), seasonal_order= (0,1,1,7))\n",
    "\n",
    "sarima_model = sarima.fit()\n",
    "\n",
    "sarima_yhat= sarima_model.predict(start=331, end= 366,dynamic= True)\n",
    "sarima_yhat.shape"
   ]
  },
  {
   "cell_type": "markdown",
   "metadata": {
    "ExecuteTime": {
     "end_time": "2021-09-12T17:29:35.239293Z",
     "start_time": "2021-09-12T17:29:35.222261Z"
    }
   },
   "source": [
    "#### SARIMA WHOLE DATA RMSE"
   ]
  },
  {
   "cell_type": "code",
   "execution_count": 83,
   "metadata": {
    "ExecuteTime": {
     "end_time": "2021-09-12T17:20:21.144235Z",
     "start_time": "2021-09-12T17:20:21.130282Z"
    }
   },
   "outputs": [
    {
     "data": {
      "text/plain": [
       "33.87100405446521"
      ]
     },
     "execution_count": 83,
     "metadata": {},
     "output_type": "execute_result"
    }
   ],
   "source": [
    "Sarima_rmse= sqrt(mean_squared_error(sarima_yhat, w_test))\n",
    "Sarima_rmse"
   ]
  },
  {
   "cell_type": "code",
   "execution_count": null,
   "metadata": {},
   "outputs": [],
   "source": []
  },
  {
   "cell_type": "markdown",
   "metadata": {},
   "source": [
    "# Data- Based Forecasting Models:\n",
    "  * simple average method\n",
    "  * moving average method\n",
    "  * exponential Smoothing\n",
    "    * simple exponential smoothing\n",
    "    * holts- Method/ Double exponential smoothing\n",
    "    * holts- Winter Method"
   ]
  },
  {
   "cell_type": "markdown",
   "metadata": {
    "ExecuteTime": {
     "end_time": "2021-09-01T17:30:16.738475Z",
     "start_time": "2021-09-01T17:30:16.726733Z"
    }
   },
   "source": [
    "## Simple Average"
   ]
  },
  {
   "cell_type": "code",
   "execution_count": 84,
   "metadata": {
    "ExecuteTime": {
     "end_time": "2021-09-12T17:20:21.160191Z",
     "start_time": "2021-09-12T17:20:21.145232Z"
    }
   },
   "outputs": [
    {
     "data": {
      "text/html": [
       "<div>\n",
       "<style scoped>\n",
       "    .dataframe tbody tr th:only-of-type {\n",
       "        vertical-align: middle;\n",
       "    }\n",
       "\n",
       "    .dataframe tbody tr th {\n",
       "        vertical-align: top;\n",
       "    }\n",
       "\n",
       "    .dataframe thead th {\n",
       "        text-align: right;\n",
       "    }\n",
       "</style>\n",
       "<table border=\"1\" class=\"dataframe\">\n",
       "  <thead>\n",
       "    <tr style=\"text-align: right;\">\n",
       "      <th></th>\n",
       "      <th>Available_beds</th>\n",
       "      <th>forecasted</th>\n",
       "    </tr>\n",
       "    <tr>\n",
       "      <th>collection_date</th>\n",
       "      <th></th>\n",
       "      <th></th>\n",
       "    </tr>\n",
       "  </thead>\n",
       "  <tbody>\n",
       "    <tr>\n",
       "      <th>2020-11-02</th>\n",
       "      <td>681.0</td>\n",
       "      <td>650.364286</td>\n",
       "    </tr>\n",
       "    <tr>\n",
       "      <th>2020-11-03</th>\n",
       "      <td>673.0</td>\n",
       "      <td>650.364286</td>\n",
       "    </tr>\n",
       "    <tr>\n",
       "      <th>2020-11-04</th>\n",
       "      <td>668.0</td>\n",
       "      <td>650.364286</td>\n",
       "    </tr>\n",
       "    <tr>\n",
       "      <th>2020-11-05</th>\n",
       "      <td>689.0</td>\n",
       "      <td>650.364286</td>\n",
       "    </tr>\n",
       "    <tr>\n",
       "      <th>2020-11-06</th>\n",
       "      <td>678.0</td>\n",
       "      <td>650.364286</td>\n",
       "    </tr>\n",
       "    <tr>\n",
       "      <th>2020-11-07</th>\n",
       "      <td>686.0</td>\n",
       "      <td>650.364286</td>\n",
       "    </tr>\n",
       "    <tr>\n",
       "      <th>2020-11-08</th>\n",
       "      <td>663.0</td>\n",
       "      <td>650.364286</td>\n",
       "    </tr>\n",
       "    <tr>\n",
       "      <th>2020-11-09</th>\n",
       "      <td>651.0</td>\n",
       "      <td>650.364286</td>\n",
       "    </tr>\n",
       "    <tr>\n",
       "      <th>2020-11-10</th>\n",
       "      <td>665.0</td>\n",
       "      <td>650.364286</td>\n",
       "    </tr>\n",
       "    <tr>\n",
       "      <th>2020-11-11</th>\n",
       "      <td>695.0</td>\n",
       "      <td>650.364286</td>\n",
       "    </tr>\n",
       "    <tr>\n",
       "      <th>2020-11-12</th>\n",
       "      <td>696.0</td>\n",
       "      <td>650.364286</td>\n",
       "    </tr>\n",
       "    <tr>\n",
       "      <th>2020-11-13</th>\n",
       "      <td>670.0</td>\n",
       "      <td>650.364286</td>\n",
       "    </tr>\n",
       "    <tr>\n",
       "      <th>2020-11-14</th>\n",
       "      <td>685.0</td>\n",
       "      <td>650.364286</td>\n",
       "    </tr>\n",
       "    <tr>\n",
       "      <th>2020-11-15</th>\n",
       "      <td>681.0</td>\n",
       "      <td>650.364286</td>\n",
       "    </tr>\n",
       "    <tr>\n",
       "      <th>2020-11-16</th>\n",
       "      <td>677.0</td>\n",
       "      <td>650.364286</td>\n",
       "    </tr>\n",
       "    <tr>\n",
       "      <th>2020-11-17</th>\n",
       "      <td>617.0</td>\n",
       "      <td>650.364286</td>\n",
       "    </tr>\n",
       "    <tr>\n",
       "      <th>2020-11-18</th>\n",
       "      <td>676.0</td>\n",
       "      <td>650.364286</td>\n",
       "    </tr>\n",
       "    <tr>\n",
       "      <th>2020-11-19</th>\n",
       "      <td>625.0</td>\n",
       "      <td>650.364286</td>\n",
       "    </tr>\n",
       "    <tr>\n",
       "      <th>2020-11-20</th>\n",
       "      <td>669.0</td>\n",
       "      <td>650.364286</td>\n",
       "    </tr>\n",
       "    <tr>\n",
       "      <th>2020-11-21</th>\n",
       "      <td>671.0</td>\n",
       "      <td>650.364286</td>\n",
       "    </tr>\n",
       "    <tr>\n",
       "      <th>2020-11-22</th>\n",
       "      <td>668.0</td>\n",
       "      <td>650.364286</td>\n",
       "    </tr>\n",
       "    <tr>\n",
       "      <th>2020-11-23</th>\n",
       "      <td>648.0</td>\n",
       "      <td>650.364286</td>\n",
       "    </tr>\n",
       "    <tr>\n",
       "      <th>2020-11-24</th>\n",
       "      <td>649.0</td>\n",
       "      <td>650.364286</td>\n",
       "    </tr>\n",
       "    <tr>\n",
       "      <th>2020-11-25</th>\n",
       "      <td>687.0</td>\n",
       "      <td>650.364286</td>\n",
       "    </tr>\n",
       "    <tr>\n",
       "      <th>2020-11-26</th>\n",
       "      <td>658.0</td>\n",
       "      <td>650.364286</td>\n",
       "    </tr>\n",
       "    <tr>\n",
       "      <th>2020-11-27</th>\n",
       "      <td>658.0</td>\n",
       "      <td>650.364286</td>\n",
       "    </tr>\n",
       "    <tr>\n",
       "      <th>2020-11-28</th>\n",
       "      <td>658.0</td>\n",
       "      <td>650.364286</td>\n",
       "    </tr>\n",
       "    <tr>\n",
       "      <th>2020-11-29</th>\n",
       "      <td>658.0</td>\n",
       "      <td>650.364286</td>\n",
       "    </tr>\n",
       "    <tr>\n",
       "      <th>2020-11-30</th>\n",
       "      <td>693.0</td>\n",
       "      <td>650.364286</td>\n",
       "    </tr>\n",
       "    <tr>\n",
       "      <th>2020-12-01</th>\n",
       "      <td>648.0</td>\n",
       "      <td>650.364286</td>\n",
       "    </tr>\n",
       "    <tr>\n",
       "      <th>2020-12-02</th>\n",
       "      <td>690.0</td>\n",
       "      <td>650.364286</td>\n",
       "    </tr>\n",
       "    <tr>\n",
       "      <th>2020-12-03</th>\n",
       "      <td>622.0</td>\n",
       "      <td>650.364286</td>\n",
       "    </tr>\n",
       "    <tr>\n",
       "      <th>2020-12-04</th>\n",
       "      <td>681.0</td>\n",
       "      <td>650.364286</td>\n",
       "    </tr>\n",
       "    <tr>\n",
       "      <th>2020-12-05</th>\n",
       "      <td>668.0</td>\n",
       "      <td>650.364286</td>\n",
       "    </tr>\n",
       "    <tr>\n",
       "      <th>2020-12-06</th>\n",
       "      <td>643.0</td>\n",
       "      <td>650.364286</td>\n",
       "    </tr>\n",
       "    <tr>\n",
       "      <th>2020-12-07</th>\n",
       "      <td>667.0</td>\n",
       "      <td>650.364286</td>\n",
       "    </tr>\n",
       "    <tr>\n",
       "      <th>2020-12-08</th>\n",
       "      <td>672.0</td>\n",
       "      <td>650.364286</td>\n",
       "    </tr>\n",
       "    <tr>\n",
       "      <th>2020-12-09</th>\n",
       "      <td>688.0</td>\n",
       "      <td>650.364286</td>\n",
       "    </tr>\n",
       "    <tr>\n",
       "      <th>2020-12-10</th>\n",
       "      <td>693.0</td>\n",
       "      <td>650.364286</td>\n",
       "    </tr>\n",
       "    <tr>\n",
       "      <th>2020-12-11</th>\n",
       "      <td>648.0</td>\n",
       "      <td>650.364286</td>\n",
       "    </tr>\n",
       "    <tr>\n",
       "      <th>2020-12-12</th>\n",
       "      <td>690.0</td>\n",
       "      <td>650.364286</td>\n",
       "    </tr>\n",
       "    <tr>\n",
       "      <th>2020-12-13</th>\n",
       "      <td>622.0</td>\n",
       "      <td>650.364286</td>\n",
       "    </tr>\n",
       "    <tr>\n",
       "      <th>2020-12-14</th>\n",
       "      <td>646.0</td>\n",
       "      <td>650.364286</td>\n",
       "    </tr>\n",
       "    <tr>\n",
       "      <th>2020-12-15</th>\n",
       "      <td>628.0</td>\n",
       "      <td>650.364286</td>\n",
       "    </tr>\n",
       "    <tr>\n",
       "      <th>2020-12-16</th>\n",
       "      <td>622.0</td>\n",
       "      <td>650.364286</td>\n",
       "    </tr>\n",
       "    <tr>\n",
       "      <th>2020-12-17</th>\n",
       "      <td>643.0</td>\n",
       "      <td>650.364286</td>\n",
       "    </tr>\n",
       "  </tbody>\n",
       "</table>\n",
       "</div>"
      ],
      "text/plain": [
       "                 Available_beds  forecasted\n",
       "collection_date                            \n",
       "2020-11-02                681.0  650.364286\n",
       "2020-11-03                673.0  650.364286\n",
       "2020-11-04                668.0  650.364286\n",
       "2020-11-05                689.0  650.364286\n",
       "2020-11-06                678.0  650.364286\n",
       "2020-11-07                686.0  650.364286\n",
       "2020-11-08                663.0  650.364286\n",
       "2020-11-09                651.0  650.364286\n",
       "2020-11-10                665.0  650.364286\n",
       "2020-11-11                695.0  650.364286\n",
       "2020-11-12                696.0  650.364286\n",
       "2020-11-13                670.0  650.364286\n",
       "2020-11-14                685.0  650.364286\n",
       "2020-11-15                681.0  650.364286\n",
       "2020-11-16                677.0  650.364286\n",
       "2020-11-17                617.0  650.364286\n",
       "2020-11-18                676.0  650.364286\n",
       "2020-11-19                625.0  650.364286\n",
       "2020-11-20                669.0  650.364286\n",
       "2020-11-21                671.0  650.364286\n",
       "2020-11-22                668.0  650.364286\n",
       "2020-11-23                648.0  650.364286\n",
       "2020-11-24                649.0  650.364286\n",
       "2020-11-25                687.0  650.364286\n",
       "2020-11-26                658.0  650.364286\n",
       "2020-11-27                658.0  650.364286\n",
       "2020-11-28                658.0  650.364286\n",
       "2020-11-29                658.0  650.364286\n",
       "2020-11-30                693.0  650.364286\n",
       "2020-12-01                648.0  650.364286\n",
       "2020-12-02                690.0  650.364286\n",
       "2020-12-03                622.0  650.364286\n",
       "2020-12-04                681.0  650.364286\n",
       "2020-12-05                668.0  650.364286\n",
       "2020-12-06                643.0  650.364286\n",
       "2020-12-07                667.0  650.364286\n",
       "2020-12-08                672.0  650.364286\n",
       "2020-12-09                688.0  650.364286\n",
       "2020-12-10                693.0  650.364286\n",
       "2020-12-11                648.0  650.364286\n",
       "2020-12-12                690.0  650.364286\n",
       "2020-12-13                622.0  650.364286\n",
       "2020-12-14                646.0  650.364286\n",
       "2020-12-15                628.0  650.364286\n",
       "2020-12-16                622.0  650.364286\n",
       "2020-12-17                643.0  650.364286"
      ]
     },
     "execution_count": 84,
     "metadata": {},
     "output_type": "execute_result"
    }
   ],
   "source": [
    "yhat_average_train=test.copy()\n",
    "yhat_average_train"
   ]
  },
  {
   "cell_type": "code",
   "execution_count": 85,
   "metadata": {
    "ExecuteTime": {
     "end_time": "2021-09-12T17:20:21.176151Z",
     "start_time": "2021-09-12T17:20:21.161189Z"
    }
   },
   "outputs": [
    {
     "data": {
      "text/html": [
       "<div>\n",
       "<style scoped>\n",
       "    .dataframe tbody tr th:only-of-type {\n",
       "        vertical-align: middle;\n",
       "    }\n",
       "\n",
       "    .dataframe tbody tr th {\n",
       "        vertical-align: top;\n",
       "    }\n",
       "\n",
       "    .dataframe thead th {\n",
       "        text-align: right;\n",
       "    }\n",
       "</style>\n",
       "<table border=\"1\" class=\"dataframe\">\n",
       "  <thead>\n",
       "    <tr style=\"text-align: right;\">\n",
       "      <th></th>\n",
       "      <th>Available_beds</th>\n",
       "    </tr>\n",
       "    <tr>\n",
       "      <th>collection_date</th>\n",
       "      <th></th>\n",
       "    </tr>\n",
       "  </thead>\n",
       "  <tbody>\n",
       "    <tr>\n",
       "      <th>2020-06-15</th>\n",
       "      <td>607.0</td>\n",
       "    </tr>\n",
       "    <tr>\n",
       "      <th>2020-06-16</th>\n",
       "      <td>605.0</td>\n",
       "    </tr>\n",
       "    <tr>\n",
       "      <th>2020-06-17</th>\n",
       "      <td>610.0</td>\n",
       "    </tr>\n",
       "    <tr>\n",
       "      <th>2020-06-18</th>\n",
       "      <td>609.0</td>\n",
       "    </tr>\n",
       "    <tr>\n",
       "      <th>2020-06-19</th>\n",
       "      <td>612.0</td>\n",
       "    </tr>\n",
       "    <tr>\n",
       "      <th>...</th>\n",
       "      <td>...</td>\n",
       "    </tr>\n",
       "    <tr>\n",
       "      <th>2020-10-28</th>\n",
       "      <td>689.0</td>\n",
       "    </tr>\n",
       "    <tr>\n",
       "      <th>2020-10-29</th>\n",
       "      <td>687.0</td>\n",
       "    </tr>\n",
       "    <tr>\n",
       "      <th>2020-10-30</th>\n",
       "      <td>663.0</td>\n",
       "    </tr>\n",
       "    <tr>\n",
       "      <th>2020-10-31</th>\n",
       "      <td>686.0</td>\n",
       "    </tr>\n",
       "    <tr>\n",
       "      <th>2020-11-01</th>\n",
       "      <td>641.0</td>\n",
       "    </tr>\n",
       "  </tbody>\n",
       "</table>\n",
       "<p>140 rows × 1 columns</p>\n",
       "</div>"
      ],
      "text/plain": [
       "                 Available_beds\n",
       "collection_date                \n",
       "2020-06-15                607.0\n",
       "2020-06-16                605.0\n",
       "2020-06-17                610.0\n",
       "2020-06-18                609.0\n",
       "2020-06-19                612.0\n",
       "...                         ...\n",
       "2020-10-28                689.0\n",
       "2020-10-29                687.0\n",
       "2020-10-30                663.0\n",
       "2020-10-31                686.0\n",
       "2020-11-01                641.0\n",
       "\n",
       "[140 rows x 1 columns]"
      ]
     },
     "execution_count": 85,
     "metadata": {},
     "output_type": "execute_result"
    }
   ],
   "source": [
    "tr"
   ]
  },
  {
   "cell_type": "code",
   "execution_count": 87,
   "metadata": {
    "ExecuteTime": {
     "end_time": "2021-09-12T17:20:21.431534Z",
     "start_time": "2021-09-12T17:20:21.194101Z"
    }
   },
   "outputs": [
    {
     "data": {
      "image/png": "[encoded data removed]",
      "text/plain": [
       "<Figure size 720x576 with 1 Axes>"
      ]
     },
     "metadata": {
      "needs_background": "light"
     },
     "output_type": "display_data"
    }
   ],
   "source": [
    "yhat_average_train[\"sa_forecast\"]= tr[\"Available_beds\"].mean()\n",
    "plt.figure(figsize=(10,8))\n",
    "plt.plot(train_data[\"Available_beds\"], label = \"train\")\n",
    "# plt.plot(test_data[\"Available_beds\"], label =\" test\")\n",
    "plt.plot(yhat_average_train[\"sa_forecast\"], label= \"predicted\")\n",
    "plt.legend(loc=\"lower right\")\n",
    "plt.show()"
   ]
  },
  {
   "cell_type": "code",
   "execution_count": 86,
   "metadata": {
    "ExecuteTime": {
     "end_time": "2021-09-12T17:20:21.192161Z",
     "start_time": "2021-09-12T17:20:21.178148Z"
    }
   },
   "outputs": [],
   "source": [
    "# yhat_average[\"sa_forecast\"]= tr.mean()\n",
    "# plt.figure(figsize=(10,8))\n",
    "# plt.plot(train_data[\"Available_beds\"], label = \"train\")\n",
    "# plt.plot(test_data[\"Available_beds\"], label =\" test\")\n",
    "# plt.plot(yhat_average[\"sa_forecast\"], label= \"predicted\")\n",
    "# plt.legend(loc=\"lower right\")\n",
    "# plt.show()"
   ]
  },
  {
   "cell_type": "code",
   "execution_count": 88,
   "metadata": {
    "ExecuteTime": {
     "end_time": "2021-09-12T17:20:21.447458Z",
     "start_time": "2021-09-12T17:20:21.433494Z"
    }
   },
   "outputs": [
    {
     "data": {
      "text/plain": [
       "26.081949846749183"
      ]
     },
     "execution_count": 88,
     "metadata": {},
     "output_type": "execute_result"
    }
   ],
   "source": [
    "# train RMSE FOR SIMPLE AVERAGE:\n",
    "\n",
    "yhat_average_rmse= sqrt(mean_squared_error(yhat_average_train[\"sa_forecast\"],yhat_average_train[\"Available_beds\"]))\n",
    "yhat_average_rmse"
   ]
  },
  {
   "cell_type": "markdown",
   "metadata": {},
   "source": [
    "* Simple Average train RMSE"
   ]
  },
  {
   "cell_type": "code",
   "execution_count": 89,
   "metadata": {
    "ExecuteTime": {
     "end_time": "2021-09-12T17:20:21.463415Z",
     "start_time": "2021-09-12T17:20:21.448454Z"
    }
   },
   "outputs": [],
   "source": [
    "yhat_average_test= val_test.copy()"
   ]
  },
  {
   "cell_type": "code",
   "execution_count": 90,
   "metadata": {
    "ExecuteTime": {
     "end_time": "2021-09-12T17:20:21.741832Z",
     "start_time": "2021-09-12T17:20:21.464412Z"
    }
   },
   "outputs": [
    {
     "data": {
      "image/png": "[encoded data removed]",
      "text/plain": [
       "<Figure size 720x576 with 1 Axes>"
      ]
     },
     "metadata": {
      "needs_background": "light"
     },
     "output_type": "display_data"
    }
   ],
   "source": [
    "yhat_average_test[\"sa_forecast\"]= val_tr[\"Available_beds\"].mean()\n",
    "plt.figure(figsize=(10,8))\n",
    "# plt.plot(train_data[\"Available_beds\"], label = \"train\")\n",
    "plt.plot(test_data[\"Available_beds\"], label =\" test\")\n",
    "plt.plot(yhat_average_test[\"sa_forecast\"], label= \"predicted\")\n",
    "plt.legend(loc=\"lower right\")\n",
    "plt.show()"
   ]
  },
  {
   "cell_type": "code",
   "execution_count": 91,
   "metadata": {
    "ExecuteTime": {
     "end_time": "2021-09-12T17:20:21.757402Z",
     "start_time": "2021-09-12T17:20:21.741832Z"
    }
   },
   "outputs": [
    {
     "data": {
      "text/plain": [
       "28.98445943758291"
      ]
     },
     "execution_count": 91,
     "metadata": {},
     "output_type": "execute_result"
    }
   ],
   "source": [
    "## Test rmse:\n",
    "yhat_average_rmse_test= sqrt(mean_squared_error(yhat_average_test[\"sa_forecast\"],val_test[\"Available_beds\"]))\n",
    "yhat_average_rmse_test"
   ]
  },
  {
   "cell_type": "markdown",
   "metadata": {},
   "source": [
    "* Simple average test RMSE"
   ]
  },
  {
   "cell_type": "code",
   "execution_count": 92,
   "metadata": {
    "ExecuteTime": {
     "end_time": "2021-09-12T17:20:21.772683Z",
     "start_time": "2021-09-12T17:20:21.757402Z"
    }
   },
   "outputs": [
    {
     "data": {
      "text/plain": [
       "27.685463381446084"
      ]
     },
     "execution_count": 92,
     "metadata": {},
     "output_type": "execute_result"
    }
   ],
   "source": [
    "## Whole_data_rmse\n",
    "\n",
    "yhat_average_whole= test_data.copy()\n",
    "\n",
    "yhat_average_whole[\"forecast_1\"]=  train_data[\"Available_beds\"].mean()\n",
    "\n",
    "yhat_whole_rmse = sqrt(mean_squared_error(yhat_average_whole[\"forecast_1\"], test_data[\"Available_beds\"]))\n",
    "yhat_whole_rmse"
   ]
  },
  {
   "cell_type": "markdown",
   "metadata": {
    "ExecuteTime": {
     "end_time": "2021-09-02T10:55:21.333245Z",
     "start_time": "2021-09-02T10:55:21.312450Z"
    }
   },
   "source": [
    "* SImple average whole data RMSE"
   ]
  },
  {
   "cell_type": "markdown",
   "metadata": {},
   "source": [
    "# Moving average "
   ]
  },
  {
   "cell_type": "code",
   "execution_count": 139,
   "metadata": {
    "ExecuteTime": {
     "end_time": "2021-09-12T17:38:00.115128Z",
     "start_time": "2021-09-12T17:38:00.092191Z"
    }
   },
   "outputs": [
    {
     "data": {
      "text/plain": [
       "22.003791836363796"
      ]
     },
     "execution_count": 139,
     "metadata": {},
     "output_type": "execute_result"
    }
   ],
   "source": [
    "\n",
    "\n",
    "yhat_average_ma=test\n",
    "yhat_average_ma[\"forecast_tr\"] = tr[\"Available_beds\"].rolling(31).mean().iloc[-1]\n",
    "\n",
    "yhat_average_ma_trrmse= sqrt(mean_squared_error(yhat_average_ma[\"forecast_tr\"],test[\"Available_beds\"]))\n",
    "yhat_average_ma_trrmse"
   ]
  },
  {
   "cell_type": "markdown",
   "metadata": {},
   "source": [
    "* Moving Average train RMSE"
   ]
  },
  {
   "cell_type": "code",
   "execution_count": 141,
   "metadata": {
    "ExecuteTime": {
     "end_time": "2021-09-12T17:39:14.331236Z",
     "start_time": "2021-09-12T17:39:14.126395Z"
    }
   },
   "outputs": [
    {
     "data": {
      "image/png": "[encoded data removed]",
      "text/plain": [
       "<Figure size 720x576 with 1 Axes>"
      ]
     },
     "metadata": {
      "needs_background": "light"
     },
     "output_type": "display_data"
    }
   ],
   "source": [
    "plt.figure(figsize=(10,8))\n",
    "plt.plot(tr[\"Available_beds\"], label = \"train\")\n",
    "plt.plot(test[\"Available_beds\"], label =\" test\")\n",
    "plt.plot(yhat_average_ma[[\"forecast_tr\"]], label= \"predicted\")\n",
    "plt.legend(loc=\"lower right\")\n",
    "plt.show()"
   ]
  },
  {
   "cell_type": "code",
   "execution_count": 95,
   "metadata": {
    "ExecuteTime": {
     "end_time": "2021-09-12T17:20:22.037979Z",
     "start_time": "2021-09-12T17:20:22.024012Z"
    }
   },
   "outputs": [
    {
     "data": {
      "text/plain": [
       "26.49750774302276"
      ]
     },
     "execution_count": 95,
     "metadata": {},
     "output_type": "execute_result"
    }
   ],
   "source": [
    "yhat_average_ma=test_data.copy()\n",
    "yhat_average_ma[\"forecast_test\"] =val_tr[\"Available_beds\"].rolling(43).mean().iloc[-1]\n",
    "\n",
    "yhat_average_ma_testrmse= sqrt(mean_squared_error(yhat_average_ma[\"forecast_test\"],test_data[\"Available_beds\"]))\n",
    "yhat_average_ma_testrmse"
   ]
  },
  {
   "cell_type": "markdown",
   "metadata": {},
   "source": [
    "* Moving Average Test RMSE"
   ]
  },
  {
   "cell_type": "code",
   "execution_count": 96,
   "metadata": {
    "ExecuteTime": {
     "end_time": "2021-09-12T17:20:22.053934Z",
     "start_time": "2021-09-12T17:20:22.041963Z"
    }
   },
   "outputs": [
    {
     "data": {
      "text/plain": [
       "26.526115570438048"
      ]
     },
     "execution_count": 96,
     "metadata": {},
     "output_type": "execute_result"
    }
   ],
   "source": [
    "yhat_average_whole= test_data.copy()\n",
    "\n",
    "yhat_average_whole[\"forecast_whole\"] = train_data[\"Available_beds\"].rolling(21).mean().iloc[-1]\n",
    "yhat_average_whole_rmse= sqrt(mean_squared_error(yhat_average_whole[\"forecast_whole\"], test_data[\"Available_beds\"]))\n",
    "yhat_average_whole_rmse"
   ]
  },
  {
   "cell_type": "markdown",
   "metadata": {
    "ExecuteTime": {
     "end_time": "2021-09-02T10:53:45.858367Z",
     "start_time": "2021-09-02T10:53:45.838210Z"
    }
   },
   "source": [
    "* Moving data moving average RMSE"
   ]
  },
  {
   "cell_type": "markdown",
   "metadata": {},
   "source": [
    "## Simple Exponential Smoothing:"
   ]
  },
  {
   "cell_type": "code",
   "execution_count": 97,
   "metadata": {
    "ExecuteTime": {
     "end_time": "2021-09-12T17:20:22.069887Z",
     "start_time": "2021-09-12T17:20:22.059917Z"
    }
   },
   "outputs": [],
   "source": [
    "from statsmodels.tsa.api import ExponentialSmoothing, SimpleExpSmoothing, Holt"
   ]
  },
  {
   "cell_type": "code",
   "execution_count": null,
   "metadata": {
    "ExecuteTime": {
     "end_time": "2021-09-06T07:04:39.916932Z",
     "start_time": "2021-09-06T07:04:39.898023Z"
    }
   },
   "outputs": [],
   "source": []
  },
  {
   "cell_type": "code",
   "execution_count": 144,
   "metadata": {
    "ExecuteTime": {
     "end_time": "2021-09-12T17:42:24.767849Z",
     "start_time": "2021-09-12T17:42:24.736889Z"
    }
   },
   "outputs": [
    {
     "data": {
      "text/plain": [
       "2020-11-02    666.799256\n",
       "2020-11-03    666.799256\n",
       "2020-11-04    666.799256\n",
       "2020-11-05    666.799256\n",
       "2020-11-06    666.799256\n",
       "2020-11-07    666.799256\n",
       "2020-11-08    666.799256\n",
       "2020-11-09    666.799256\n",
       "2020-11-10    666.799256\n",
       "2020-11-11    666.799256\n",
       "2020-11-12    666.799256\n",
       "2020-11-13    666.799256\n",
       "2020-11-14    666.799256\n",
       "2020-11-15    666.799256\n",
       "2020-11-16    666.799256\n",
       "2020-11-17    666.799256\n",
       "2020-11-18    666.799256\n",
       "2020-11-19    666.799256\n",
       "2020-11-20    666.799256\n",
       "2020-11-21    666.799256\n",
       "2020-11-22    666.799256\n",
       "2020-11-23    666.799256\n",
       "2020-11-24    666.799256\n",
       "2020-11-25    666.799256\n",
       "2020-11-26    666.799256\n",
       "2020-11-27    666.799256\n",
       "2020-11-28    666.799256\n",
       "2020-11-29    666.799256\n",
       "2020-11-30    666.799256\n",
       "2020-12-01    666.799256\n",
       "2020-12-02    666.799256\n",
       "2020-12-03    666.799256\n",
       "2020-12-04    666.799256\n",
       "2020-12-05    666.799256\n",
       "2020-12-06    666.799256\n",
       "2020-12-07    666.799256\n",
       "2020-12-08    666.799256\n",
       "2020-12-09    666.799256\n",
       "2020-12-10    666.799256\n",
       "2020-12-11    666.799256\n",
       "2020-12-12    666.799256\n",
       "2020-12-13    666.799256\n",
       "2020-12-14    666.799256\n",
       "2020-12-15    666.799256\n",
       "2020-12-16    666.799256\n",
       "2020-12-17    666.799256\n",
       "Freq: D, dtype: float64"
      ]
     },
     "execution_count": 144,
     "metadata": {},
     "output_type": "execute_result"
    }
   ],
   "source": [
    "tr\n",
    "sm_model = SimpleExpSmoothing(tr)\n",
    "model = sm_model.fit()\n",
    "se_model_yhat= model.predict(start=\"2020-11-02\", end= \"2020-12-17\")\n",
    "se_model_yhat"
   ]
  },
  {
   "cell_type": "code",
   "execution_count": 99,
   "metadata": {
    "ExecuteTime": {
     "end_time": "2021-09-12T17:20:22.115768Z",
     "start_time": "2021-09-12T17:20:22.101809Z"
    }
   },
   "outputs": [],
   "source": [
    "# test"
   ]
  },
  {
   "cell_type": "code",
   "execution_count": 100,
   "metadata": {
    "ExecuteTime": {
     "end_time": "2021-09-12T17:20:22.131724Z",
     "start_time": "2021-09-12T17:20:22.116762Z"
    }
   },
   "outputs": [
    {
     "data": {
      "text/plain": [
       "22.088004870141926"
      ]
     },
     "execution_count": 100,
     "metadata": {},
     "output_type": "execute_result"
    }
   ],
   "source": [
    "se_model_train_rmse= sqrt(mean_squared_error(se_model_yhat, test[\"Available_beds\"]))\n",
    "se_model_train_rmse"
   ]
  },
  {
   "cell_type": "code",
   "execution_count": 145,
   "metadata": {
    "ExecuteTime": {
     "end_time": "2021-09-12T17:42:34.237771Z",
     "start_time": "2021-09-12T17:42:34.040888Z"
    }
   },
   "outputs": [
    {
     "data": {
      "image/png": "[encoded data removed]",
      "text/plain": [
       "<Figure size 720x576 with 1 Axes>"
      ]
     },
     "metadata": {
      "needs_background": "light"
     },
     "output_type": "display_data"
    }
   ],
   "source": [
    "plt.figure(figsize=(10,8))\n",
    "plt.plot(se_model_yhat, label= \"forecasted\")\n",
    "plt.plot(tr[\"Available_beds\"], label= \"train\")\n",
    "plt.plot(test[\"Available_beds\"], label = \"test\")\n",
    "plt.legend(loc=\"upper right\")\n",
    "plt.show()"
   ]
  },
  {
   "cell_type": "markdown",
   "metadata": {},
   "source": [
    "* Simple exponential smoothing train rmse"
   ]
  },
  {
   "cell_type": "code",
   "execution_count": 101,
   "metadata": {
    "ExecuteTime": {
     "end_time": "2021-09-12T17:20:22.163640Z",
     "start_time": "2021-09-12T17:20:22.133718Z"
    }
   },
   "outputs": [
    {
     "data": {
      "text/plain": [
       "2021-04-17    662.466687\n",
       "2021-04-18    662.466687\n",
       "2021-04-19    662.466687\n",
       "2021-04-20    662.466687\n",
       "2021-04-21    662.466687\n",
       "2021-04-22    662.466687\n",
       "2021-04-23    662.466687\n",
       "2021-04-24    662.466687\n",
       "2021-04-25    662.466687\n",
       "2021-04-26    662.466687\n",
       "2021-04-27    662.466687\n",
       "2021-04-28    662.466687\n",
       "2021-04-29    662.466687\n",
       "2021-04-30    662.466687\n",
       "2021-05-01    662.466687\n",
       "2021-05-02    662.466687\n",
       "2021-05-03    662.466687\n",
       "2021-05-04    662.466687\n",
       "2021-05-05    662.466687\n",
       "2021-05-06    662.466687\n",
       "2021-05-07    662.466687\n",
       "2021-05-08    662.466687\n",
       "2021-05-09    662.466687\n",
       "2021-05-10    662.466687\n",
       "2021-05-11    662.466687\n",
       "2021-05-12    662.466687\n",
       "2021-05-13    662.466687\n",
       "2021-05-14    662.466687\n",
       "2021-05-15    662.466687\n",
       "2021-05-16    662.466687\n",
       "2021-05-17    662.466687\n",
       "2021-05-18    662.466687\n",
       "2021-05-19    662.466687\n",
       "2021-05-20    662.466687\n",
       "2021-05-21    662.466687\n",
       "2021-05-22    662.466687\n",
       "2021-05-23    662.466687\n",
       "2021-05-24    662.466687\n",
       "2021-05-25    662.466687\n",
       "2021-05-26    662.466687\n",
       "2021-05-27    662.466687\n",
       "2021-05-28    662.466687\n",
       "2021-05-29    662.466687\n",
       "2021-05-30    662.466687\n",
       "2021-05-31    662.466687\n",
       "2021-06-01    662.466687\n",
       "2021-06-02    662.466687\n",
       "2021-06-03    662.466687\n",
       "2021-06-04    662.466687\n",
       "2021-06-05    662.466687\n",
       "2021-06-06    662.466687\n",
       "2021-06-07    662.466687\n",
       "2021-06-08    662.466687\n",
       "2021-06-09    662.466687\n",
       "2021-06-10    662.466687\n",
       "2021-06-11    662.466687\n",
       "2021-06-12    662.466687\n",
       "2021-06-13    662.466687\n",
       "2021-06-14    662.466687\n",
       "2021-06-15    662.466687\n",
       "Freq: D, dtype: float64"
      ]
     },
     "execution_count": 101,
     "metadata": {},
     "output_type": "execute_result"
    }
   ],
   "source": [
    "val_tr\n",
    "sm_model = SimpleExpSmoothing(val_tr)\n",
    "model = sm_model.fit()\n",
    "se_model_yhat= model.predict(start=\"2021-04-17\", end= \"2021-06-15\")\n",
    "se_model_yhat"
   ]
  },
  {
   "cell_type": "code",
   "execution_count": 103,
   "metadata": {
    "ExecuteTime": {
     "end_time": "2021-09-12T17:20:22.195553Z",
     "start_time": "2021-09-12T17:20:22.181591Z"
    }
   },
   "outputs": [
    {
     "data": {
      "text/plain": [
       "28.98445926023459"
      ]
     },
     "execution_count": 103,
     "metadata": {},
     "output_type": "execute_result"
    }
   ],
   "source": [
    "se_model_train_rmse= sqrt(mean_squared_error(se_model_yhat, val_test[\"Available_beds\"]))\n",
    "se_model_train_rmse"
   ]
  },
  {
   "cell_type": "code",
   "execution_count": null,
   "metadata": {},
   "outputs": [],
   "source": []
  },
  {
   "cell_type": "code",
   "execution_count": 102,
   "metadata": {
    "ExecuteTime": {
     "end_time": "2021-09-12T17:20:22.179598Z",
     "start_time": "2021-09-12T17:20:22.165632Z"
    }
   },
   "outputs": [],
   "source": [
    "# val_test"
   ]
  },
  {
   "cell_type": "code",
   "execution_count": null,
   "metadata": {},
   "outputs": [],
   "source": []
  },
  {
   "cell_type": "markdown",
   "metadata": {
    "ExecuteTime": {
     "end_time": "2021-09-02T11:34:50.173697Z",
     "start_time": "2021-09-02T11:34:50.163904Z"
    }
   },
   "source": [
    "* simple exponential smoothing test_rmse"
   ]
  },
  {
   "cell_type": "code",
   "execution_count": 104,
   "metadata": {
    "ExecuteTime": {
     "end_time": "2021-09-12T17:20:22.227515Z",
     "start_time": "2021-09-12T17:20:22.197550Z"
    }
   },
   "outputs": [
    {
     "data": {
      "text/plain": [
       "2020-12-18    647.032587\n",
       "2020-12-19    647.032587\n",
       "2020-12-20    647.032587\n",
       "2020-12-21    647.032587\n",
       "2020-12-22    647.032587\n",
       "                 ...    \n",
       "2021-06-11    647.032587\n",
       "2021-06-12    647.032587\n",
       "2021-06-13    647.032587\n",
       "2021-06-14    647.032587\n",
       "2021-06-15    647.032587\n",
       "Freq: D, Length: 180, dtype: float64"
      ]
     },
     "execution_count": 104,
     "metadata": {},
     "output_type": "execute_result"
    }
   ],
   "source": [
    "train_data\n",
    "sm_model = SimpleExpSmoothing(train_data)\n",
    "model = sm_model.fit()\n",
    "se_model_yhat= model.predict(start=\"2020-12-18\", end= \"2021-06-15\")\n",
    "se_model_yhat"
   ]
  },
  {
   "cell_type": "code",
   "execution_count": 105,
   "metadata": {
    "ExecuteTime": {
     "end_time": "2021-09-12T17:20:22.243424Z",
     "start_time": "2021-09-12T17:20:22.229463Z"
    }
   },
   "outputs": [
    {
     "data": {
      "text/plain": [
       "30.520190889060995"
      ]
     },
     "execution_count": 105,
     "metadata": {},
     "output_type": "execute_result"
    }
   ],
   "source": [
    "se_model_train_rmse= sqrt(mean_squared_error(se_model_yhat, test_data[\"Available_beds\"]))\n",
    "se_model_train_rmse"
   ]
  },
  {
   "cell_type": "markdown",
   "metadata": {},
   "source": [
    "* Simple Exponential smoothing whole data RMSE"
   ]
  },
  {
   "cell_type": "code",
   "execution_count": 106,
   "metadata": {
    "ExecuteTime": {
     "end_time": "2021-09-12T17:20:22.275347Z",
     "start_time": "2021-09-12T17:20:22.245421Z"
    }
   },
   "outputs": [
    {
     "data": {
      "text/html": [
       "<div>\n",
       "<style scoped>\n",
       "    .dataframe tbody tr th:only-of-type {\n",
       "        vertical-align: middle;\n",
       "    }\n",
       "\n",
       "    .dataframe tbody tr th {\n",
       "        vertical-align: top;\n",
       "    }\n",
       "\n",
       "    .dataframe thead th {\n",
       "        text-align: right;\n",
       "    }\n",
       "</style>\n",
       "<table border=\"1\" class=\"dataframe\">\n",
       "  <thead>\n",
       "    <tr style=\"text-align: right;\">\n",
       "      <th></th>\n",
       "      <th>Available_beds</th>\n",
       "    </tr>\n",
       "    <tr>\n",
       "      <th>collection_date</th>\n",
       "      <th></th>\n",
       "    </tr>\n",
       "  </thead>\n",
       "  <tbody>\n",
       "    <tr>\n",
       "      <th>2020-12-18</th>\n",
       "      <td>655</td>\n",
       "    </tr>\n",
       "    <tr>\n",
       "      <th>2020-12-19</th>\n",
       "      <td>652</td>\n",
       "    </tr>\n",
       "    <tr>\n",
       "      <th>2020-12-20</th>\n",
       "      <td>688</td>\n",
       "    </tr>\n",
       "    <tr>\n",
       "      <th>2020-12-21</th>\n",
       "      <td>653</td>\n",
       "    </tr>\n",
       "    <tr>\n",
       "      <th>2020-12-22</th>\n",
       "      <td>686</td>\n",
       "    </tr>\n",
       "    <tr>\n",
       "      <th>...</th>\n",
       "      <td>...</td>\n",
       "    </tr>\n",
       "    <tr>\n",
       "      <th>2021-06-11</th>\n",
       "      <td>588</td>\n",
       "    </tr>\n",
       "    <tr>\n",
       "      <th>2021-06-12</th>\n",
       "      <td>688</td>\n",
       "    </tr>\n",
       "    <tr>\n",
       "      <th>2021-06-13</th>\n",
       "      <td>601</td>\n",
       "    </tr>\n",
       "    <tr>\n",
       "      <th>2021-06-14</th>\n",
       "      <td>698</td>\n",
       "    </tr>\n",
       "    <tr>\n",
       "      <th>2021-06-15</th>\n",
       "      <td>680</td>\n",
       "    </tr>\n",
       "  </tbody>\n",
       "</table>\n",
       "<p>180 rows × 1 columns</p>\n",
       "</div>"
      ],
      "text/plain": [
       "                 Available_beds\n",
       "collection_date                \n",
       "2020-12-18                  655\n",
       "2020-12-19                  652\n",
       "2020-12-20                  688\n",
       "2020-12-21                  653\n",
       "2020-12-22                  686\n",
       "...                         ...\n",
       "2021-06-11                  588\n",
       "2021-06-12                  688\n",
       "2021-06-13                  601\n",
       "2021-06-14                  698\n",
       "2021-06-15                  680\n",
       "\n",
       "[180 rows x 1 columns]"
      ]
     },
     "execution_count": 106,
     "metadata": {},
     "output_type": "execute_result"
    }
   ],
   "source": [
    "test_data"
   ]
  },
  {
   "cell_type": "markdown",
   "metadata": {},
   "source": [
    "## Double Exponential smoothing"
   ]
  },
  {
   "cell_type": "code",
   "execution_count": 107,
   "metadata": {
    "ExecuteTime": {
     "end_time": "2021-09-12T17:20:22.307259Z",
     "start_time": "2021-09-12T17:20:22.279327Z"
    }
   },
   "outputs": [
    {
     "data": {
      "text/plain": [
       "2020-11-02    666.799256\n",
       "2020-11-03    666.799256\n",
       "2020-11-04    666.799256\n",
       "2020-11-05    666.799256\n",
       "2020-11-06    666.799256\n",
       "2020-11-07    666.799256\n",
       "2020-11-08    666.799256\n",
       "2020-11-09    666.799256\n",
       "2020-11-10    666.799256\n",
       "2020-11-11    666.799256\n",
       "2020-11-12    666.799256\n",
       "2020-11-13    666.799256\n",
       "2020-11-14    666.799256\n",
       "2020-11-15    666.799256\n",
       "2020-11-16    666.799256\n",
       "2020-11-17    666.799256\n",
       "2020-11-18    666.799256\n",
       "2020-11-19    666.799256\n",
       "2020-11-20    666.799256\n",
       "2020-11-21    666.799256\n",
       "2020-11-22    666.799256\n",
       "2020-11-23    666.799256\n",
       "2020-11-24    666.799256\n",
       "2020-11-25    666.799256\n",
       "2020-11-26    666.799256\n",
       "2020-11-27    666.799256\n",
       "2020-11-28    666.799256\n",
       "2020-11-29    666.799256\n",
       "2020-11-30    666.799256\n",
       "2020-12-01    666.799256\n",
       "2020-12-02    666.799256\n",
       "2020-12-03    666.799256\n",
       "2020-12-04    666.799256\n",
       "2020-12-05    666.799256\n",
       "2020-12-06    666.799256\n",
       "2020-12-07    666.799256\n",
       "2020-12-08    666.799256\n",
       "2020-12-09    666.799256\n",
       "2020-12-10    666.799256\n",
       "2020-12-11    666.799256\n",
       "2020-12-12    666.799256\n",
       "2020-12-13    666.799256\n",
       "2020-12-14    666.799256\n",
       "2020-12-15    666.799256\n",
       "2020-12-16    666.799256\n",
       "2020-12-17    666.799256\n",
       "Freq: D, dtype: float64"
      ]
     },
     "execution_count": 107,
     "metadata": {},
     "output_type": "execute_result"
    }
   ],
   "source": [
    "tr\n",
    "de_model= ExponentialSmoothing(tr)\n",
    "de_model= de_model.fit()\n",
    "de_model_train_predict = de_model.predict(start=\"2020-11-02\", end= \"2020-12-17\")"
   ]
  },
  {
   "cell_type": "code",
   "execution_count": 146,
   "metadata": {
    "ExecuteTime": {
     "end_time": "2021-09-12T17:44:29.108140Z",
     "start_time": "2021-09-12T17:44:28.897781Z"
    }
   },
   "outputs": [
    {
     "data": {
      "image/png": "[encoded data removed]",
      "text/plain": [
       "<Figure size 720x576 with 1 Axes>"
      ]
     },
     "metadata": {
      "needs_background": "light"
     },
     "output_type": "display_data"
    }
   ],
   "source": [
    "plt.figure(figsize= (10,8))\n",
    "plt.plot(de_model_train_predict, label = \"Forecasted\")\n",
    "plt.plot(tr[\"Available_beds\"], label = \"train\")\n",
    "plt.plot(test[\"Available_beds\"],label= \"test\" )\n",
    "plt.legend(loc=\"upper right\")\n",
    "plt.show()"
   ]
  },
  {
   "cell_type": "code",
   "execution_count": 108,
   "metadata": {
    "ExecuteTime": {
     "end_time": "2021-09-12T17:20:22.323216Z",
     "start_time": "2021-09-12T17:20:22.311243Z"
    }
   },
   "outputs": [
    {
     "data": {
      "text/plain": [
       "22.088004870141926"
      ]
     },
     "execution_count": 108,
     "metadata": {},
     "output_type": "execute_result"
    }
   ],
   "source": [
    "\n",
    "de_model_tr_rmse= sqrt(mean_squared_error(de_model_train_predict, test[\"Available_beds\"]))\n",
    "de_model_tr_rmse\n"
   ]
  },
  {
   "cell_type": "markdown",
   "metadata": {},
   "source": [
    "* Double exponential smoothing train RMSE:"
   ]
  },
  {
   "cell_type": "code",
   "execution_count": 110,
   "metadata": {
    "ExecuteTime": {
     "end_time": "2021-09-12T17:20:22.369867Z",
     "start_time": "2021-09-12T17:20:22.341938Z"
    }
   },
   "outputs": [
    {
     "data": {
      "text/plain": [
       "28.98445926023459"
      ]
     },
     "execution_count": 110,
     "metadata": {},
     "output_type": "execute_result"
    }
   ],
   "source": [
    "de_model= ExponentialSmoothing(val_tr)\n",
    "de_model= de_model.fit()\n",
    "d = de_model.predict(start=\"2021-04-17\", end= \"2021-06-15\")\n",
    "d\n",
    "\n",
    "\n",
    "de_model_test_rmse= sqrt(mean_squared_error(d, val_test[\"Available_beds\"]))\n",
    "de_model_test_rmse"
   ]
  },
  {
   "cell_type": "markdown",
   "metadata": {},
   "source": [
    "*  double exponential test RMSE"
   ]
  },
  {
   "cell_type": "code",
   "execution_count": 114,
   "metadata": {
    "ExecuteTime": {
     "end_time": "2021-09-12T17:20:22.448708Z",
     "start_time": "2021-09-12T17:20:22.418734Z"
    }
   },
   "outputs": [
    {
     "data": {
      "text/plain": [
       "2020-12-18    647.032587\n",
       "2020-12-19    647.032587\n",
       "2020-12-20    647.032587\n",
       "2020-12-21    647.032587\n",
       "2020-12-22    647.032587\n",
       "                 ...    \n",
       "2021-06-11    647.032587\n",
       "2021-06-12    647.032587\n",
       "2021-06-13    647.032587\n",
       "2021-06-14    647.032587\n",
       "2021-06-15    647.032587\n",
       "Freq: D, Length: 180, dtype: float64"
      ]
     },
     "execution_count": 114,
     "metadata": {},
     "output_type": "execute_result"
    }
   ],
   "source": [
    "train_data\n",
    "de_model= ExponentialSmoothing(train_data)\n",
    "de_model= de_model.fit()\n",
    "de_model_whole_predict = de_model.predict(start=\"2020-12-18\", end= \"2021-06-15\")\n",
    "de_model_whole_predict"
   ]
  },
  {
   "cell_type": "code",
   "execution_count": 115,
   "metadata": {
    "ExecuteTime": {
     "end_time": "2021-09-12T17:20:22.464649Z",
     "start_time": "2021-09-12T17:20:22.449651Z"
    }
   },
   "outputs": [
    {
     "data": {
      "text/plain": [
       "30.520190889060995"
      ]
     },
     "execution_count": 115,
     "metadata": {},
     "output_type": "execute_result"
    }
   ],
   "source": [
    "de_model_whole_rmse= sqrt(mean_squared_error(de_model_whole_predict, test_data[\"Available_beds\"]))\n",
    "de_model_whole_rmse"
   ]
  },
  {
   "cell_type": "markdown",
   "metadata": {},
   "source": [
    "* DOUBLE EXPONENTIAL SMOOTHING WHOLE DATA RMSE"
   ]
  },
  {
   "cell_type": "code",
   "execution_count": null,
   "metadata": {},
   "outputs": [],
   "source": []
  },
  {
   "cell_type": "markdown",
   "metadata": {
    "ExecuteTime": {
     "end_time": "2021-09-02T11:53:32.878274Z",
     "start_time": "2021-09-02T11:53:32.869875Z"
    }
   },
   "source": [
    "##  holts winter method:"
   ]
  },
  {
   "cell_type": "code",
   "execution_count": 116,
   "metadata": {
    "ExecuteTime": {
     "end_time": "2021-09-12T17:20:22.512519Z",
     "start_time": "2021-09-12T17:20:22.465608Z"
    }
   },
   "outputs": [
    {
     "data": {
      "text/plain": [
       "array([670.28835238, 657.19491444, 657.56226427, 664.24232998,\n",
       "       657.24136302, 665.75019933, 670.80703102, 668.11461614,\n",
       "       677.76669397, 673.13155779, 671.3895872 , 665.31449702,\n",
       "       658.94063183, 672.53828595, 662.67930556, 670.28835238,\n",
       "       657.19491444, 657.56226427, 664.24232998, 657.24136302,\n",
       "       665.75019933, 670.80703102, 668.11461614, 677.76669397,\n",
       "       673.13155779, 671.3895872 , 665.31449702, 658.94063183,\n",
       "       672.53828595, 662.67930556, 670.28835238, 657.19491444,\n",
       "       657.56226427, 664.24232998, 657.24136302, 665.75019933,\n",
       "       670.80703102, 668.11461614, 677.76669397, 673.13155779,\n",
       "       671.3895872 , 665.31449702, 658.94063183, 672.53828595,\n",
       "       662.67930556, 670.28835238])"
      ]
     },
     "execution_count": 116,
     "metadata": {},
     "output_type": "execute_result"
    }
   ],
   "source": [
    "tr\n",
    "hw_model = ExponentialSmoothing(tr.values, seasonal = \"add\", seasonal_periods= 15).fit()\n",
    "yhat_hw_model= hw_model.forecast(len(test))\n",
    "yhat_hw_model\n"
   ]
  },
  {
   "cell_type": "code",
   "execution_count": 147,
   "metadata": {
    "ExecuteTime": {
     "end_time": "2021-09-12T17:46:13.034532Z",
     "start_time": "2021-09-12T17:46:12.843783Z"
    }
   },
   "outputs": [
    {
     "data": {
      "image/png": "[encoded data removed]",
      "text/plain": [
       "<Figure size 720x576 with 1 Axes>"
      ]
     },
     "metadata": {
      "needs_background": "light"
     },
     "output_type": "display_data"
    }
   ],
   "source": [
    "plt.figure(figsize=(10,8))\n",
    "plt.plot(yhat_hw_model, label= \"forecasted\")\n",
    "plt.plot(tr[\"Available_beds\"], label = \"train\")\n",
    "plt.plot(test[\"Available_beds\"], label = \"test\")\n",
    "plt.legend(loc=\"upper right\")\n",
    "plt.show()"
   ]
  },
  {
   "cell_type": "code",
   "execution_count": 117,
   "metadata": {
    "ExecuteTime": {
     "end_time": "2021-09-12T17:20:22.528495Z",
     "start_time": "2021-09-12T17:20:22.513480Z"
    }
   },
   "outputs": [
    {
     "data": {
      "text/plain": [
       "21.605488034576403"
      ]
     },
     "execution_count": 117,
     "metadata": {},
     "output_type": "execute_result"
    }
   ],
   "source": [
    "hw_train_rmse= sqrt(mean_squared_error(yhat_hw_model, test[\"Available_beds\"]))\n",
    "hw_train_rmse"
   ]
  },
  {
   "cell_type": "markdown",
   "metadata": {},
   "source": [
    "* hw train RMSE"
   ]
  },
  {
   "cell_type": "code",
   "execution_count": 127,
   "metadata": {
    "ExecuteTime": {
     "end_time": "2021-09-12T17:22:20.487921Z",
     "start_time": "2021-09-12T17:22:20.447467Z"
    }
   },
   "outputs": [
    {
     "data": {
      "text/plain": [
       "28.284214729636908"
      ]
     },
     "execution_count": 127,
     "metadata": {},
     "output_type": "execute_result"
    }
   ],
   "source": [
    "\n",
    "hw_model = ExponentialSmoothing(val_tr.values, seasonal = \"add\", seasonal_periods= 15).fit()\n",
    "val_test[\"hw_forecasted\"]= hw_model.forecast(len(val_test))\n",
    "\n",
    "hw_test_rmse= sqrt(mean_squared_error(val_test[\"hw_forecasted\"], val_test[\"Available_beds\"]))\n",
    "hw_test_rmse"
   ]
  },
  {
   "cell_type": "markdown",
   "metadata": {},
   "source": [
    "* HW TESST RMSE"
   ]
  },
  {
   "cell_type": "code",
   "execution_count": 119,
   "metadata": {
    "ExecuteTime": {
     "end_time": "2021-09-12T17:20:22.640812Z",
     "start_time": "2021-09-12T17:20:22.578907Z"
    }
   },
   "outputs": [
    {
     "data": {
      "text/plain": [
       "array([636.72948774, 637.36832056, 646.8404647 , 638.81088034,\n",
       "       647.70183124, 648.42350676, 646.89410008, 658.95101224,\n",
       "       651.92282172, 654.13586811, 642.26411442, 640.62204727,\n",
       "       652.21180048, 640.41709209, 647.46829193, 636.72948774,\n",
       "       637.36832056, 646.8404647 , 638.81088034, 647.70183124,\n",
       "       648.42350676, 646.89410008, 658.95101224, 651.92282172,\n",
       "       654.13586811, 642.26411442, 640.62204727, 652.21180048,\n",
       "       640.41709209, 647.46829193, 636.72948774, 637.36832056,\n",
       "       646.8404647 , 638.81088034, 647.70183124, 648.42350676,\n",
       "       646.89410008, 658.95101224, 651.92282172, 654.13586811,\n",
       "       642.26411442, 640.62204727, 652.21180048, 640.41709209,\n",
       "       647.46829193, 636.72948774, 637.36832056, 646.8404647 ,\n",
       "       638.81088034, 647.70183124, 648.42350676, 646.89410008,\n",
       "       658.95101224, 651.92282172, 654.13586811, 642.26411442,\n",
       "       640.62204727, 652.21180048, 640.41709209, 647.46829193,\n",
       "       636.72948774, 637.36832056, 646.8404647 , 638.81088034,\n",
       "       647.70183124, 648.42350676, 646.89410008, 658.95101224,\n",
       "       651.92282172, 654.13586811, 642.26411442, 640.62204727,\n",
       "       652.21180048, 640.41709209, 647.46829193, 636.72948774,\n",
       "       637.36832056, 646.8404647 , 638.81088034, 647.70183124,\n",
       "       648.42350676, 646.89410008, 658.95101224, 651.92282172,\n",
       "       654.13586811, 642.26411442, 640.62204727, 652.21180048,\n",
       "       640.41709209, 647.46829193, 636.72948774, 637.36832056,\n",
       "       646.8404647 , 638.81088034, 647.70183124, 648.42350676,\n",
       "       646.89410008, 658.95101224, 651.92282172, 654.13586811,\n",
       "       642.26411442, 640.62204727, 652.21180048, 640.41709209,\n",
       "       647.46829193, 636.72948774, 637.36832056, 646.8404647 ,\n",
       "       638.81088034, 647.70183124, 648.42350676, 646.89410008,\n",
       "       658.95101224, 651.92282172, 654.13586811, 642.26411442,\n",
       "       640.62204727, 652.21180048, 640.41709209, 647.46829193,\n",
       "       636.72948774, 637.36832056, 646.8404647 , 638.81088034,\n",
       "       647.70183124, 648.42350676, 646.89410008, 658.95101224,\n",
       "       651.92282172, 654.13586811, 642.26411442, 640.62204727,\n",
       "       652.21180048, 640.41709209, 647.46829193, 636.72948774,\n",
       "       637.36832056, 646.8404647 , 638.81088034, 647.70183124,\n",
       "       648.42350676, 646.89410008, 658.95101224, 651.92282172,\n",
       "       654.13586811, 642.26411442, 640.62204727, 652.21180048,\n",
       "       640.41709209, 647.46829193, 636.72948774, 637.36832056,\n",
       "       646.8404647 , 638.81088034, 647.70183124, 648.42350676,\n",
       "       646.89410008, 658.95101224, 651.92282172, 654.13586811,\n",
       "       642.26411442, 640.62204727, 652.21180048, 640.41709209,\n",
       "       647.46829193, 636.72948774, 637.36832056, 646.8404647 ,\n",
       "       638.81088034, 647.70183124, 648.42350676, 646.89410008,\n",
       "       658.95101224, 651.92282172, 654.13586811, 642.26411442,\n",
       "       640.62204727, 652.21180048, 640.41709209, 647.46829193])"
      ]
     },
     "execution_count": 119,
     "metadata": {},
     "output_type": "execute_result"
    }
   ],
   "source": [
    "train_data\n",
    "hw_model = ExponentialSmoothing(train_data.values, seasonal = \"add\", seasonal_periods= 15).fit()\n",
    "yhat_hw_model= hw_model.forecast(len(test_data))\n",
    "yhat_hw_model"
   ]
  },
  {
   "cell_type": "code",
   "execution_count": 120,
   "metadata": {
    "ExecuteTime": {
     "end_time": "2021-09-12T17:20:22.656739Z",
     "start_time": "2021-09-12T17:20:22.641739Z"
    }
   },
   "outputs": [
    {
     "data": {
      "text/plain": [
       "31.884376592185216"
      ]
     },
     "execution_count": 120,
     "metadata": {},
     "output_type": "execute_result"
    }
   ],
   "source": [
    "hw_whole_rmse= sqrt(mean_squared_error(yhat_hw_model, test_data[\"Available_beds\"]))\n",
    "hw_whole_rmse"
   ]
  },
  {
   "cell_type": "markdown",
   "metadata": {},
   "source": [
    "* HW WHOLE DATA RMSE"
   ]
  },
  {
   "cell_type": "code",
   "execution_count": null,
   "metadata": {},
   "outputs": [],
   "source": []
  },
  {
   "cell_type": "code",
   "execution_count": null,
   "metadata": {},
   "outputs": [],
   "source": []
  },
  {
   "cell_type": "code",
   "execution_count": null,
   "metadata": {},
   "outputs": [],
   "source": []
  },
  {
   "cell_type": "code",
   "execution_count": null,
   "metadata": {},
   "outputs": [],
   "source": []
  },
  {
   "cell_type": "code",
   "execution_count": null,
   "metadata": {},
   "outputs": [],
   "source": []
  },
  {
   "cell_type": "code",
   "execution_count": null,
   "metadata": {},
   "outputs": [],
   "source": []
  },
  {
   "cell_type": "code",
   "execution_count": null,
   "metadata": {},
   "outputs": [],
   "source": []
  },
  {
   "cell_type": "code",
   "execution_count": null,
   "metadata": {},
   "outputs": [],
   "source": []
  },
  {
   "cell_type": "code",
   "execution_count": null,
   "metadata": {},
   "outputs": [],
   "source": []
  },
  {
   "cell_type": "code",
   "execution_count": null,
   "metadata": {},
   "outputs": [],
   "source": []
  },
  {
   "cell_type": "code",
   "execution_count": null,
   "metadata": {},
   "outputs": [],
   "source": []
  },
  {
   "cell_type": "code",
   "execution_count": null,
   "metadata": {},
   "outputs": [],
   "source": []
  },
  {
   "cell_type": "code",
   "execution_count": null,
   "metadata": {},
   "outputs": [],
   "source": []
  },
  {
   "cell_type": "code",
   "execution_count": null,
   "metadata": {},
   "outputs": [],
   "source": []
  },
  {
   "cell_type": "code",
   "execution_count": null,
   "metadata": {},
   "outputs": [],
   "source": []
  },
  {
   "cell_type": "code",
   "execution_count": null,
   "metadata": {},
   "outputs": [],
   "source": []
  },
  {
   "cell_type": "code",
   "execution_count": null,
   "metadata": {},
   "outputs": [],
   "source": []
  },
  {
   "cell_type": "code",
   "execution_count": null,
   "metadata": {},
   "outputs": [],
   "source": []
  },
  {
   "cell_type": "code",
   "execution_count": null,
   "metadata": {},
   "outputs": [],
   "source": []
  }
 ],
 "metadata": {
  "kernelspec": {
   "display_name": "Python 3",
   "language": "python",
   "name": "python3"
  },
  "language_info": {
   "codemirror_mode": {
    "name": "ipython",
    "version": 3
   },
   "file_extension": ".py",
   "mimetype": "text/x-python",
   "name": "python",
   "nbconvert_exporter": "python",
   "pygments_lexer": "ipython3",
   "version": "3.8.5"
  },
  "toc": {
   "base_numbering": 1,
   "nav_menu": {},
   "number_sections": true,
   "sideBar": true,
   "skip_h1_title": false,
   "title_cell": "Table of Contents",
   "title_sidebar": "Contents",
   "toc_cell": false,
   "toc_position": {},
   "toc_section_display": true,
   "toc_window_display": true
  }
 },
 "nbformat": 4,
 "nbformat_minor": 4
}
